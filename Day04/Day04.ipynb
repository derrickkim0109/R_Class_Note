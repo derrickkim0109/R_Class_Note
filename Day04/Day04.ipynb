{
 "cells": [
  {
   "cell_type": "markdown",
   "id": "elegant-novelty",
   "metadata": {},
   "source": [
    "# 반복문"
   ]
  },
  {
   "cell_type": "code",
   "execution_count": 1,
   "id": "short-speech",
   "metadata": {
    "collapsed": true
   },
   "outputs": [
    {
     "name": "stdout",
     "output_type": "stream",
     "text": [
      "[1] 1\n",
      "[1] 2\n",
      "[1] 3\n",
      "[1] 4\n",
      "[1] 5\n",
      "[1] 6\n",
      "[1] 7\n",
      "[1] 8\n",
      "[1] 9\n",
      "[1] 10\n"
     ]
    }
   ],
   "source": [
    "data <- 1:10\n",
    "for(i in data){\n",
    "    print(i)\n",
    "}"
   ]
  },
  {
   "cell_type": "code",
   "execution_count": 5,
   "id": "closing-ambassador",
   "metadata": {
    "collapsed": true
   },
   "outputs": [
    {
     "name": "stdout",
     "output_type": "stream",
     "text": [
      "2 * 1 = 2 \n",
      "2 * 2 = 4 \n",
      "2 * 3 = 6 \n",
      "2 * 4 = 8 \n",
      "2 * 5 = 10 \n",
      "2 * 6 = 12 \n",
      "2 * 7 = 14 \n",
      "2 * 8 = 16 \n",
      "2 * 9 = 18 \n",
      "3 * 1 = 3 \n",
      "3 * 2 = 6 \n",
      "3 * 3 = 9 \n",
      "3 * 4 = 12 \n",
      "3 * 5 = 15 \n",
      "3 * 6 = 18 \n",
      "3 * 7 = 21 \n",
      "3 * 8 = 24 \n",
      "3 * 9 = 27 \n",
      "4 * 1 = 4 \n",
      "4 * 2 = 8 \n",
      "4 * 3 = 12 \n",
      "4 * 4 = 16 \n",
      "4 * 5 = 20 \n",
      "4 * 6 = 24 \n",
      "4 * 7 = 28 \n",
      "4 * 8 = 32 \n",
      "4 * 9 = 36 \n",
      "5 * 1 = 5 \n",
      "5 * 2 = 10 \n",
      "5 * 3 = 15 \n",
      "5 * 4 = 20 \n",
      "5 * 5 = 25 \n",
      "5 * 6 = 30 \n",
      "5 * 7 = 35 \n",
      "5 * 8 = 40 \n",
      "5 * 9 = 45 \n",
      "6 * 1 = 6 \n",
      "6 * 2 = 12 \n",
      "6 * 3 = 18 \n",
      "6 * 4 = 24 \n",
      "6 * 5 = 30 \n",
      "6 * 6 = 36 \n",
      "6 * 7 = 42 \n",
      "6 * 8 = 48 \n",
      "6 * 9 = 54 \n",
      "7 * 1 = 7 \n",
      "7 * 2 = 14 \n",
      "7 * 3 = 21 \n",
      "7 * 4 = 28 \n",
      "7 * 5 = 35 \n",
      "7 * 6 = 42 \n",
      "7 * 7 = 49 \n",
      "7 * 8 = 56 \n",
      "7 * 9 = 63 \n",
      "8 * 1 = 8 \n",
      "8 * 2 = 16 \n",
      "8 * 3 = 24 \n",
      "8 * 4 = 32 \n",
      "8 * 5 = 40 \n",
      "8 * 6 = 48 \n",
      "8 * 7 = 56 \n",
      "8 * 8 = 64 \n",
      "8 * 9 = 72 \n",
      "9 * 1 = 9 \n",
      "9 * 2 = 18 \n",
      "9 * 3 = 27 \n",
      "9 * 4 = 36 \n",
      "9 * 5 = 45 \n",
      "9 * 6 = 54 \n",
      "9 * 7 = 63 \n",
      "9 * 8 = 72 \n",
      "9 * 9 = 81 \n"
     ]
    }
   ],
   "source": [
    "# 구구단\n",
    "dan <- 2:9\n",
    "num <- 1:9\n",
    "for(i in dan){\n",
    "    for(j in num){\n",
    "        cat(i,\"*\",j, \"=\", i*j, \"\\n\")\n",
    "    }\n",
    "}"
   ]
  },
  {
   "cell_type": "code",
   "execution_count": 7,
   "id": "competent-luther",
   "metadata": {
    "collapsed": true
   },
   "outputs": [
    {
     "name": "stdout",
     "output_type": "stream",
     "text": [
      "단을 입력해주세요4\n",
      "4 * 1 = 4 \n",
      "4 * 2 = 8 \n",
      "4 * 3 = 12 \n",
      "4 * 4 = 16 \n",
      "4 * 5 = 20 \n",
      "4 * 6 = 24 \n",
      "4 * 7 = 28 \n",
      "4 * 8 = 32 \n",
      "4 * 9 = 36 \n"
     ]
    }
   ],
   "source": [
    "# 사용자로 부터 몇단을 출력할지 단수를 입력받아 구구단 출력하기 \n",
    "dan1<- as.numeric(readline(\"단을 입력해주세요\"))\n",
    "num <- 1:9 \n",
    "    for(j in num){\n",
    "        cat(dan1,\"*\",j, \"=\", dan1*j, \"\\n\")\n",
    "}\n"
   ]
  },
  {
   "cell_type": "code",
   "execution_count": 8,
   "id": "tough-fellowship",
   "metadata": {},
   "outputs": [],
   "source": [
    "# 함수 만들기 코드 < 함수 < 패키지 \n",
    "# 구구단 함수 만들기 - 1 \n",
    "\n",
    "gugu <- function(){\n",
    "    dan1<- as.numeric(readline(\"단을 입력해주세요\"))\n",
    "    num <- 1:9 \n",
    "    for(j in num){\n",
    "        cat(dan1,\"*\",j, \"=\", dan1*j, \"\\n\")\n",
    "    }\n",
    "}\n",
    "\n"
   ]
  },
  {
   "cell_type": "code",
   "execution_count": 9,
   "id": "amateur-auckland",
   "metadata": {
    "collapsed": true
   },
   "outputs": [
    {
     "name": "stdout",
     "output_type": "stream",
     "text": [
      "단을 입력해주세요5\n",
      "5 * 1 = 5 \n",
      "5 * 2 = 10 \n",
      "5 * 3 = 15 \n",
      "5 * 4 = 20 \n",
      "5 * 5 = 25 \n",
      "5 * 6 = 30 \n",
      "5 * 7 = 35 \n",
      "5 * 8 = 40 \n",
      "5 * 9 = 45 \n"
     ]
    }
   ],
   "source": [
    "gugu()"
   ]
  },
  {
   "cell_type": "code",
   "execution_count": 10,
   "id": "turkish-title",
   "metadata": {
    "collapsed": true
   },
   "outputs": [
    {
     "name": "stdout",
     "output_type": "stream",
     "text": [
      "단을 입력해주세요1\n",
      "1 * 1 = 1 \n",
      "1 * 2 = 2 \n",
      "1 * 3 = 3 \n",
      "1 * 4 = 4 \n",
      "1 * 5 = 5 \n",
      "1 * 6 = 6 \n",
      "1 * 7 = 7 \n",
      "1 * 8 = 8 \n",
      "1 * 9 = 9 \n"
     ]
    }
   ],
   "source": [
    "gugu()"
   ]
  },
  {
   "cell_type": "code",
   "execution_count": 12,
   "id": "covered-thong",
   "metadata": {},
   "outputs": [],
   "source": [
    "# 구구단 함수 만들기 - 2 \n",
    "#gugu(2)어떻게 하면 이렇게 만드냐!??\n",
    "\n",
    "gugu <- function(dan){ \n",
    "    for(j in 1:9){\n",
    "        cat(dan,\"X\",j, \"=\", dan*j, \"\\n\")\n",
    "    }\n",
    "}\n"
   ]
  },
  {
   "cell_type": "code",
   "execution_count": 14,
   "id": "clean-energy",
   "metadata": {
    "collapsed": true
   },
   "outputs": [
    {
     "name": "stdout",
     "output_type": "stream",
     "text": [
      "8 X 1 = 8 \n",
      "8 X 2 = 16 \n",
      "8 X 3 = 24 \n",
      "8 X 4 = 32 \n",
      "8 X 5 = 40 \n",
      "8 X 6 = 48 \n",
      "8 X 7 = 56 \n",
      "8 X 8 = 64 \n",
      "8 X 9 = 72 \n"
     ]
    }
   ],
   "source": [
    "gugu(8)"
   ]
  },
  {
   "cell_type": "code",
   "execution_count": 20,
   "id": "consolidated-syracuse",
   "metadata": {},
   "outputs": [],
   "source": [
    "# 구구단 함수 만들기 - 3\n",
    "#gugu(2, 5)\n",
    "gugu <- function(dan, num){ \n",
    "    for(i in 1:num){\n",
    "        cat(dan,\"X\",i, \"=\", dan*i, \"\\n\")\n",
    "    }\n",
    "}\n"
   ]
  },
  {
   "cell_type": "code",
   "execution_count": 21,
   "id": "lucky-essay",
   "metadata": {},
   "outputs": [
    {
     "name": "stdout",
     "output_type": "stream",
     "text": [
      "2 X 1 = 2 \n",
      "2 X 2 = 4 \n",
      "2 X 3 = 6 \n",
      "2 X 4 = 8 \n"
     ]
    }
   ],
   "source": [
    "gugu(2,4)"
   ]
  },
  {
   "cell_type": "code",
   "execution_count": 25,
   "id": "naked-forge",
   "metadata": {
    "collapsed": true
   },
   "outputs": [
    {
     "name": "stdout",
     "output_type": "stream",
     "text": [
      "---- 2 단 ----\n",
      "2 * 1 = 2 \n",
      "2 * 2 = 4 \n",
      "2 * 3 = 6 \n",
      "2 * 4 = 8 \n",
      "2 * 5 = 10 \n",
      "2 * 6 = 12 \n",
      "2 * 7 = 14 \n",
      "2 * 8 = 16 \n",
      "2 * 9 = 18 \n",
      "---- 3 단 ----\n",
      "3 * 1 = 3 \n",
      "3 * 2 = 6 \n",
      "3 * 3 = 9 \n",
      "3 * 4 = 12 \n",
      "3 * 5 = 15 \n",
      "3 * 6 = 18 \n",
      "3 * 7 = 21 \n",
      "3 * 8 = 24 \n",
      "3 * 9 = 27 \n",
      "---- 4 단 ----\n",
      "4 * 1 = 4 \n",
      "4 * 2 = 8 \n",
      "4 * 3 = 12 \n",
      "4 * 4 = 16 \n",
      "4 * 5 = 20 \n",
      "4 * 6 = 24 \n",
      "4 * 7 = 28 \n",
      "4 * 8 = 32 \n",
      "4 * 9 = 36 \n",
      "---- 5 단 ----\n",
      "5 * 1 = 5 \n",
      "5 * 2 = 10 \n",
      "5 * 3 = 15 \n",
      "5 * 4 = 20 \n",
      "5 * 5 = 25 \n",
      "5 * 6 = 30 \n",
      "5 * 7 = 35 \n",
      "5 * 8 = 40 \n",
      "5 * 9 = 45 \n",
      "---- 6 단 ----\n",
      "6 * 1 = 6 \n",
      "6 * 2 = 12 \n",
      "6 * 3 = 18 \n",
      "6 * 4 = 24 \n",
      "6 * 5 = 30 \n",
      "6 * 6 = 36 \n",
      "6 * 7 = 42 \n",
      "6 * 8 = 48 \n",
      "6 * 9 = 54 \n",
      "---- 7 단 ----\n",
      "7 * 1 = 7 \n",
      "7 * 2 = 14 \n",
      "7 * 3 = 21 \n",
      "7 * 4 = 28 \n",
      "7 * 5 = 35 \n",
      "7 * 6 = 42 \n",
      "7 * 7 = 49 \n",
      "7 * 8 = 56 \n",
      "7 * 9 = 63 \n",
      "---- 8 단 ----\n",
      "8 * 1 = 8 \n",
      "8 * 2 = 16 \n",
      "8 * 3 = 24 \n",
      "8 * 4 = 32 \n",
      "8 * 5 = 40 \n",
      "8 * 6 = 48 \n",
      "8 * 7 = 56 \n",
      "8 * 8 = 64 \n",
      "8 * 9 = 72 \n",
      "---- 9 단 ----\n",
      "9 * 1 = 9 \n",
      "9 * 2 = 18 \n",
      "9 * 3 = 27 \n",
      "9 * 4 = 36 \n",
      "9 * 5 = 45 \n",
      "9 * 6 = 54 \n",
      "9 * 7 = 63 \n",
      "9 * 8 = 72 \n",
      "9 * 9 = 81 \n"
     ]
    }
   ],
   "source": [
    "# 구구단 전체 출력\n",
    "dan <- 2:9\n",
    "num <- 1:9\n",
    "for(i in dan){\n",
    "    cat(\"----\", i, \"단 ----\\n\")\n",
    "    for(j in num){\n",
    "        cat(i,\"*\",j, \"=\", i*j, \"\\n\")\n",
    "    }\n",
    "}"
   ]
  },
  {
   "cell_type": "code",
   "execution_count": 31,
   "id": "turned-entrance",
   "metadata": {},
   "outputs": [
    {
     "name": "stdout",
     "output_type": "stream",
     "text": [
      "2 * 2 = 4 \n",
      "2 * 4 = 8 \n",
      "2 * 6 = 12 \n",
      "2 * 8 = 16 \n",
      "4 * 2 = 8 \n",
      "4 * 4 = 16 \n",
      "4 * 6 = 24 \n",
      "4 * 8 = 32 \n",
      "6 * 2 = 12 \n",
      "6 * 4 = 24 \n",
      "6 * 6 = 36 \n",
      "6 * 8 = 48 \n",
      "8 * 2 = 16 \n",
      "8 * 4 = 32 \n",
      "8 * 6 = 48 \n",
      "8 * 8 = 64 \n",
      "2 * 2 = 4 \n",
      "2 * 4 = 8 \n",
      "2 * 6 = 12 \n",
      "2 * 8 = 16 \n",
      "4 * 2 = 8 \n",
      "4 * 4 = 16 \n",
      "4 * 6 = 24 \n",
      "4 * 8 = 32 \n",
      "6 * 2 = 12 \n",
      "6 * 4 = 24 \n",
      "6 * 6 = 36 \n",
      "6 * 8 = 48 \n",
      "8 * 2 = 16 \n",
      "8 * 4 = 32 \n",
      "8 * 6 = 48 \n",
      "8 * 8 = 64 \n"
     ]
    }
   ],
   "source": [
    "# 구구단 중 짝수단과 짝수 곱해지는 수만 출력하기 \n",
    "dan <- 2:9\n",
    "num <- 1:9\n",
    "\n",
    "for(i in dan){\n",
    "    for(j in num){\n",
    "        if(i %% 2 == 0 & j %%2 ==0){\n",
    "        cat(i,\"*\",j, \"=\", i*j, \"\\n\")\n",
    "            }\n",
    "    }\n",
    "}\n",
    "\n",
    "# if 없이 하기 \n",
    "\n",
    "for(i in seq(2,9,2)){\n",
    "    for(j in seq(2,9,2)){\n",
    "        cat(i,\"*\",j, \"=\", i*j, \"\\n\")\n",
    "    }\n",
    "}"
   ]
  },
  {
   "cell_type": "code",
   "execution_count": 85,
   "id": "collective-jewelry",
   "metadata": {
    "collapsed": true
   },
   "outputs": [
    {
     "name": "stdout",
     "output_type": "stream",
     "text": [
      "유비 : 85 \n",
      "관우 : 95 \n",
      "장비 : 89 \n"
     ]
    }
   ],
   "source": [
    "# 2개의 벡터 자료를 함께 출력하기 \n",
    "\n",
    "score <- c(85,95,89)\n",
    "name <- c(\"유비\", \"관우\", \"장비\")\n",
    "#paste\n",
    "cat(paste(name ,\":\" ,score, \"\\n\"), sep = \"\")\n",
    "\n",
    "for(i in 1:3){\n",
    "    cat(name[i],\" : \",score[i],\"\\n\")\n",
    "}\n"
   ]
  },
  {
   "cell_type": "markdown",
   "id": "governmental-minutes",
   "metadata": {},
   "source": [
    "# While"
   ]
  },
  {
   "cell_type": "code",
   "execution_count": 87,
   "id": "textile-smell",
   "metadata": {
    "collapsed": true
   },
   "outputs": [
    {
     "name": "stdout",
     "output_type": "stream",
     "text": [
      "[1] 1\n",
      "[1] 2\n",
      "[1] 3\n",
      "[1] 4\n",
      "[1] 5\n",
      "[1] 6\n",
      "[1] 7\n",
      "[1] 8\n",
      "[1] 9\n",
      "[1] 10\n"
     ]
    }
   ],
   "source": [
    "# 무한 반복 \n",
    "i <- 0 \n",
    "while(i < 10){\n",
    "    i = i + 1\n",
    "    print(i)\n",
    "}"
   ]
  },
  {
   "cell_type": "code",
   "execution_count": 88,
   "id": "favorite-dover",
   "metadata": {},
   "outputs": [
    {
     "name": "stdout",
     "output_type": "stream",
     "text": [
      "[1] 1\n",
      "[1] 2\n",
      "[1] 3\n",
      "[1] 4\n",
      "[1] 5\n",
      "[1] 6\n",
      "[1] 7\n",
      "[1] 8\n",
      "[1] 9\n",
      "[1] 10\n"
     ]
    }
   ],
   "source": [
    "i <- 0 \n",
    "while(T){\n",
    "    i = i + 1\n",
    "    print(i)\n",
    "    if(i > 9){\n",
    "        break;\n",
    "    }\n",
    "}"
   ]
  },
  {
   "cell_type": "markdown",
   "id": "residential-adventure",
   "metadata": {},
   "source": [
    "# repeat "
   ]
  },
  {
   "cell_type": "code",
   "execution_count": 89,
   "id": "stuck-suffering",
   "metadata": {},
   "outputs": [
    {
     "name": "stdout",
     "output_type": "stream",
     "text": [
      "[1] 1\n",
      "[1] 2\n",
      "[1] 3\n",
      "[1] 4\n",
      "[1] 5\n",
      "[1] 6\n",
      "[1] 7\n",
      "[1] 8\n",
      "[1] 9\n",
      "[1] 10\n"
     ]
    }
   ],
   "source": [
    "# 유일하게 함수중에 repeat는 ()가 없다. \n",
    "i <- 0\n",
    "repeat{\n",
    "    i = i + 1\n",
    "    if(i > 10){\n",
    "        break\n",
    "    }\n",
    "    print(i)\n",
    "}"
   ]
  },
  {
   "cell_type": "markdown",
   "id": "boring-expansion",
   "metadata": {},
   "source": [
    "----\n",
    "# 함수 \n",
    ": 함수는 코드의 집합이다. \n",
    "  함수는 두가지로 분류 된다. "
   ]
  },
  {
   "cell_type": "code",
   "execution_count": 93,
   "id": "detailed-instrument",
   "metadata": {
    "collapsed": true
   },
   "outputs": [
    {
     "data": {
      "text/html": [
       "10"
      ],
      "text/latex": [
       "10"
      ],
      "text/markdown": [
       "10"
      ],
      "text/plain": [
       "[1] 10"
      ]
     },
     "metadata": {},
     "output_type": "display_data"
    },
    {
     "data": {
      "text/html": [
       "20"
      ],
      "text/latex": [
       "20"
      ],
      "text/markdown": [
       "20"
      ],
      "text/plain": [
       "[1] 20"
      ]
     },
     "metadata": {},
     "output_type": "display_data"
    },
    {
     "data": {
      "text/html": [
       "15"
      ],
      "text/latex": [
       "15"
      ],
      "text/markdown": [
       "15"
      ],
      "text/plain": [
       "[1] 15"
      ]
     },
     "metadata": {},
     "output_type": "display_data"
    },
    {
     "data": {
      "text/html": [
       "15"
      ],
      "text/latex": [
       "15"
      ],
      "text/markdown": [
       "15"
      ],
      "text/plain": [
       "[1] 15"
      ]
     },
     "metadata": {},
     "output_type": "display_data"
    },
    {
     "data": {
      "text/html": [
       "165"
      ],
      "text/latex": [
       "165"
      ],
      "text/markdown": [
       "165"
      ],
      "text/plain": [
       "[1] 165"
      ]
     },
     "metadata": {},
     "output_type": "display_data"
    },
    {
     "data": {
      "text/html": [
       "3.3166247903554"
      ],
      "text/latex": [
       "3.3166247903554"
      ],
      "text/markdown": [
       "3.3166247903554"
      ],
      "text/plain": [
       "[1] 3.316625"
      ]
     },
     "metadata": {},
     "output_type": "display_data"
    },
    {
     "data": {
      "text/plain": [
       "   Min. 1st Qu.  Median    Mean 3rd Qu.    Max. \n",
       "   10.0    12.5    15.0    15.0    17.5    20.0 "
      ]
     },
     "metadata": {},
     "output_type": "display_data"
    },
    {
     "data": {
      "text/plain": [
       "vec\n",
       "10 11 12 13 14 15 16 17 18 19 20 \n",
       " 1  1  1  1  1  1  1  1  1  1  1 "
      ]
     },
     "metadata": {},
     "output_type": "display_data"
    },
    {
     "data": {
      "text/html": [
       "<ol class=list-inline>\n",
       "\t<li>10</li>\n",
       "\t<li>20</li>\n",
       "</ol>\n"
      ],
      "text/latex": [
       "\\begin{enumerate*}\n",
       "\\item 10\n",
       "\\item 20\n",
       "\\end{enumerate*}\n"
      ],
      "text/markdown": [
       "1. 10\n",
       "2. 20\n",
       "\n",
       "\n"
      ],
      "text/plain": [
       "[1] 10 20"
      ]
     },
     "metadata": {},
     "output_type": "display_data"
    }
   ],
   "source": [
    "# 주요 내장 함수 \n",
    "vec <- 10:20\n",
    "\n",
    "# 최소값\n",
    "min(vec) \n",
    "\n",
    "# 최대값\n",
    "max(vec)\n",
    "\n",
    "# 평균\n",
    "mean(vec)\n",
    "\n",
    "# 중앙값\n",
    "median(vec)\n",
    "\n",
    "# 합계\n",
    "sum(vec)\n",
    "\n",
    "# 표준편차\n",
    "sd(vec)\n",
    "\n",
    "# 기본 통계량\n",
    "summary(vec)\n",
    "\n",
    "# 빈도수 --> 그림화 시킨것이 히스토그램이다.!\n",
    "table(vec)\n",
    "\n",
    "# 범위값\n",
    "range(vec)"
   ]
  },
  {
   "cell_type": "markdown",
   "id": "narrative-master",
   "metadata": {},
   "source": [
    "# 사용자 정의 함수 \n",
    "*****이걸 잘 써야 편하게 데이터 분석이 가능하다."
   ]
  },
  {
   "cell_type": "code",
   "execution_count": 107,
   "id": "neural-textbook",
   "metadata": {},
   "outputs": [],
   "source": [
    "# 인수가 없는 함수 \n",
    "test1 <- function(){\n",
    "    x <- 10 \n",
    "    y <- 20 \n",
    "    return(x * y)\n",
    "}"
   ]
  },
  {
   "cell_type": "code",
   "execution_count": 108,
   "id": "congressional-heather",
   "metadata": {},
   "outputs": [
    {
     "data": {
      "text/html": [
       "200"
      ],
      "text/latex": [
       "200"
      ],
      "text/markdown": [
       "200"
      ],
      "text/plain": [
       "[1] 200"
      ]
     },
     "metadata": {},
     "output_type": "display_data"
    }
   ],
   "source": [
    "# 자체적으로 프린트 해버린다. 그래서 프린트 잘안씀 --> return 많이 씀 \n",
    "a <- test1()\n",
    "a"
   ]
  },
  {
   "cell_type": "code",
   "execution_count": 112,
   "id": "dirty-christian",
   "metadata": {},
   "outputs": [],
   "source": [
    "# 인수가 있는 함수\n",
    "test2 <- function(i,j){\n",
    "    return (sum(i,j))\n",
    "}"
   ]
  },
  {
   "cell_type": "code",
   "execution_count": 113,
   "id": "fantastic-sunglasses",
   "metadata": {},
   "outputs": [
    {
     "data": {
      "text/html": [
       "33"
      ],
      "text/latex": [
       "33"
      ],
      "text/markdown": [
       "33"
      ],
      "text/plain": [
       "[1] 33"
      ]
     },
     "metadata": {},
     "output_type": "display_data"
    }
   ],
   "source": [
    "test2(11,22)"
   ]
  },
  {
   "cell_type": "markdown",
   "id": "involved-software",
   "metadata": {},
   "source": [
    "# 기술 통계량을 계산하는 함수 정의 "
   ]
  },
  {
   "cell_type": "code",
   "execution_count": 117,
   "id": "union-experience",
   "metadata": {},
   "outputs": [
    {
     "data": {
      "text/html": [
       "<table>\n",
       "<thead><tr><th scope=col>A</th><th scope=col>B</th><th scope=col>C</th><th scope=col>D</th><th scope=col>E</th></tr></thead>\n",
       "<tbody>\n",
       "\t<tr><td>2</td><td>4</td><td>4</td><td>2</td><td>2</td></tr>\n",
       "\t<tr><td>1</td><td>2</td><td>2</td><td>2</td><td>2</td></tr>\n",
       "\t<tr><td>2</td><td>3</td><td>4</td><td>3</td><td>3</td></tr>\n",
       "\t<tr><td>3</td><td>5</td><td>5</td><td>3</td><td>3</td></tr>\n",
       "\t<tr><td>3</td><td>2</td><td>4</td><td>4</td><td>4</td></tr>\n",
       "\t<tr><td>4</td><td>3</td><td>3</td><td>4</td><td>2</td></tr>\n",
       "</tbody>\n",
       "</table>\n"
      ],
      "text/latex": [
       "\\begin{tabular}{r|lllll}\n",
       " A & B & C & D & E\\\\\n",
       "\\hline\n",
       "\t 2 & 4 & 4 & 2 & 2\\\\\n",
       "\t 1 & 2 & 2 & 2 & 2\\\\\n",
       "\t 2 & 3 & 4 & 3 & 3\\\\\n",
       "\t 3 & 5 & 5 & 3 & 3\\\\\n",
       "\t 3 & 2 & 4 & 4 & 4\\\\\n",
       "\t 4 & 3 & 3 & 4 & 2\\\\\n",
       "\\end{tabular}\n"
      ],
      "text/markdown": [
       "\n",
       "| A | B | C | D | E |\n",
       "|---|---|---|---|---|\n",
       "| 2 | 4 | 4 | 2 | 2 |\n",
       "| 1 | 2 | 2 | 2 | 2 |\n",
       "| 2 | 3 | 4 | 3 | 3 |\n",
       "| 3 | 5 | 5 | 3 | 3 |\n",
       "| 3 | 2 | 4 | 4 | 4 |\n",
       "| 4 | 3 | 3 | 4 | 2 |\n",
       "\n"
      ],
      "text/plain": [
       "  A B C D E\n",
       "1 2 4 4 2 2\n",
       "2 1 2 2 2 2\n",
       "3 2 3 4 3 3\n",
       "4 3 5 5 3 3\n",
       "5 3 2 4 4 4\n",
       "6 4 3 3 4 2"
      ]
     },
     "metadata": {},
     "output_type": "display_data"
    }
   ],
   "source": [
    "testC <- read.csv(\"../Data/test.csv\")\n",
    "head(testC)"
   ]
  },
  {
   "cell_type": "code",
   "execution_count": 118,
   "id": "forced-leonard",
   "metadata": {},
   "outputs": [
    {
     "data": {
      "text/html": [
       "<table>\n",
       "<thead><tr><th></th><th scope=col>A</th><th scope=col>B</th><th scope=col>C</th><th scope=col>D</th><th scope=col>E</th></tr></thead>\n",
       "<tbody>\n",
       "\t<tr><th scope=row>397</th><td>2</td><td>3</td><td>5</td><td>2</td><td>4</td></tr>\n",
       "\t<tr><th scope=row>398</th><td>4</td><td>3</td><td>3</td><td>2</td><td>4</td></tr>\n",
       "\t<tr><th scope=row>399</th><td>2</td><td>4</td><td>4</td><td>2</td><td>3</td></tr>\n",
       "\t<tr><th scope=row>400</th><td>2</td><td>2</td><td>5</td><td>2</td><td>4</td></tr>\n",
       "\t<tr><th scope=row>401</th><td>2</td><td>3</td><td>4</td><td>2</td><td>4</td></tr>\n",
       "\t<tr><th scope=row>402</th><td>2</td><td>2</td><td>4</td><td>2</td><td>4</td></tr>\n",
       "</tbody>\n",
       "</table>\n"
      ],
      "text/latex": [
       "\\begin{tabular}{r|lllll}\n",
       "  & A & B & C & D & E\\\\\n",
       "\\hline\n",
       "\t397 & 2 & 3 & 5 & 2 & 4\\\\\n",
       "\t398 & 4 & 3 & 3 & 2 & 4\\\\\n",
       "\t399 & 2 & 4 & 4 & 2 & 3\\\\\n",
       "\t400 & 2 & 2 & 5 & 2 & 4\\\\\n",
       "\t401 & 2 & 3 & 4 & 2 & 4\\\\\n",
       "\t402 & 2 & 2 & 4 & 2 & 4\\\\\n",
       "\\end{tabular}\n"
      ],
      "text/markdown": [
       "\n",
       "| <!--/--> | A | B | C | D | E |\n",
       "|---|---|---|---|---|---|\n",
       "| 397 | 2 | 3 | 5 | 2 | 4 |\n",
       "| 398 | 4 | 3 | 3 | 2 | 4 |\n",
       "| 399 | 2 | 4 | 4 | 2 | 3 |\n",
       "| 400 | 2 | 2 | 5 | 2 | 4 |\n",
       "| 401 | 2 | 3 | 4 | 2 | 4 |\n",
       "| 402 | 2 | 2 | 4 | 2 | 4 |\n",
       "\n"
      ],
      "text/plain": [
       "    A B C D E\n",
       "397 2 3 5 2 4\n",
       "398 4 3 3 2 4\n",
       "399 2 4 4 2 3\n",
       "400 2 2 5 2 4\n",
       "401 2 3 4 2 4\n",
       "402 2 2 4 2 4"
      ]
     },
     "metadata": {},
     "output_type": "display_data"
    }
   ],
   "source": [
    "tail(testC)"
   ]
  },
  {
   "cell_type": "code",
   "execution_count": 119,
   "id": "ideal-switch",
   "metadata": {},
   "outputs": [
    {
     "name": "stdout",
     "output_type": "stream",
     "text": [
      "'data.frame':\t402 obs. of  5 variables:\n",
      " $ A: int  2 1 2 3 3 4 3 4 4 4 ...\n",
      " $ B: int  4 2 3 5 2 3 4 2 4 2 ...\n",
      " $ C: int  4 2 4 5 4 3 4 4 5 4 ...\n",
      " $ D: int  2 2 3 3 4 4 2 4 3 2 ...\n",
      " $ E: int  2 2 3 3 4 2 2 4 4 3 ...\n"
     ]
    }
   ],
   "source": [
    "str(testC)"
   ]
  },
  {
   "cell_type": "code",
   "execution_count": 120,
   "id": "supreme-alcohol",
   "metadata": {},
   "outputs": [
    {
     "data": {
      "text/plain": [
       "       A               B               C               D              E        \n",
       " Min.   :1.000   Min.   :1.000   Min.   :1.000   Min.   :1.00   Min.   :1.000  \n",
       " 1st Qu.:2.000   1st Qu.:2.000   1st Qu.:3.000   1st Qu.:2.00   1st Qu.:3.000  \n",
       " Median :3.000   Median :3.000   Median :4.000   Median :2.00   Median :4.000  \n",
       " Mean   :2.734   Mean   :2.908   Mean   :3.622   Mean   :2.51   Mean   :3.386  \n",
       " 3rd Qu.:3.000   3rd Qu.:4.000   3rd Qu.:4.000   3rd Qu.:3.00   3rd Qu.:4.000  \n",
       " Max.   :5.000   Max.   :5.000   Max.   :5.000   Max.   :4.00   Max.   :5.000  "
      ]
     },
     "metadata": {},
     "output_type": "display_data"
    }
   ],
   "source": [
    "# 기본 통계량 보기 \n",
    "summary(testC)"
   ]
  },
  {
   "cell_type": "code",
   "execution_count": 129,
   "id": "addressed-estonia",
   "metadata": {},
   "outputs": [
    {
     "data": {
      "text/html": [
       "5"
      ],
      "text/latex": [
       "5"
      ],
      "text/markdown": [
       "5"
      ],
      "text/plain": [
       "[1] 5"
      ]
     },
     "metadata": {},
     "output_type": "display_data"
    },
    {
     "data": {
      "text/html": [
       "1"
      ],
      "text/latex": [
       "1"
      ],
      "text/markdown": [
       "1"
      ],
      "text/plain": [
       "[1] 1"
      ]
     },
     "metadata": {},
     "output_type": "display_data"
    },
    {
     "data": {
      "text/plain": [
       "\n",
       "  1   2   3   4   5 \n",
       " 30 133 156  80   3 "
      ]
     },
     "metadata": {},
     "output_type": "display_data"
    },
    {
     "data": {
      "text/plain": [
       "\n",
       "  1   2   3   4   5 \n",
       " 30 133 156  80   3 "
      ]
     },
     "metadata": {},
     "output_type": "display_data"
    }
   ],
   "source": [
    "# A컬럼의 최대값, 최소값, 빈도수\n",
    "max(testC$A)\n",
    "min(testC$A)\n",
    "table(testC$A)\n"
   ]
  },
  {
   "cell_type": "code",
   "execution_count": 149,
   "id": "multiple-diagram",
   "metadata": {},
   "outputs": [
    {
     "name": "stdout",
     "output_type": "stream",
     "text": [
      "A 컬럼의 빈도 분석 결과\n",
      "  1   2   3   4   5 \n",
      " 30 133 156  80   3 \n",
      "----------------------------\n",
      "B 컬럼의 빈도 분석 결과\n",
      "  1   2   3   4   5 \n",
      " 16 150  98 131   7 \n",
      "----------------------------\n",
      "C 컬럼의 빈도 분석 결과\n",
      "  1   2   3   4   5 \n",
      "  3  74  72 176  77 \n",
      "----------------------------\n",
      "D 컬럼의 빈도 분석 결과\n",
      "  1   2   3   4 \n",
      " 30 178 153  41 \n",
      "----------------------------\n",
      "E 컬럼의 빈도 분석 결과\n",
      "  1   2   3   4   5 \n",
      "  8  81 107 160  46 \n",
      "----------------------------\n"
     ]
    }
   ],
   "source": [
    "# 각 컬럼 간의 빈도수를 for문을 이용하여 구해!\n",
    "\n",
    "for(i in 1:ncol(testC)){\n",
    "    cat(colnames(testC)[i], \"컬럼의 빈도 분석 결과\")\n",
    "    \n",
    "    print(table(testC[,i]))\n",
    "    \n",
    "    cat(\"----------------------------\\n\")\n",
    "}"
   ]
  },
  {
   "cell_type": "code",
   "execution_count": 146,
   "id": "vocational-trash",
   "metadata": {},
   "outputs": [
    {
     "data": {
      "text/html": [
       "'A'"
      ],
      "text/latex": [
       "'A'"
      ],
      "text/markdown": [
       "'A'"
      ],
      "text/plain": [
       "[1] \"A\""
      ]
     },
     "metadata": {},
     "output_type": "display_data"
    }
   ],
   "source": [
    "colnames(testC)[1]"
   ]
  },
  {
   "cell_type": "code",
   "execution_count": 160,
   "id": "developing-paintball",
   "metadata": {},
   "outputs": [
    {
     "name": "stdout",
     "output_type": "stream",
     "text": [
      "A 컬럼의 빈도수의 최대값과 최소값\n",
      "최대값: 156 , 최소값: 3 \n",
      "----------------------------\n",
      "B 컬럼의 빈도수의 최대값과 최소값\n",
      "최대값: 150 , 최소값: 7 \n",
      "----------------------------\n",
      "C 컬럼의 빈도수의 최대값과 최소값\n",
      "최대값: 176 , 최소값: 3 \n",
      "----------------------------\n",
      "D 컬럼의 빈도수의 최대값과 최소값\n",
      "최대값: 178 , 최소값: 30 \n",
      "----------------------------\n",
      "E 컬럼의 빈도수의 최대값과 최소값\n",
      "최대값: 160 , 최소값: 8 \n",
      "----------------------------\n"
     ]
    }
   ],
   "source": [
    "#각 컬럼의 빈도수의 최대값과 최소값 구하기 \n",
    "\n",
    "for(i in 1:ncol(testC)){\n",
    "    cat(colnames(testC)[i], \"컬럼의 빈도수의 최대값과 최소값\\n\")\n",
    "    \n",
    "    f <- table(testC[,i])\n",
    "    cat(\"최대값:\",max(f),\",\",\"최소값:\",min(f), \"\\n\")\n",
    "    \n",
    "    cat(\"----------------------------\\n\")\n",
    "}\n"
   ]
  },
  {
   "cell_type": "code",
   "execution_count": 166,
   "id": "swedish-palmer",
   "metadata": {},
   "outputs": [],
   "source": [
    "tableMaxMin <- function(testC){\n",
    "    for(i in 1:ncol(testC)){\n",
    "    cat(colnames(testC)[i], \"컬럼의 빈도 분석 결과\")\n",
    "    print(table(testC[,i]))\n",
    "    cat(\"----------------------------\\n\")\n",
    "    cat(colnames(testC)[i], \"컬럼의 빈도수의 최대값과 최소값\\n\")\n",
    "    f <- table(testC[,i])\n",
    "    cat(\"최대값:\",max(f),\",\",\"최소값:\",min(f), \"\\n\")\n",
    "    cat(\"----------------------------\\n\")\n",
    "}\n",
    "}"
   ]
  },
  {
   "cell_type": "code",
   "execution_count": 168,
   "id": "sudden-square",
   "metadata": {
    "collapsed": true
   },
   "outputs": [
    {
     "name": "stdout",
     "output_type": "stream",
     "text": [
      "A 컬럼의 빈도 분석 결과\n",
      "  1   2   3   4   5 \n",
      " 30 133 156  80   3 \n",
      "----------------------------\n",
      "A 컬럼의 빈도수의 최대값과 최소값\n",
      "최대값: 156 , 최소값: 3 \n",
      "----------------------------\n",
      "B 컬럼의 빈도 분석 결과\n",
      "  1   2   3   4   5 \n",
      " 16 150  98 131   7 \n",
      "----------------------------\n",
      "B 컬럼의 빈도수의 최대값과 최소값\n",
      "최대값: 150 , 최소값: 7 \n",
      "----------------------------\n",
      "C 컬럼의 빈도 분석 결과\n",
      "  1   2   3   4   5 \n",
      "  3  74  72 176  77 \n",
      "----------------------------\n",
      "C 컬럼의 빈도수의 최대값과 최소값\n",
      "최대값: 176 , 최소값: 3 \n",
      "----------------------------\n",
      "D 컬럼의 빈도 분석 결과\n",
      "  1   2   3   4 \n",
      " 30 178 153  41 \n",
      "----------------------------\n",
      "D 컬럼의 빈도수의 최대값과 최소값\n",
      "최대값: 178 , 최소값: 30 \n",
      "----------------------------\n",
      "E 컬럼의 빈도 분석 결과\n",
      "  1   2   3   4   5 \n",
      "  8  81 107 160  46 \n",
      "----------------------------\n",
      "E 컬럼의 빈도수의 최대값과 최소값\n",
      "최대값: 160 , 최소값: 8 \n",
      "----------------------------\n"
     ]
    }
   ],
   "source": [
    "tableMaxMin(testC)    "
   ]
  },
  {
   "cell_type": "markdown",
   "id": "assisted-intelligence",
   "metadata": {},
   "source": [
    "# 분산과 표준편차를 구하는 함수 \n"
   ]
  },
  {
   "cell_type": "code",
   "execution_count": 169,
   "id": "instructional-julian",
   "metadata": {},
   "outputs": [],
   "source": [
    "x <- c(7,5,12,9,15,6)\n"
   ]
  },
  {
   "cell_type": "code",
   "execution_count": 171,
   "id": "swiss-mistress",
   "metadata": {
    "collapsed": true
   },
   "outputs": [
    {
     "data": {
      "text/html": [
       "14.8"
      ],
      "text/latex": [
       "14.8"
      ],
      "text/markdown": [
       "14.8"
      ],
      "text/plain": [
       "[1] 14.8"
      ]
     },
     "metadata": {},
     "output_type": "display_data"
    },
    {
     "data": {
      "text/html": [
       "3.84707681233427"
      ],
      "text/latex": [
       "3.84707681233427"
      ],
      "text/markdown": [
       "3.84707681233427"
      ],
      "text/plain": [
       "[1] 3.847077"
      ]
     },
     "metadata": {},
     "output_type": "display_data"
    },
    {
     "data": {
      "text/html": [
       "3.84707681233427"
      ],
      "text/latex": [
       "3.84707681233427"
      ],
      "text/markdown": [
       "3.84707681233427"
      ],
      "text/plain": [
       "[1] 3.847077"
      ]
     },
     "metadata": {},
     "output_type": "display_data"
    }
   ],
   "source": [
    "# 분산 구하기 //표준편차 구하기  : 분산은 표준편차 구하기 위해 나옴. \n",
    "\n",
    "var(x)\n",
    "sd(x)\n",
    "sqrt(var(x))"
   ]
  },
  {
   "cell_type": "code",
   "execution_count": 176,
   "id": "moderate-excerpt",
   "metadata": {},
   "outputs": [],
   "source": [
    "# 한꺼번에 분산과 표준편차가 나올수 있도록 함수 만들기\n",
    "var_sd <- function(vec){\n",
    "    cat(\"표본분산:\",var(vec),\"\\n\")\n",
    "    cat(\"표준편차:\",sd(vec))\n",
    "}"
   ]
  },
  {
   "cell_type": "code",
   "execution_count": 177,
   "id": "unlikely-conviction",
   "metadata": {},
   "outputs": [
    {
     "name": "stdout",
     "output_type": "stream",
     "text": [
      "표본분산: 14.8 \n",
      "표준편차: 3.847077"
     ]
    }
   ],
   "source": [
    "var_sd(x)\n"
   ]
  },
  {
   "cell_type": "code",
   "execution_count": 178,
   "id": "arbitrary-chile",
   "metadata": {},
   "outputs": [
    {
     "name": "stdout",
     "output_type": "stream",
     "text": [
      "표본분산: 0.6856935 \n",
      "표준편차: 0.8280661"
     ]
    }
   ],
   "source": [
    "var_sd(iris$Sepal.Length)"
   ]
  },
  {
   "cell_type": "markdown",
   "id": "italian-latin",
   "metadata": {},
   "source": [
    "# 결측치 (NA) 자료 평균 계산"
   ]
  },
  {
   "cell_type": "code",
   "execution_count": 202,
   "id": "cutting-geneva",
   "metadata": {},
   "outputs": [],
   "source": [
    "data <- c(10,20,5,4,40,7,NA,6,3,NA,2,NA)"
   ]
  },
  {
   "cell_type": "code",
   "execution_count": 181,
   "id": "processed-convertible",
   "metadata": {},
   "outputs": [
    {
     "data": {
      "text/html": [
       "&lt;NA&gt;"
      ],
      "text/latex": [
       "<NA>"
      ],
      "text/markdown": [
       "&lt;NA&gt;"
      ],
      "text/plain": [
       "[1] NA"
      ]
     },
     "metadata": {},
     "output_type": "display_data"
    }
   ],
   "source": [
    "#이상치, 결측치, 특이치\n",
    "mean(data) #--> NA가 있구나??"
   ]
  },
  {
   "cell_type": "code",
   "execution_count": 185,
   "id": "quarterly-shame",
   "metadata": {},
   "outputs": [
    {
     "data": {
      "text/html": [
       "3"
      ],
      "text/latex": [
       "3"
      ],
      "text/markdown": [
       "3"
      ],
      "text/plain": [
       "[1] 3"
      ]
     },
     "metadata": {},
     "output_type": "display_data"
    },
    {
     "data": {
      "text/plain": [
       "\n",
       "FALSE  TRUE \n",
       "    9     3 "
      ]
     },
     "metadata": {},
     "output_type": "display_data"
    }
   ],
   "source": [
    "#NA의 갯수 구하기 2가지 방법이 있다.\n",
    "\n",
    "#sum\n",
    "sum(is.na(data))\n",
    "\n",
    "#table 빈도수\n",
    "table(is.na(data))\n"
   ]
  },
  {
   "cell_type": "code",
   "execution_count": 186,
   "id": "professional-fight",
   "metadata": {},
   "outputs": [
    {
     "data": {
      "text/html": [
       "10.7777777777778"
      ],
      "text/latex": [
       "10.7777777777778"
      ],
      "text/markdown": [
       "10.7777777777778"
      ],
      "text/plain": [
       "[1] 10.77778"
      ]
     },
     "metadata": {},
     "output_type": "display_data"
    },
    {
     "data": {
      "text/html": [
       "12"
      ],
      "text/latex": [
       "12"
      ],
      "text/markdown": [
       "12"
      ],
      "text/plain": [
       "[1] 12"
      ]
     },
     "metadata": {},
     "output_type": "display_data"
    }
   ],
   "source": [
    "# 결측치를 무조건 제거하면 통계량을 얻을수 없으며\n",
    "# 데이터의 손실로 문제 발생\n",
    "\n",
    "# na.rm = T 는 NA를 제거 한다.   --> 정규 분포다는 가정하에서 하는 것이다!!!!!!!!!\n",
    "mean(data, na.rm = T)\n",
    "length(data)"
   ]
  },
  {
   "cell_type": "code",
   "execution_count": 191,
   "id": "assumed-adult",
   "metadata": {},
   "outputs": [
    {
     "data": {
      "text/html": [
       "<ol class=list-inline>\n",
       "\t<li>10</li>\n",
       "\t<li>20</li>\n",
       "\t<li>5</li>\n",
       "\t<li>4</li>\n",
       "\t<li>40</li>\n",
       "\t<li>7</li>\n",
       "\t<li>0</li>\n",
       "\t<li>6</li>\n",
       "\t<li>3</li>\n",
       "\t<li>0</li>\n",
       "\t<li>2</li>\n",
       "\t<li>0</li>\n",
       "</ol>\n"
      ],
      "text/latex": [
       "\\begin{enumerate*}\n",
       "\\item 10\n",
       "\\item 20\n",
       "\\item 5\n",
       "\\item 4\n",
       "\\item 40\n",
       "\\item 7\n",
       "\\item 0\n",
       "\\item 6\n",
       "\\item 3\n",
       "\\item 0\n",
       "\\item 2\n",
       "\\item 0\n",
       "\\end{enumerate*}\n"
      ],
      "text/markdown": [
       "1. 10\n",
       "2. 20\n",
       "3. 5\n",
       "4. 4\n",
       "5. 40\n",
       "6. 7\n",
       "7. 0\n",
       "8. 6\n",
       "9. 3\n",
       "10. 0\n",
       "11. 2\n",
       "12. 0\n",
       "\n",
       "\n"
      ],
      "text/plain": [
       " [1] 10 20  5  4 40  7  0  6  3  0  2  0"
      ]
     },
     "metadata": {},
     "output_type": "display_data"
    },
    {
     "data": {
      "text/html": [
       "12"
      ],
      "text/latex": [
       "12"
      ],
      "text/markdown": [
       "12"
      ],
      "text/plain": [
       "[1] 12"
      ]
     },
     "metadata": {},
     "output_type": "display_data"
    },
    {
     "data": {
      "text/html": [
       "8.08333333333333"
      ],
      "text/latex": [
       "8.08333333333333"
      ],
      "text/markdown": [
       "8.08333333333333"
      ],
      "text/plain": [
       "[1] 8.083333"
      ]
     },
     "metadata": {},
     "output_type": "display_data"
    }
   ],
   "source": [
    "# 1) NA를 0으로 대체  . . ifelse는 Vector값으로 쓸수 있는 반복문 동시가능\n",
    "data <- ifelse(is.na(data), 0, data)\n",
    "data\n",
    "length(data)\n",
    "mean(data)"
   ]
  },
  {
   "cell_type": "code",
   "execution_count": 196,
   "id": "developed-calgary",
   "metadata": {},
   "outputs": [
    {
     "data": {
      "text/html": [
       "<ol class=list-inline>\n",
       "\t<li>10</li>\n",
       "\t<li>20</li>\n",
       "\t<li>5</li>\n",
       "\t<li>4</li>\n",
       "\t<li>40</li>\n",
       "\t<li>7</li>\n",
       "\t<li>10.7777777777778</li>\n",
       "\t<li>6</li>\n",
       "\t<li>3</li>\n",
       "\t<li>10.7777777777778</li>\n",
       "\t<li>2</li>\n",
       "\t<li>10.7777777777778</li>\n",
       "</ol>\n"
      ],
      "text/latex": [
       "\\begin{enumerate*}\n",
       "\\item 10\n",
       "\\item 20\n",
       "\\item 5\n",
       "\\item 4\n",
       "\\item 40\n",
       "\\item 7\n",
       "\\item 10.7777777777778\n",
       "\\item 6\n",
       "\\item 3\n",
       "\\item 10.7777777777778\n",
       "\\item 2\n",
       "\\item 10.7777777777778\n",
       "\\end{enumerate*}\n"
      ],
      "text/markdown": [
       "1. 10\n",
       "2. 20\n",
       "3. 5\n",
       "4. 4\n",
       "5. 40\n",
       "6. 7\n",
       "7. 10.7777777777778\n",
       "8. 6\n",
       "9. 3\n",
       "10. 10.7777777777778\n",
       "11. 2\n",
       "12. 10.7777777777778\n",
       "\n",
       "\n"
      ],
      "text/plain": [
       " [1] 10.00000 20.00000  5.00000  4.00000 40.00000  7.00000 10.77778  6.00000\n",
       " [9]  3.00000 10.77778  2.00000 10.77778"
      ]
     },
     "metadata": {},
     "output_type": "display_data"
    },
    {
     "data": {
      "text/html": [
       "12"
      ],
      "text/latex": [
       "12"
      ],
      "text/markdown": [
       "12"
      ],
      "text/plain": [
       "[1] 12"
      ]
     },
     "metadata": {},
     "output_type": "display_data"
    }
   ],
   "source": [
    "# 2) NA를 평균으로 대체\n",
    "data <- ifelse(is.na(data), mean(data, na.rm = T), data)\n",
    "data\n",
    "length(data)"
   ]
  },
  {
   "cell_type": "code",
   "execution_count": 199,
   "id": "configured-gnome",
   "metadata": {},
   "outputs": [
    {
     "data": {
      "text/html": [
       "<ol class=list-inline>\n",
       "\t<li>10</li>\n",
       "\t<li>20</li>\n",
       "\t<li>5</li>\n",
       "\t<li>4</li>\n",
       "\t<li>40</li>\n",
       "\t<li>7</li>\n",
       "\t<li>6</li>\n",
       "\t<li>6</li>\n",
       "\t<li>3</li>\n",
       "\t<li>6</li>\n",
       "\t<li>2</li>\n",
       "\t<li>6</li>\n",
       "</ol>\n"
      ],
      "text/latex": [
       "\\begin{enumerate*}\n",
       "\\item 10\n",
       "\\item 20\n",
       "\\item 5\n",
       "\\item 4\n",
       "\\item 40\n",
       "\\item 7\n",
       "\\item 6\n",
       "\\item 6\n",
       "\\item 3\n",
       "\\item 6\n",
       "\\item 2\n",
       "\\item 6\n",
       "\\end{enumerate*}\n"
      ],
      "text/markdown": [
       "1. 10\n",
       "2. 20\n",
       "3. 5\n",
       "4. 4\n",
       "5. 40\n",
       "6. 7\n",
       "7. 6\n",
       "8. 6\n",
       "9. 3\n",
       "10. 6\n",
       "11. 2\n",
       "12. 6\n",
       "\n",
       "\n"
      ],
      "text/plain": [
       " [1] 10 20  5  4 40  7  6  6  3  6  2  6"
      ]
     },
     "metadata": {},
     "output_type": "display_data"
    }
   ],
   "source": [
    "# 3) NA를 중앙값으로 대체 ---> 데이터 빼고 한 표준편차값이 정규분표를 이루게 하는것이 지금은 중앙값이 제일 좋다. \n",
    "data <- ifelse(is.na(data), median(data, na.rm = T), data)\n",
    "data"
   ]
  },
  {
   "cell_type": "code",
   "execution_count": 201,
   "id": "cardiac-details",
   "metadata": {},
   "outputs": [
    {
     "data": {
      "text/html": [
       "<ol class=list-inline>\n",
       "\t<li>10</li>\n",
       "\t<li>20</li>\n",
       "\t<li>5</li>\n",
       "\t<li>4</li>\n",
       "\t<li>40</li>\n",
       "\t<li>7</li>\n",
       "\t<li>40</li>\n",
       "\t<li>6</li>\n",
       "\t<li>3</li>\n",
       "\t<li>40</li>\n",
       "\t<li>2</li>\n",
       "\t<li>40</li>\n",
       "</ol>\n"
      ],
      "text/latex": [
       "\\begin{enumerate*}\n",
       "\\item 10\n",
       "\\item 20\n",
       "\\item 5\n",
       "\\item 4\n",
       "\\item 40\n",
       "\\item 7\n",
       "\\item 40\n",
       "\\item 6\n",
       "\\item 3\n",
       "\\item 40\n",
       "\\item 2\n",
       "\\item 40\n",
       "\\end{enumerate*}\n"
      ],
      "text/markdown": [
       "1. 10\n",
       "2. 20\n",
       "3. 5\n",
       "4. 4\n",
       "5. 40\n",
       "6. 7\n",
       "7. 40\n",
       "8. 6\n",
       "9. 3\n",
       "10. 40\n",
       "11. 2\n",
       "12. 40\n",
       "\n",
       "\n"
      ],
      "text/plain": [
       " [1] 10 20  5  4 40  7 40  6  3 40  2 40"
      ]
     },
     "metadata": {},
     "output_type": "display_data"
    }
   ],
   "source": [
    "# 4) NA를 최대값으로 대체 \n",
    "data <- ifelse(is.na(data), max(data, na.rm = T), data)\n",
    "data"
   ]
  },
  {
   "cell_type": "code",
   "execution_count": 203,
   "id": "economic-tongue",
   "metadata": {},
   "outputs": [
    {
     "data": {
      "text/html": [
       "<ol class=list-inline>\n",
       "\t<li>10</li>\n",
       "\t<li>20</li>\n",
       "\t<li>5</li>\n",
       "\t<li>4</li>\n",
       "\t<li>40</li>\n",
       "\t<li>7</li>\n",
       "\t<li>2</li>\n",
       "\t<li>6</li>\n",
       "\t<li>3</li>\n",
       "\t<li>2</li>\n",
       "\t<li>2</li>\n",
       "\t<li>2</li>\n",
       "</ol>\n"
      ],
      "text/latex": [
       "\\begin{enumerate*}\n",
       "\\item 10\n",
       "\\item 20\n",
       "\\item 5\n",
       "\\item 4\n",
       "\\item 40\n",
       "\\item 7\n",
       "\\item 2\n",
       "\\item 6\n",
       "\\item 3\n",
       "\\item 2\n",
       "\\item 2\n",
       "\\item 2\n",
       "\\end{enumerate*}\n"
      ],
      "text/markdown": [
       "1. 10\n",
       "2. 20\n",
       "3. 5\n",
       "4. 4\n",
       "5. 40\n",
       "6. 7\n",
       "7. 2\n",
       "8. 6\n",
       "9. 3\n",
       "10. 2\n",
       "11. 2\n",
       "12. 2\n",
       "\n",
       "\n"
      ],
      "text/plain": [
       " [1] 10 20  5  4 40  7  2  6  3  2  2  2"
      ]
     },
     "metadata": {},
     "output_type": "display_data"
    }
   ],
   "source": [
    "# 4) NA를 최소값으로 대체 \n",
    "data <- ifelse(is.na(data), min(data, na.rm = T), data)\n",
    "data"
   ]
  },
  {
   "cell_type": "markdown",
   "id": "enormous-administrator",
   "metadata": {},
   "source": [
    "# 몬테카를로 시뮬레이션"
   ]
  },
  {
   "cell_type": "markdown",
   "id": "laden-evolution",
   "metadata": {},
   "source": [
    "### 1)동전의 앞면 뒷면 시뮬레이션"
   ]
  },
  {
   "cell_type": "code",
   "execution_count": 207,
   "id": "apparent-morrison",
   "metadata": {},
   "outputs": [
    {
     "name": "stdout",
     "output_type": "stream",
     "text": [
      "[1] 0\n"
     ]
    }
   ],
   "source": [
    "x <- runif(1)\n",
    "\n",
    "\n",
    "if(x <= 1/2){    # 앞면\n",
    "    result <- 0\n",
    "}else {          # 뒷면 \n",
    "    result <- 1\n",
    "}\n",
    "print(result)"
   ]
  },
  {
   "cell_type": "code",
   "execution_count": 208,
   "id": "hidden-category",
   "metadata": {},
   "outputs": [],
   "source": [
    "coin <- function(number){\n",
    "    # 앞면 \n",
    "    count1 <- 0 \n",
    "    # 뒷면\n",
    "    count2 <- 0\n",
    "    \n",
    "    for(i in 1:number){\n",
    "        if(runif(1) <= 1/2){\n",
    "            count1 = count1 + 1\n",
    "        }else{\n",
    "            count2 = count2 + 1\n",
    "        }\n",
    "    }\n",
    "    cat(\"앞면 :\", count1, \"\\n\")\n",
    "    cat(\"뒷면 :\", count2, \"\\n\")\n",
    "    cat(\"----------------------\\n\")\n",
    "}"
   ]
  },
  {
   "cell_type": "code",
   "execution_count": 214,
   "id": "minimal-employer",
   "metadata": {},
   "outputs": [
    {
     "name": "stdout",
     "output_type": "stream",
     "text": [
      "앞면 : 6 \n",
      "뒷면 : 4 \n",
      "----------------------\n",
      "앞면 : 47 \n",
      "뒷면 : 53 \n",
      "----------------------\n",
      "앞면 : 499 \n",
      "뒷면 : 501 \n",
      "----------------------\n",
      "앞면 : 5045 \n",
      "뒷면 : 4955 \n",
      "----------------------\n",
      "앞면 : 49985 \n",
      "뒷면 : 50015 \n",
      "----------------------\n",
      "앞면 : 500488 \n",
      "뒷면 : 499512 \n",
      "----------------------\n"
     ]
    }
   ],
   "source": [
    "# 난수라 값이 계속 틀림.\n",
    "coin(10)\n",
    "coin(100)\n",
    "coin(1000)\n",
    "coin(10000)\n",
    "coin(100000)\n",
    "coin(1000000)\n",
    "# ---> 데이터가 많으면 많을수록 값이 근접해진다 ---> 빅데이터 \n",
    "help(runif)"
   ]
  },
  {
   "cell_type": "code",
   "execution_count": 248,
   "id": "acting-allah",
   "metadata": {},
   "outputs": [],
   "source": [
    "# 지수 제거 하기  ---> Note당 한번만 쓰면 되는 것이다. \n",
    "options(scipen = 100)\n",
    "\n",
    "# 가위, 바위, 보 시뮬레이션\n",
    "game <- function(gam){\n",
    "        r <- 0\n",
    "        s <- 0\n",
    "        p <- 0\n",
    "    for(i in 1:gam){\n",
    "        # 0 값 때문에 일부러 1 ++ 한다. \n",
    "        x <- trunc(runif(1) * 3) + 1\n",
    "        \n",
    "        if(x == 1){\n",
    "            r = r + 1\n",
    "        }\n",
    "        if(x == 2){\n",
    "            s = s + 1\n",
    "        }\n",
    "        if(x == 3){\n",
    "            p = p + 1\n",
    "        }\n",
    "        \n",
    "    }\n",
    "    cat(gam, \"번 하였을 경우\\n\")\n",
    "    cat(\"바위 :\\t\", r, \"\\n\", \"가위 :\\t\", s, \"\\n\", \"보 :\\t\" ,p, \"\\n\", sep = \"\")\n",
    "        cat(\"----------------------\\n\")\n",
    "\n",
    "}\n"
   ]
  },
  {
   "cell_type": "code",
   "execution_count": 247,
   "id": "hydraulic-expense",
   "metadata": {},
   "outputs": [
    {
     "name": "stdout",
     "output_type": "stream",
     "text": [
      "1e+05 번 하였을 경우바위 :\t33187\n",
      "가위 :\t33441\n",
      "보 :\t33372\n",
      "----------------------\n",
      "1000 번 하였을 경우바위 :\t312\n",
      "가위 :\t337\n",
      "보 :\t351\n",
      "----------------------\n",
      "20000 번 하였을 경우바위 :\t6616\n",
      "가위 :\t6673\n",
      "보 :\t6711\n",
      "----------------------\n",
      "1e+05 번 하였을 경우바위 :\t33353\n",
      "가위 :\t33400\n",
      "보 :\t33247\n",
      "----------------------\n",
      "2e+06 번 하였을 경우바위 :\t666077\n",
      "가위 :\t666555\n",
      "보 :\t667368\n",
      "----------------------\n"
     ]
    }
   ],
   "source": [
    "game(100000)\n",
    "game(1000)\n",
    "game(20000)\n",
    "game(100000)\n",
    "game(2000000)"
   ]
  },
  {
   "cell_type": "code",
   "execution_count": 10,
   "id": "noted-understanding",
   "metadata": {},
   "outputs": [],
   "source": [
    "# 지수 제거 하기  ---> Note당 한번만 쓰면 되는 것이다. \n",
    "options(scipen = 100)\n",
    "\n",
    "# 주사위 시뮬레이션\n",
    "\n",
    "\n",
    "dice <- function(n){\n",
    "    \n",
    "    diceFace <- rep(0,6)\n",
    "    # 몇번 던졌니?\n",
    "    cat(\"Throw :\",n,\"\\n\")\n",
    "    \n",
    "    #계산 하기 \n",
    "    for (i in 1:n){\n",
    "        x <- trunc(runif(1) * 6) + 1\n",
    "        diceFace[x] = diceFace[x] + 1\n",
    "    }\n",
    "    \n",
    "    #출력하기 \n",
    "    for(i in 1:length(diceFace)){\n",
    "        cat(\"N\", i,\"=>\",diceFace[i],\"\\n\")\n",
    "    }\n",
    "    cat(\"————————\\n\")\n",
    "}\n",
    "\n",
    "        \n"
   ]
  },
  {
   "cell_type": "code",
   "execution_count": 11,
   "id": "unnecessary-messenger",
   "metadata": {
    "collapsed": true
   },
   "outputs": [
    {
     "name": "stdout",
     "output_type": "stream",
     "text": [
      "Throw : 10 \n",
      "N 1 => 1 \n",
      "N 2 => 4 \n",
      "N 3 => 1 \n",
      "N 4 => 1 \n",
      "N 5 => 2 \n",
      "N 6 => 1 \n",
      "————————\n",
      "Throw : 100 \n",
      "N 1 => 17 \n",
      "N 2 => 16 \n",
      "N 3 => 13 \n",
      "N 4 => 15 \n",
      "N 5 => 18 \n",
      "N 6 => 21 \n",
      "————————\n",
      "Throw : 1000 \n",
      "N 1 => 160 \n",
      "N 2 => 176 \n",
      "N 3 => 167 \n",
      "N 4 => 162 \n",
      "N 5 => 157 \n",
      "N 6 => 178 \n",
      "————————\n",
      "Throw : 10000 \n",
      "N 1 => 1667 \n",
      "N 2 => 1665 \n",
      "N 3 => 1659 \n",
      "N 4 => 1646 \n",
      "N 5 => 1707 \n",
      "N 6 => 1656 \n",
      "————————\n",
      "Throw : 100000 \n",
      "N 1 => 16651 \n",
      "N 2 => 16753 \n",
      "N 3 => 16525 \n",
      "N 4 => 16408 \n",
      "N 5 => 16728 \n",
      "N 6 => 16935 \n",
      "————————\n",
      "Throw : 1000000 \n",
      "N 1 => 165791 \n",
      "N 2 => 166726 \n",
      "N 3 => 167126 \n",
      "N 4 => 167024 \n",
      "N 5 => 166413 \n",
      "N 6 => 166920 \n",
      "————————\n"
     ]
    }
   ],
   "source": [
    "dice(10)\n",
    "dice(100)\n",
    "dice(1000)\n",
    "dice(10000)\n",
    "dice(100000)\n",
    "dice(1000000)"
   ]
  },
  {
   "cell_type": "markdown",
   "id": "animal-hostel",
   "metadata": {},
   "source": [
    "--- \n",
    "# 파일 입출력 "
   ]
  },
  {
   "cell_type": "code",
   "execution_count": 12,
   "id": "national-feeling",
   "metadata": {},
   "outputs": [],
   "source": [
    "no <- 1:4\n",
    "name <- c(\"Apple\", \"Banana\", \"Peach\", \"Berry\")\n",
    "price <- c(500, 400, 300, 50)\n",
    "qty <- c(5,4,3,2)"
   ]
  },
  {
   "cell_type": "code",
   "execution_count": 15,
   "id": "waiting-navigator",
   "metadata": {},
   "outputs": [
    {
     "data": {
      "text/html": [
       "<table>\n",
       "<thead><tr><th scope=col>번호</th><th scope=col>상품명</th><th scope=col>가격</th><th scope=col>수량</th></tr></thead>\n",
       "<tbody>\n",
       "\t<tr><td>1     </td><td>Apple </td><td>500   </td><td>5     </td></tr>\n",
       "\t<tr><td>2     </td><td>Banana</td><td>400   </td><td>4     </td></tr>\n",
       "\t<tr><td>3     </td><td>Peach </td><td>300   </td><td>3     </td></tr>\n",
       "\t<tr><td>4     </td><td>Berry </td><td> 50   </td><td>2     </td></tr>\n",
       "</tbody>\n",
       "</table>\n"
      ],
      "text/latex": [
       "\\begin{tabular}{r|llll}\n",
       " 번호 & 상품명 & 가격 & 수량\\\\\n",
       "\\hline\n",
       "\t 1      & Apple  & 500    & 5     \\\\\n",
       "\t 2      & Banana & 400    & 4     \\\\\n",
       "\t 3      & Peach  & 300    & 3     \\\\\n",
       "\t 4      & Berry  &  50    & 2     \\\\\n",
       "\\end{tabular}\n"
      ],
      "text/markdown": [
       "\n",
       "| 번호 | 상품명 | 가격 | 수량 |\n",
       "|---|---|---|---|\n",
       "| 1      | Apple  | 500    | 5      |\n",
       "| 2      | Banana | 400    | 4      |\n",
       "| 3      | Peach  | 300    | 3      |\n",
       "| 4      | Berry  |  50    | 2      |\n",
       "\n"
      ],
      "text/plain": [
       "  번호 상품명 가격 수량\n",
       "1 1    Apple  500  5   \n",
       "2 2    Banana 400  4   \n",
       "3 3    Peach  300  3   \n",
       "4 4    Berry   50  2   "
      ]
     },
     "metadata": {},
     "output_type": "display_data"
    }
   ],
   "source": [
    "# 벡터를 이용해 데이터 프레임 만들기\n",
    "fruit <- data.frame(번호=no,상품명=name,가격=price,수량=qty)\n",
    "fruit"
   ]
  },
  {
   "cell_type": "code",
   "execution_count": 16,
   "id": "peripheral-veteran",
   "metadata": {},
   "outputs": [
    {
     "data": {
      "text/html": [
       "<ol class=list-inline>\n",
       "\t<li>'dice'</li>\n",
       "\t<li>'fruit'</li>\n",
       "\t<li>'name'</li>\n",
       "\t<li>'no'</li>\n",
       "\t<li>'price'</li>\n",
       "\t<li>'qty'</li>\n",
       "</ol>\n"
      ],
      "text/latex": [
       "\\begin{enumerate*}\n",
       "\\item 'dice'\n",
       "\\item 'fruit'\n",
       "\\item 'name'\n",
       "\\item 'no'\n",
       "\\item 'price'\n",
       "\\item 'qty'\n",
       "\\end{enumerate*}\n"
      ],
      "text/markdown": [
       "1. 'dice'\n",
       "2. 'fruit'\n",
       "3. 'name'\n",
       "4. 'no'\n",
       "5. 'price'\n",
       "6. 'qty'\n",
       "\n",
       "\n"
      ],
      "text/plain": [
       "[1] \"dice\"  \"fruit\" \"name\"  \"no\"    \"price\" \"qty\"  "
      ]
     },
     "metadata": {},
     "output_type": "display_data"
    }
   ],
   "source": [
    "# 메모리 보기\n",
    "ls()"
   ]
  },
  {
   "cell_type": "code",
   "execution_count": 20,
   "id": "enormous-causing",
   "metadata": {},
   "outputs": [
    {
     "ename": "ERROR",
     "evalue": "Error in save(no, fruit, name, file = \"../Data/testFruit.txt\", fileEncoding = \"utf-8\"): objects ‘no’, ‘fruit’, ‘name’, ‘utf-8’ not found\n",
     "output_type": "error",
     "traceback": [
      "Error in save(no, fruit, name, file = \"../Data/testFruit.txt\", fileEncoding = \"utf-8\"): objects ‘no’, ‘fruit’, ‘name’, ‘utf-8’ not found\nTraceback:\n",
      "1. save(no, fruit, name, file = \"../Data/testFruit.txt\", fileEncoding = \"utf-8\")",
      "2. stop(sprintf(ngettext(n, \"object %s not found\", \"objects %s not found\"), \n .     paste(sQuote(list[!ok]), collapse = \", \")), domain = NA)"
     ]
    }
   ],
   "source": [
    "# 파일을 저장할떄 --> Performance가 좀 중요하다?\n",
    "# 메모리 형태로 파일 보관 ---> \n",
    "save(no, fruit, name, file = \"../Data/testFruit.txt\")"
   ]
  },
  {
   "cell_type": "code",
   "execution_count": 18,
   "id": "brief-matrix",
   "metadata": {},
   "outputs": [],
   "source": [
    "rm(no,fruit,name)"
   ]
  },
  {
   "cell_type": "code",
   "execution_count": 19,
   "id": "formed-recipient",
   "metadata": {},
   "outputs": [
    {
     "ename": "ERROR",
     "evalue": "Error in eval(expr, envir, enclos): 객체 'fruit'를 찾을 수 없습니다\n",
     "output_type": "error",
     "traceback": [
      "Error in eval(expr, envir, enclos): 객체 'fruit'를 찾을 수 없습니다\nTraceback:\n"
     ]
    }
   ],
   "source": [
    "fruit"
   ]
  },
  {
   "cell_type": "code",
   "execution_count": 21,
   "id": "large-amount",
   "metadata": {},
   "outputs": [],
   "source": [
    "# 메모리로 불러오기 \n",
    "load(\"../Data/testFruit.txt\")"
   ]
  },
  {
   "cell_type": "code",
   "execution_count": 22,
   "id": "nuclear-vocabulary",
   "metadata": {},
   "outputs": [
    {
     "data": {
      "text/html": [
       "<table>\n",
       "<thead><tr><th scope=col>번호</th><th scope=col>상품명</th><th scope=col>가격</th><th scope=col>수량</th></tr></thead>\n",
       "<tbody>\n",
       "\t<tr><td>1     </td><td>Apple </td><td>500   </td><td>5     </td></tr>\n",
       "\t<tr><td>2     </td><td>Banana</td><td>400   </td><td>4     </td></tr>\n",
       "\t<tr><td>3     </td><td>Peach </td><td>300   </td><td>3     </td></tr>\n",
       "\t<tr><td>4     </td><td>Berry </td><td> 50   </td><td>2     </td></tr>\n",
       "</tbody>\n",
       "</table>\n"
      ],
      "text/latex": [
       "\\begin{tabular}{r|llll}\n",
       " 번호 & 상품명 & 가격 & 수량\\\\\n",
       "\\hline\n",
       "\t 1      & Apple  & 500    & 5     \\\\\n",
       "\t 2      & Banana & 400    & 4     \\\\\n",
       "\t 3      & Peach  & 300    & 3     \\\\\n",
       "\t 4      & Berry  &  50    & 2     \\\\\n",
       "\\end{tabular}\n"
      ],
      "text/markdown": [
       "\n",
       "| 번호 | 상품명 | 가격 | 수량 |\n",
       "|---|---|---|---|\n",
       "| 1      | Apple  | 500    | 5      |\n",
       "| 2      | Banana | 400    | 4      |\n",
       "| 3      | Peach  | 300    | 3      |\n",
       "| 4      | Berry  |  50    | 2      |\n",
       "\n"
      ],
      "text/plain": [
       "  번호 상품명 가격 수량\n",
       "1 1    Apple  500  5   \n",
       "2 2    Banana 400  4   \n",
       "3 3    Peach  300  3   \n",
       "4 4    Berry   50  2   "
      ]
     },
     "metadata": {},
     "output_type": "display_data"
    }
   ],
   "source": [
    "fruit"
   ]
  },
  {
   "cell_type": "code",
   "execution_count": 24,
   "id": "loving-design",
   "metadata": {},
   "outputs": [
    {
     "data": {
      "text/html": [
       "<ol class=list-inline>\n",
       "\t<li>'dice'</li>\n",
       "\t<li>'fruit'</li>\n",
       "\t<li>'name'</li>\n",
       "\t<li>'no'</li>\n",
       "\t<li>'price'</li>\n",
       "\t<li>'qty'</li>\n",
       "</ol>\n"
      ],
      "text/latex": [
       "\\begin{enumerate*}\n",
       "\\item 'dice'\n",
       "\\item 'fruit'\n",
       "\\item 'name'\n",
       "\\item 'no'\n",
       "\\item 'price'\n",
       "\\item 'qty'\n",
       "\\end{enumerate*}\n"
      ],
      "text/markdown": [
       "1. 'dice'\n",
       "2. 'fruit'\n",
       "3. 'name'\n",
       "4. 'no'\n",
       "5. 'price'\n",
       "6. 'qty'\n",
       "\n",
       "\n"
      ],
      "text/plain": [
       "[1] \"dice\"  \"fruit\" \"name\"  \"no\"    \"price\" \"qty\"  "
      ]
     },
     "metadata": {},
     "output_type": "display_data"
    }
   ],
   "source": [
    "ls()"
   ]
  },
  {
   "cell_type": "code",
   "execution_count": 26,
   "id": "advisory-domain",
   "metadata": {},
   "outputs": [],
   "source": [
    "# fruit를 csv로 저장하기 --> 쉽게 저장 가능\n",
    "write.csv(fruit, \"../Data/fruit.csv\")"
   ]
  },
  {
   "cell_type": "code",
   "execution_count": 29,
   "id": "significant-repeat",
   "metadata": {},
   "outputs": [
    {
     "data": {
      "text/html": [
       "<table>\n",
       "<thead><tr><th scope=col>X</th><th scope=col>번호</th><th scope=col>상품명</th><th scope=col>가격</th><th scope=col>수량</th></tr></thead>\n",
       "<tbody>\n",
       "\t<tr><td>1     </td><td>1     </td><td>Apple </td><td>500   </td><td>5     </td></tr>\n",
       "\t<tr><td>2     </td><td>2     </td><td>Banana</td><td>400   </td><td>4     </td></tr>\n",
       "\t<tr><td>3     </td><td>3     </td><td>Peach </td><td>300   </td><td>3     </td></tr>\n",
       "\t<tr><td>4     </td><td>4     </td><td>Berry </td><td> 50   </td><td>2     </td></tr>\n",
       "</tbody>\n",
       "</table>\n"
      ],
      "text/latex": [
       "\\begin{tabular}{r|lllll}\n",
       " X & 번호 & 상품명 & 가격 & 수량\\\\\n",
       "\\hline\n",
       "\t 1      & 1      & Apple  & 500    & 5     \\\\\n",
       "\t 2      & 2      & Banana & 400    & 4     \\\\\n",
       "\t 3      & 3      & Peach  & 300    & 3     \\\\\n",
       "\t 4      & 4      & Berry  &  50    & 2     \\\\\n",
       "\\end{tabular}\n"
      ],
      "text/markdown": [
       "\n",
       "| X | 번호 | 상품명 | 가격 | 수량 |\n",
       "|---|---|---|---|---|\n",
       "| 1      | 1      | Apple  | 500    | 5      |\n",
       "| 2      | 2      | Banana | 400    | 4      |\n",
       "| 3      | 3      | Peach  | 300    | 3      |\n",
       "| 4      | 4      | Berry  |  50    | 2      |\n",
       "\n"
      ],
      "text/plain": [
       "  X 번호 상품명 가격 수량\n",
       "1 1 1    Apple  500  5   \n",
       "2 2 2    Banana 400  4   \n",
       "3 3 3    Peach  300  3   \n",
       "4 4 4    Berry   50  2   "
      ]
     },
     "metadata": {},
     "output_type": "display_data"
    }
   ],
   "source": [
    "read.csv(\"../Data/fruit.csv\")\n",
    "# 쓰레기가 생김!!!\n"
   ]
  },
  {
   "cell_type": "code",
   "execution_count": 33,
   "id": "average-agent",
   "metadata": {},
   "outputs": [],
   "source": [
    "write.csv(fruit,\"../Data/fruit2.csv\", row.names =F)"
   ]
  },
  {
   "cell_type": "code",
   "execution_count": 34,
   "id": "dramatic-remains",
   "metadata": {},
   "outputs": [
    {
     "data": {
      "text/html": [
       "<table>\n",
       "<thead><tr><th scope=col>번호</th><th scope=col>상품명</th><th scope=col>가격</th><th scope=col>수량</th></tr></thead>\n",
       "<tbody>\n",
       "\t<tr><td>1     </td><td>Apple </td><td>500   </td><td>5     </td></tr>\n",
       "\t<tr><td>2     </td><td>Banana</td><td>400   </td><td>4     </td></tr>\n",
       "\t<tr><td>3     </td><td>Peach </td><td>300   </td><td>3     </td></tr>\n",
       "\t<tr><td>4     </td><td>Berry </td><td> 50   </td><td>2     </td></tr>\n",
       "</tbody>\n",
       "</table>\n"
      ],
      "text/latex": [
       "\\begin{tabular}{r|llll}\n",
       " 번호 & 상품명 & 가격 & 수량\\\\\n",
       "\\hline\n",
       "\t 1      & Apple  & 500    & 5     \\\\\n",
       "\t 2      & Banana & 400    & 4     \\\\\n",
       "\t 3      & Peach  & 300    & 3     \\\\\n",
       "\t 4      & Berry  &  50    & 2     \\\\\n",
       "\\end{tabular}\n"
      ],
      "text/markdown": [
       "\n",
       "| 번호 | 상품명 | 가격 | 수량 |\n",
       "|---|---|---|---|\n",
       "| 1      | Apple  | 500    | 5      |\n",
       "| 2      | Banana | 400    | 4      |\n",
       "| 3      | Peach  | 300    | 3      |\n",
       "| 4      | Berry  |  50    | 2      |\n",
       "\n"
      ],
      "text/plain": [
       "  번호 상품명 가격 수량\n",
       "1 1    Apple  500  5   \n",
       "2 2    Banana 400  4   \n",
       "3 3    Peach  300  3   \n",
       "4 4    Berry   50  2   "
      ]
     },
     "metadata": {},
     "output_type": "display_data"
    }
   ],
   "source": [
    "read.csv(\"../Data/fruit2.csv\")"
   ]
  },
  {
   "cell_type": "markdown",
   "id": "danish-plant",
   "metadata": {},
   "source": [
    "# 세계 GDP 순위 데이터 정제 및 차트 만들기"
   ]
  },
  {
   "cell_type": "code",
   "execution_count": 47,
   "id": "explicit-executive",
   "metadata": {},
   "outputs": [
    {
     "data": {
      "text/html": [
       "<table>\n",
       "<thead><tr><th></th><th scope=col>X</th><th scope=col>Gross.domestic.product.2018</th><th scope=col>X.2</th><th scope=col>X.3</th></tr></thead>\n",
       "<tbody>\n",
       "\t<tr><th scope=row>5</th><td>USA           </td><td>1             </td><td>United States </td><td> 20,494,100   </td></tr>\n",
       "\t<tr><th scope=row>6</th><td>CHN           </td><td>2             </td><td>China         </td><td> 13,608,152   </td></tr>\n",
       "\t<tr><th scope=row>7</th><td>JPN           </td><td>3             </td><td>Japan         </td><td> 4,970,916    </td></tr>\n",
       "\t<tr><th scope=row>8</th><td>DEU           </td><td>4             </td><td>Germany       </td><td> 3,996,759    </td></tr>\n",
       "\t<tr><th scope=row>9</th><td>GBR           </td><td>5             </td><td>United Kingdom</td><td> 2,825,208    </td></tr>\n",
       "\t<tr><th scope=row>10</th><td>FRA           </td><td>6             </td><td>France        </td><td> 2,777,535    </td></tr>\n",
       "</tbody>\n",
       "</table>\n"
      ],
      "text/latex": [
       "\\begin{tabular}{r|llll}\n",
       "  & X & Gross.domestic.product.2018 & X.2 & X.3\\\\\n",
       "\\hline\n",
       "\t5 & USA            & 1              & United States  &  20,494,100   \\\\\n",
       "\t6 & CHN            & 2              & China          &  13,608,152   \\\\\n",
       "\t7 & JPN            & 3              & Japan          &  4,970,916    \\\\\n",
       "\t8 & DEU            & 4              & Germany        &  3,996,759    \\\\\n",
       "\t9 & GBR            & 5              & United Kingdom &  2,825,208    \\\\\n",
       "\t10 & FRA            & 6              & France         &  2,777,535    \\\\\n",
       "\\end{tabular}\n"
      ],
      "text/markdown": [
       "\n",
       "| <!--/--> | X | Gross.domestic.product.2018 | X.2 | X.3 |\n",
       "|---|---|---|---|---|\n",
       "| 5 | USA            | 1              | United States  |  20,494,100    |\n",
       "| 6 | CHN            | 2              | China          |  13,608,152    |\n",
       "| 7 | JPN            | 3              | Japan          |  4,970,916     |\n",
       "| 8 | DEU            | 4              | Germany        |  3,996,759     |\n",
       "| 9 | GBR            | 5              | United Kingdom |  2,825,208     |\n",
       "| 10 | FRA            | 6              | France         |  2,777,535     |\n",
       "\n"
      ],
      "text/plain": [
       "   X   Gross.domestic.product.2018 X.2            X.3         \n",
       "5  USA 1                           United States   20,494,100 \n",
       "6  CHN 2                           China           13,608,152 \n",
       "7  JPN 3                           Japan           4,970,916  \n",
       "8  DEU 4                           Germany         3,996,759  \n",
       "9  GBR 5                           United Kingdom  2,825,208  \n",
       "10 FRA 6                           France          2,777,535  "
      ]
     },
     "metadata": {},
     "output_type": "display_data"
    }
   ],
   "source": [
    " # Data 불러오기\n",
    "GDP_ranking <- read.csv(\"../Data/GDP.csv\")\n",
    "# 1 ~ 4줄 삭제, 컬럼은 1,2,4,5만 발췌\n",
    "GDP_ranking2 <- GDP_ranking[-c(1:4),c(1,2,4,5)]\n",
    "head(GDP_ranking2)"
   ]
  },
  {
   "cell_type": "code",
   "execution_count": 51,
   "id": "romance-internet",
   "metadata": {},
   "outputs": [
    {
     "data": {
      "text/html": [
       "<table>\n",
       "<thead><tr><th></th><th scope=col>X</th><th scope=col>Gross.domestic.product.2018</th><th scope=col>X.2</th><th scope=col>X.3</th></tr></thead>\n",
       "<tbody>\n",
       "\t<tr><th scope=row>5</th><td>USA               </td><td>1                 </td><td>United States     </td><td> 20,494,100       </td></tr>\n",
       "\t<tr><th scope=row>6</th><td>CHN               </td><td>2                 </td><td>China             </td><td> 13,608,152       </td></tr>\n",
       "\t<tr><th scope=row>7</th><td>JPN               </td><td>3                 </td><td>Japan             </td><td> 4,970,916        </td></tr>\n",
       "\t<tr><th scope=row>8</th><td>DEU               </td><td>4                 </td><td>Germany           </td><td> 3,996,759        </td></tr>\n",
       "\t<tr><th scope=row>9</th><td>GBR               </td><td>5                 </td><td>United Kingdom    </td><td> 2,825,208        </td></tr>\n",
       "\t<tr><th scope=row>10</th><td>FRA               </td><td>6                 </td><td>France            </td><td> 2,777,535        </td></tr>\n",
       "\t<tr><th scope=row>11</th><td>IND               </td><td>7                 </td><td>India             </td><td> 2,726,323        </td></tr>\n",
       "\t<tr><th scope=row>12</th><td>ITA               </td><td>8                 </td><td>Italy             </td><td> 2,073,902        </td></tr>\n",
       "\t<tr><th scope=row>13</th><td>BRA               </td><td>9                 </td><td>Brazil            </td><td> 1,868,626        </td></tr>\n",
       "\t<tr><th scope=row>14</th><td>CAN               </td><td>10                </td><td>Canada            </td><td> 1,712,510        </td></tr>\n",
       "\t<tr><th scope=row>15</th><td>RUS               </td><td>11                </td><td>Russian Federation</td><td> 1,657,554        </td></tr>\n",
       "\t<tr><th scope=row>16</th><td>KOR               </td><td>12                </td><td>Korea, Rep.       </td><td> 1,619,424        </td></tr>\n",
       "\t<tr><th scope=row>17</th><td>AUS               </td><td>13                </td><td>Australia         </td><td> 1,432,195        </td></tr>\n",
       "\t<tr><th scope=row>18</th><td>ESP               </td><td>14                </td><td>Spain             </td><td> 1,426,189        </td></tr>\n",
       "\t<tr><th scope=row>19</th><td>MEX               </td><td>15                </td><td>Mexico            </td><td> 1,223,809        </td></tr>\n",
       "</tbody>\n",
       "</table>\n"
      ],
      "text/latex": [
       "\\begin{tabular}{r|llll}\n",
       "  & X & Gross.domestic.product.2018 & X.2 & X.3\\\\\n",
       "\\hline\n",
       "\t5 & USA                & 1                  & United States      &  20,494,100       \\\\\n",
       "\t6 & CHN                & 2                  & China              &  13,608,152       \\\\\n",
       "\t7 & JPN                & 3                  & Japan              &  4,970,916        \\\\\n",
       "\t8 & DEU                & 4                  & Germany            &  3,996,759        \\\\\n",
       "\t9 & GBR                & 5                  & United Kingdom     &  2,825,208        \\\\\n",
       "\t10 & FRA                & 6                  & France             &  2,777,535        \\\\\n",
       "\t11 & IND                & 7                  & India              &  2,726,323        \\\\\n",
       "\t12 & ITA                & 8                  & Italy              &  2,073,902        \\\\\n",
       "\t13 & BRA                & 9                  & Brazil             &  1,868,626        \\\\\n",
       "\t14 & CAN                & 10                 & Canada             &  1,712,510        \\\\\n",
       "\t15 & RUS                & 11                 & Russian Federation &  1,657,554        \\\\\n",
       "\t16 & KOR                & 12                 & Korea, Rep.        &  1,619,424        \\\\\n",
       "\t17 & AUS                & 13                 & Australia          &  1,432,195        \\\\\n",
       "\t18 & ESP                & 14                 & Spain              &  1,426,189        \\\\\n",
       "\t19 & MEX                & 15                 & Mexico             &  1,223,809        \\\\\n",
       "\\end{tabular}\n"
      ],
      "text/markdown": [
       "\n",
       "| <!--/--> | X | Gross.domestic.product.2018 | X.2 | X.3 |\n",
       "|---|---|---|---|---|\n",
       "| 5 | USA                | 1                  | United States      |  20,494,100        |\n",
       "| 6 | CHN                | 2                  | China              |  13,608,152        |\n",
       "| 7 | JPN                | 3                  | Japan              |  4,970,916         |\n",
       "| 8 | DEU                | 4                  | Germany            |  3,996,759         |\n",
       "| 9 | GBR                | 5                  | United Kingdom     |  2,825,208         |\n",
       "| 10 | FRA                | 6                  | France             |  2,777,535         |\n",
       "| 11 | IND                | 7                  | India              |  2,726,323         |\n",
       "| 12 | ITA                | 8                  | Italy              |  2,073,902         |\n",
       "| 13 | BRA                | 9                  | Brazil             |  1,868,626         |\n",
       "| 14 | CAN                | 10                 | Canada             |  1,712,510         |\n",
       "| 15 | RUS                | 11                 | Russian Federation |  1,657,554         |\n",
       "| 16 | KOR                | 12                 | Korea, Rep.        |  1,619,424         |\n",
       "| 17 | AUS                | 13                 | Australia          |  1,432,195         |\n",
       "| 18 | ESP                | 14                 | Spain              |  1,426,189         |\n",
       "| 19 | MEX                | 15                 | Mexico             |  1,223,809         |\n",
       "\n"
      ],
      "text/plain": [
       "   X   Gross.domestic.product.2018 X.2                X.3         \n",
       "5  USA 1                           United States       20,494,100 \n",
       "6  CHN 2                           China               13,608,152 \n",
       "7  JPN 3                           Japan               4,970,916  \n",
       "8  DEU 4                           Germany             3,996,759  \n",
       "9  GBR 5                           United Kingdom      2,825,208  \n",
       "10 FRA 6                           France              2,777,535  \n",
       "11 IND 7                           India               2,726,323  \n",
       "12 ITA 8                           Italy               2,073,902  \n",
       "13 BRA 9                           Brazil              1,868,626  \n",
       "14 CAN 10                          Canada              1,712,510  \n",
       "15 RUS 11                          Russian Federation  1,657,554  \n",
       "16 KOR 12                          Korea, Rep.         1,619,424  \n",
       "17 AUS 13                          Australia           1,432,195  \n",
       "18 ESP 14                          Spain               1,426,189  \n",
       "19 MEX 15                          Mexico              1,223,809  "
      ]
     },
     "metadata": {},
     "output_type": "display_data"
    }
   ],
   "source": [
    "# 상위 15개국만 선별한다\n",
    "GDP_ranking15 <- GDP_ranking2[c(1:15),]\n",
    "GDP_ranking15\n",
    "\n",
    "GDP_ranking15 <- GDP_ranking2[]"
   ]
  },
  {
   "cell_type": "code",
   "execution_count": 56,
   "id": "considerable-composer",
   "metadata": {},
   "outputs": [
    {
     "data": {
      "text/html": [
       "<table>\n",
       "<thead><tr><th></th><th scope=col>Code</th><th scope=col>Ranking</th><th scope=col>Nation</th><th scope=col>GDP</th></tr></thead>\n",
       "<tbody>\n",
       "\t<tr><th scope=row>5</th><td>USA               </td><td>1                 </td><td>United States     </td><td> 20,494,100       </td></tr>\n",
       "\t<tr><th scope=row>6</th><td>CHN               </td><td>2                 </td><td>China             </td><td> 13,608,152       </td></tr>\n",
       "\t<tr><th scope=row>7</th><td>JPN               </td><td>3                 </td><td>Japan             </td><td> 4,970,916        </td></tr>\n",
       "\t<tr><th scope=row>8</th><td>DEU               </td><td>4                 </td><td>Germany           </td><td> 3,996,759        </td></tr>\n",
       "\t<tr><th scope=row>9</th><td>GBR               </td><td>5                 </td><td>United Kingdom    </td><td> 2,825,208        </td></tr>\n",
       "\t<tr><th scope=row>10</th><td>FRA               </td><td>6                 </td><td>France            </td><td> 2,777,535        </td></tr>\n",
       "\t<tr><th scope=row>11</th><td>IND               </td><td>7                 </td><td>India             </td><td> 2,726,323        </td></tr>\n",
       "\t<tr><th scope=row>12</th><td>ITA               </td><td>8                 </td><td>Italy             </td><td> 2,073,902        </td></tr>\n",
       "\t<tr><th scope=row>13</th><td>BRA               </td><td>9                 </td><td>Brazil            </td><td> 1,868,626        </td></tr>\n",
       "\t<tr><th scope=row>14</th><td>CAN               </td><td>10                </td><td>Canada            </td><td> 1,712,510        </td></tr>\n",
       "\t<tr><th scope=row>15</th><td>RUS               </td><td>11                </td><td>Russian Federation</td><td> 1,657,554        </td></tr>\n",
       "\t<tr><th scope=row>16</th><td>KOR               </td><td>12                </td><td>Korea, Rep.       </td><td> 1,619,424        </td></tr>\n",
       "\t<tr><th scope=row>17</th><td>AUS               </td><td>13                </td><td>Australia         </td><td> 1,432,195        </td></tr>\n",
       "\t<tr><th scope=row>18</th><td>ESP               </td><td>14                </td><td>Spain             </td><td> 1,426,189        </td></tr>\n",
       "\t<tr><th scope=row>19</th><td>MEX               </td><td>15                </td><td>Mexico            </td><td> 1,223,809        </td></tr>\n",
       "</tbody>\n",
       "</table>\n"
      ],
      "text/latex": [
       "\\begin{tabular}{r|llll}\n",
       "  & Code & Ranking & Nation & GDP\\\\\n",
       "\\hline\n",
       "\t5 & USA                & 1                  & United States      &  20,494,100       \\\\\n",
       "\t6 & CHN                & 2                  & China              &  13,608,152       \\\\\n",
       "\t7 & JPN                & 3                  & Japan              &  4,970,916        \\\\\n",
       "\t8 & DEU                & 4                  & Germany            &  3,996,759        \\\\\n",
       "\t9 & GBR                & 5                  & United Kingdom     &  2,825,208        \\\\\n",
       "\t10 & FRA                & 6                  & France             &  2,777,535        \\\\\n",
       "\t11 & IND                & 7                  & India              &  2,726,323        \\\\\n",
       "\t12 & ITA                & 8                  & Italy              &  2,073,902        \\\\\n",
       "\t13 & BRA                & 9                  & Brazil             &  1,868,626        \\\\\n",
       "\t14 & CAN                & 10                 & Canada             &  1,712,510        \\\\\n",
       "\t15 & RUS                & 11                 & Russian Federation &  1,657,554        \\\\\n",
       "\t16 & KOR                & 12                 & Korea, Rep.        &  1,619,424        \\\\\n",
       "\t17 & AUS                & 13                 & Australia          &  1,432,195        \\\\\n",
       "\t18 & ESP                & 14                 & Spain              &  1,426,189        \\\\\n",
       "\t19 & MEX                & 15                 & Mexico             &  1,223,809        \\\\\n",
       "\\end{tabular}\n"
      ],
      "text/markdown": [
       "\n",
       "| <!--/--> | Code | Ranking | Nation | GDP |\n",
       "|---|---|---|---|---|\n",
       "| 5 | USA                | 1                  | United States      |  20,494,100        |\n",
       "| 6 | CHN                | 2                  | China              |  13,608,152        |\n",
       "| 7 | JPN                | 3                  | Japan              |  4,970,916         |\n",
       "| 8 | DEU                | 4                  | Germany            |  3,996,759         |\n",
       "| 9 | GBR                | 5                  | United Kingdom     |  2,825,208         |\n",
       "| 10 | FRA                | 6                  | France             |  2,777,535         |\n",
       "| 11 | IND                | 7                  | India              |  2,726,323         |\n",
       "| 12 | ITA                | 8                  | Italy              |  2,073,902         |\n",
       "| 13 | BRA                | 9                  | Brazil             |  1,868,626         |\n",
       "| 14 | CAN                | 10                 | Canada             |  1,712,510         |\n",
       "| 15 | RUS                | 11                 | Russian Federation |  1,657,554         |\n",
       "| 16 | KOR                | 12                 | Korea, Rep.        |  1,619,424         |\n",
       "| 17 | AUS                | 13                 | Australia          |  1,432,195         |\n",
       "| 18 | ESP                | 14                 | Spain              |  1,426,189         |\n",
       "| 19 | MEX                | 15                 | Mexico             |  1,223,809         |\n",
       "\n"
      ],
      "text/plain": [
       "   Code Ranking Nation             GDP         \n",
       "5  USA  1       United States       20,494,100 \n",
       "6  CHN  2       China               13,608,152 \n",
       "7  JPN  3       Japan               4,970,916  \n",
       "8  DEU  4       Germany             3,996,759  \n",
       "9  GBR  5       United Kingdom      2,825,208  \n",
       "10 FRA  6       France              2,777,535  \n",
       "11 IND  7       India               2,726,323  \n",
       "12 ITA  8       Italy               2,073,902  \n",
       "13 BRA  9       Brazil              1,868,626  \n",
       "14 CAN  10      Canada              1,712,510  \n",
       "15 RUS  11      Russian Federation  1,657,554  \n",
       "16 KOR  12      Korea, Rep.         1,619,424  \n",
       "17 AUS  13      Australia           1,432,195  \n",
       "18 ESP  14      Spain               1,426,189  \n",
       "19 MEX  15      Mexico              1,223,809  "
      ]
     },
     "metadata": {},
     "output_type": "display_data"
    }
   ],
   "source": [
    "colnames(GDP_ranking15) <- c(\"Code\", \"Ranking\", \"Nation\", \"GDP\")\n",
    "GDP_ranking15"
   ]
  },
  {
   "cell_type": "code",
   "execution_count": 63,
   "id": "leading-africa",
   "metadata": {
    "collapsed": true
   },
   "outputs": [
    {
     "name": "stdout",
     "output_type": "stream",
     "text": [
      "  Code Ranking         Nation          GDP\n",
      "1  USA       1  United States  20,494,100 \n",
      "2  CHN       2          China  13,608,152 \n",
      "3  JPN       3          Japan   4,970,916 \n",
      "4  DEU       4        Germany   3,996,759 \n",
      "5  GBR       5 United Kingdom   2,825,208 \n",
      "6  FRA       6         France   2,777,535 \n"
     ]
    }
   ],
   "source": [
    "# rownames 새로 구성하기\n",
    "rownames(GDP_ranking15) <- c()\n",
    "print(head(GDP_ranking15))"
   ]
  },
  {
   "cell_type": "markdown",
   "id": "gothic-drain",
   "metadata": {},
   "source": [
    "### 내부 구조 확인 "
   ]
  },
  {
   "cell_type": "code",
   "execution_count": 64,
   "id": "worst-blind",
   "metadata": {},
   "outputs": [
    {
     "name": "stdout",
     "output_type": "stream",
     "text": [
      "'data.frame':\t15 obs. of  4 variables:\n",
      " $ Code   : Factor w/ 230 levels \"\",\"ABW\",\"AFG\",..: 216 38 103 52 72 68 94 100 28 34 ...\n",
      " $ Ranking: Factor w/ 212 levels \"\",\".. Not available.  \",..: 3 114 131 142 153 164 175 186 197 4 ...\n",
      " $ Nation : Factor w/ 231 levels \"\",\"Afghanistan\",..: 219 43 104 78 218 73 95 102 28 37 ...\n",
      " $ GDP    : Factor w/ 220 levels \"\",\" .. \",\" 1,022 \",..: 78 44 137 113 77 75 74 67 20 19 ...\n"
     ]
    }
   ],
   "source": [
    "# 정리하는것이 필요함\n",
    "str(GDP_ranking15)"
   ]
  },
  {
   "cell_type": "code",
   "execution_count": 67,
   "id": "experienced-insider",
   "metadata": {
    "collapsed": true
   },
   "outputs": [
    {
     "name": "stdout",
     "output_type": "stream",
     "text": [
      "'data.frame':\t15 obs. of  4 variables:\n",
      " $ Code   : Factor w/ 15 levels \"AUS\",\"BRA\",\"CAN\",..: 15 4 11 5 8 7 9 10 2 3 ...\n",
      " $ Ranking: Factor w/ 15 levels \"1\",\"10\",\"11\",..: 1 8 9 10 11 12 13 14 15 2 ...\n",
      " $ Nation : Factor w/ 15 levels \"Australia\",\"Brazil\",..: 15 4 9 6 14 5 7 8 2 3 ...\n",
      " $ GDP    : Factor w/ 15 levels \" 1,223,809 \",..: 13 8 15 14 12 11 10 9 7 6 ...\n"
     ]
    }
   ],
   "source": [
    "# factor 정리하기 \n",
    "#GDP_ranking15$Code <- factor(GDP_ranking15$Code)\n",
    "#GDP_ranking15[,1] <- factor(GDP_ranking15[,1])\n",
    "#같은거니까 for문 돌려라\n",
    "for(i in 1:ncol(GDP_ranking15)){\n",
    "    GDP_ranking15[,i] <- factor(GDP_ranking15[,i])\n",
    "}\n",
    "str(GDP_ranking15)"
   ]
  },
  {
   "cell_type": "code",
   "execution_count": 68,
   "id": "stuffed-spice",
   "metadata": {},
   "outputs": [
    {
     "data": {
      "text/html": [
       "<table>\n",
       "<thead><tr><th scope=col>Code</th><th scope=col>Ranking</th><th scope=col>Nation</th><th scope=col>GDP</th></tr></thead>\n",
       "<tbody>\n",
       "\t<tr><td>USA               </td><td>1                 </td><td>United States     </td><td> 20,494,100       </td></tr>\n",
       "\t<tr><td>CHN               </td><td>2                 </td><td>China             </td><td> 13,608,152       </td></tr>\n",
       "\t<tr><td>JPN               </td><td>3                 </td><td>Japan             </td><td> 4,970,916        </td></tr>\n",
       "\t<tr><td>DEU               </td><td>4                 </td><td>Germany           </td><td> 3,996,759        </td></tr>\n",
       "\t<tr><td>GBR               </td><td>5                 </td><td>United Kingdom    </td><td> 2,825,208        </td></tr>\n",
       "\t<tr><td>FRA               </td><td>6                 </td><td>France            </td><td> 2,777,535        </td></tr>\n",
       "\t<tr><td>IND               </td><td>7                 </td><td>India             </td><td> 2,726,323        </td></tr>\n",
       "\t<tr><td>ITA               </td><td>8                 </td><td>Italy             </td><td> 2,073,902        </td></tr>\n",
       "\t<tr><td>BRA               </td><td>9                 </td><td>Brazil            </td><td> 1,868,626        </td></tr>\n",
       "\t<tr><td>CAN               </td><td>10                </td><td>Canada            </td><td> 1,712,510        </td></tr>\n",
       "\t<tr><td>RUS               </td><td>11                </td><td>Russian Federation</td><td> 1,657,554        </td></tr>\n",
       "\t<tr><td>KOR               </td><td>12                </td><td>Korea, Rep.       </td><td> 1,619,424        </td></tr>\n",
       "\t<tr><td>AUS               </td><td>13                </td><td>Australia         </td><td> 1,432,195        </td></tr>\n",
       "\t<tr><td>ESP               </td><td>14                </td><td>Spain             </td><td> 1,426,189        </td></tr>\n",
       "\t<tr><td>MEX               </td><td>15                </td><td>Mexico            </td><td> 1,223,809        </td></tr>\n",
       "</tbody>\n",
       "</table>\n"
      ],
      "text/latex": [
       "\\begin{tabular}{r|llll}\n",
       " Code & Ranking & Nation & GDP\\\\\n",
       "\\hline\n",
       "\t USA                & 1                  & United States      &  20,494,100       \\\\\n",
       "\t CHN                & 2                  & China              &  13,608,152       \\\\\n",
       "\t JPN                & 3                  & Japan              &  4,970,916        \\\\\n",
       "\t DEU                & 4                  & Germany            &  3,996,759        \\\\\n",
       "\t GBR                & 5                  & United Kingdom     &  2,825,208        \\\\\n",
       "\t FRA                & 6                  & France             &  2,777,535        \\\\\n",
       "\t IND                & 7                  & India              &  2,726,323        \\\\\n",
       "\t ITA                & 8                  & Italy              &  2,073,902        \\\\\n",
       "\t BRA                & 9                  & Brazil             &  1,868,626        \\\\\n",
       "\t CAN                & 10                 & Canada             &  1,712,510        \\\\\n",
       "\t RUS                & 11                 & Russian Federation &  1,657,554        \\\\\n",
       "\t KOR                & 12                 & Korea, Rep.        &  1,619,424        \\\\\n",
       "\t AUS                & 13                 & Australia          &  1,432,195        \\\\\n",
       "\t ESP                & 14                 & Spain              &  1,426,189        \\\\\n",
       "\t MEX                & 15                 & Mexico             &  1,223,809        \\\\\n",
       "\\end{tabular}\n"
      ],
      "text/markdown": [
       "\n",
       "| Code | Ranking | Nation | GDP |\n",
       "|---|---|---|---|\n",
       "| USA                | 1                  | United States      |  20,494,100        |\n",
       "| CHN                | 2                  | China              |  13,608,152        |\n",
       "| JPN                | 3                  | Japan              |  4,970,916         |\n",
       "| DEU                | 4                  | Germany            |  3,996,759         |\n",
       "| GBR                | 5                  | United Kingdom     |  2,825,208         |\n",
       "| FRA                | 6                  | France             |  2,777,535         |\n",
       "| IND                | 7                  | India              |  2,726,323         |\n",
       "| ITA                | 8                  | Italy              |  2,073,902         |\n",
       "| BRA                | 9                  | Brazil             |  1,868,626         |\n",
       "| CAN                | 10                 | Canada             |  1,712,510         |\n",
       "| RUS                | 11                 | Russian Federation |  1,657,554         |\n",
       "| KOR                | 12                 | Korea, Rep.        |  1,619,424         |\n",
       "| AUS                | 13                 | Australia          |  1,432,195         |\n",
       "| ESP                | 14                 | Spain              |  1,426,189         |\n",
       "| MEX                | 15                 | Mexico             |  1,223,809         |\n",
       "\n"
      ],
      "text/plain": [
       "   Code Ranking Nation             GDP         \n",
       "1  USA  1       United States       20,494,100 \n",
       "2  CHN  2       China               13,608,152 \n",
       "3  JPN  3       Japan               4,970,916  \n",
       "4  DEU  4       Germany             3,996,759  \n",
       "5  GBR  5       United Kingdom      2,825,208  \n",
       "6  FRA  6       France              2,777,535  \n",
       "7  IND  7       India               2,726,323  \n",
       "8  ITA  8       Italy               2,073,902  \n",
       "9  BRA  9       Brazil              1,868,626  \n",
       "10 CAN  10      Canada              1,712,510  \n",
       "11 RUS  11      Russian Federation  1,657,554  \n",
       "12 KOR  12      Korea, Rep.         1,619,424  \n",
       "13 AUS  13      Australia           1,432,195  \n",
       "14 ESP  14      Spain               1,426,189  \n",
       "15 MEX  15      Mexico              1,223,809  "
      ]
     },
     "metadata": {},
     "output_type": "display_data"
    }
   ],
   "source": [
    "# 이제 해야할 부분은 GDP 내에 있는 , , , 콤마들 때문에 Factor로 되있음 \n",
    "GDP_ranking15"
   ]
  },
  {
   "cell_type": "code",
   "execution_count": 69,
   "id": "meaning-termination",
   "metadata": {},
   "outputs": [
    {
     "name": "stderr",
     "output_type": "stream",
     "text": [
      "\n",
      "Attaching package: ‘stringr’\n",
      "\n",
      "The following object is masked _by_ ‘.GlobalEnv’:\n",
      "\n",
      "    fruit\n",
      "\n"
     ]
    }
   ],
   "source": [
    "# stringr을 사용하여 숫자로 변환\n",
    "library(stringr)\n"
   ]
  },
  {
   "cell_type": "code",
   "execution_count": 79,
   "id": "figured-delay",
   "metadata": {},
   "outputs": [
    {
     "name": "stdout",
     "output_type": "stream",
     "text": [
      "'data.frame':\t15 obs. of  4 variables:\n",
      " $ Code   : Factor w/ 15 levels \"AUS\",\"BRA\",\"CAN\",..: 15 4 11 5 8 7 9 10 2 3 ...\n",
      " $ Ranking: Factor w/ 15 levels \"1\",\"10\",\"11\",..: 1 8 9 10 11 12 13 14 15 2 ...\n",
      " $ Nation : Factor w/ 15 levels \"Australia\",\"Brazil\",..: 15 4 9 6 14 5 7 8 2 3 ...\n",
      " $ GDP    : num  20494100 13608152 4970916 3996759 2825208 ...\n"
     ]
    },
    {
     "data": {
      "text/html": [
       "<ol class=list-inline>\n",
       "\t<li>20494100</li>\n",
       "\t<li>13608152</li>\n",
       "\t<li>4970916</li>\n",
       "\t<li>3996759</li>\n",
       "\t<li>2825208</li>\n",
       "\t<li>2777535</li>\n",
       "\t<li>2726323</li>\n",
       "\t<li>2073902</li>\n",
       "\t<li>1868626</li>\n",
       "\t<li>1712510</li>\n",
       "\t<li>1657554</li>\n",
       "\t<li>1619424</li>\n",
       "\t<li>1432195</li>\n",
       "\t<li>1426189</li>\n",
       "\t<li>1223809</li>\n",
       "</ol>\n"
      ],
      "text/latex": [
       "\\begin{enumerate*}\n",
       "\\item 20494100\n",
       "\\item 13608152\n",
       "\\item 4970916\n",
       "\\item 3996759\n",
       "\\item 2825208\n",
       "\\item 2777535\n",
       "\\item 2726323\n",
       "\\item 2073902\n",
       "\\item 1868626\n",
       "\\item 1712510\n",
       "\\item 1657554\n",
       "\\item 1619424\n",
       "\\item 1432195\n",
       "\\item 1426189\n",
       "\\item 1223809\n",
       "\\end{enumerate*}\n"
      ],
      "text/markdown": [
       "1. 20494100\n",
       "2. 13608152\n",
       "3. 4970916\n",
       "4. 3996759\n",
       "5. 2825208\n",
       "6. 2777535\n",
       "7. 2726323\n",
       "8. 2073902\n",
       "9. 1868626\n",
       "10. 1712510\n",
       "11. 1657554\n",
       "12. 1619424\n",
       "13. 1432195\n",
       "14. 1426189\n",
       "15. 1223809\n",
       "\n",
       "\n"
      ],
      "text/plain": [
       " [1] 20494100 13608152  4970916  3996759  2825208  2777535  2726323  2073902\n",
       " [9]  1868626  1712510  1657554  1619424  1432195  1426189  1223809"
      ]
     },
     "metadata": {},
     "output_type": "display_data"
    },
    {
     "data": {
      "text/html": [
       "<ol class=list-inline>\n",
       "\t<li>'20494100'</li>\n",
       "\t<li>'13608152'</li>\n",
       "\t<li>'4970916'</li>\n",
       "\t<li>'3996759'</li>\n",
       "\t<li>'2825208'</li>\n",
       "\t<li>'2777535'</li>\n",
       "\t<li>'2726323'</li>\n",
       "\t<li>'2073902'</li>\n",
       "\t<li>'1868626'</li>\n",
       "\t<li>'1712510'</li>\n",
       "\t<li>'1657554'</li>\n",
       "\t<li>'1619424'</li>\n",
       "\t<li>'1432195'</li>\n",
       "\t<li>'1426189'</li>\n",
       "\t<li>'1223809'</li>\n",
       "</ol>\n"
      ],
      "text/latex": [
       "\\begin{enumerate*}\n",
       "\\item '20494100'\n",
       "\\item '13608152'\n",
       "\\item '4970916'\n",
       "\\item '3996759'\n",
       "\\item '2825208'\n",
       "\\item '2777535'\n",
       "\\item '2726323'\n",
       "\\item '2073902'\n",
       "\\item '1868626'\n",
       "\\item '1712510'\n",
       "\\item '1657554'\n",
       "\\item '1619424'\n",
       "\\item '1432195'\n",
       "\\item '1426189'\n",
       "\\item '1223809'\n",
       "\\end{enumerate*}\n"
      ],
      "text/markdown": [
       "1. '20494100'\n",
       "2. '13608152'\n",
       "3. '4970916'\n",
       "4. '3996759'\n",
       "5. '2825208'\n",
       "6. '2777535'\n",
       "7. '2726323'\n",
       "8. '2073902'\n",
       "9. '1868626'\n",
       "10. '1712510'\n",
       "11. '1657554'\n",
       "12. '1619424'\n",
       "13. '1432195'\n",
       "14. '1426189'\n",
       "15. '1223809'\n",
       "\n",
       "\n"
      ],
      "text/plain": [
       " [1] \"20494100\" \"13608152\" \"4970916\"  \"3996759\"  \"2825208\"  \"2777535\" \n",
       " [7] \"2726323\"  \"2073902\"  \"1868626\"  \"1712510\"  \"1657554\"  \"1619424\" \n",
       "[13] \"1432195\"  \"1426189\"  \"1223809\" "
      ]
     },
     "metadata": {},
     "output_type": "display_data"
    }
   ],
   "source": [
    "# GDP가 factor로 되어 있어 숫자로 변경하여 적용하기\n",
    "\n",
    "GDP_ranking15$GDP <- as.numeric(str_replace_all(GDP_ranking15$GDP, \",\" , \"\"))\n",
    "str(GDP_ranking15)\n",
    "gdp <- GDP_ranking15$GDP\n",
    "as.numeric(gdp)\n",
    "as.character(gdp)"
   ]
  },
  {
   "cell_type": "code",
   "execution_count": 82,
   "id": "legitimate-calendar",
   "metadata": {},
   "outputs": [],
   "source": [
    "num_gdp <- as.numeric(str_remove_all(gdp, \",\"))"
   ]
  },
  {
   "cell_type": "code",
   "execution_count": 84,
   "id": "developing-moscow",
   "metadata": {},
   "outputs": [
    {
     "name": "stdout",
     "output_type": "stream",
     "text": [
      "'data.frame':\t15 obs. of  4 variables:\n",
      " $ Code   : Factor w/ 15 levels \"AUS\",\"BRA\",\"CAN\",..: 15 4 11 5 8 7 9 10 2 3 ...\n",
      " $ Ranking: Factor w/ 15 levels \"1\",\"10\",\"11\",..: 1 8 9 10 11 12 13 14 15 2 ...\n",
      " $ Nation : Factor w/ 15 levels \"Australia\",\"Brazil\",..: 15 4 9 6 14 5 7 8 2 3 ...\n",
      " $ GDP    : num  20494100 13608152 4970916 3996759 2825208 ...\n"
     ]
    }
   ],
   "source": [
    "GDP_ranking15$GDP <- num_gdp\n",
    "str(GDP_ranking15)"
   ]
  },
  {
   "cell_type": "code",
   "execution_count": 98,
   "id": "owned-italic",
   "metadata": {},
   "outputs": [
    {
     "data": {
      "image/png": "[encoded data removed]",
      "text/plain": [
       "Plot with title “2018년 GDP 세계 15위 국가”"
      ]
     },
     "metadata": {},
     "output_type": "display_data"
    }
   ],
   "source": [
    "# for mac 쓰는 사람들 필요 --> 한글 때문에 \n",
    "options(warn = -1 )\n",
    "par(family = \"AppleGothic\")\n",
    " \n",
    "# 막대 그래프 시각화\n",
    "# 컬럼 값 정한경우 그것은 Vector 값이다 -> GDP_ranking15$GDP\n",
    "# GDP 상위 15개국 data\n",
    "# col = c(\"red\",\"blue\")\n",
    "#\n",
    "barplot(GDP_ranking15$GDP,  # Bar 띄우기 \n",
    "       col = rainbow(nrow(GDP_ranking15)),# Bar color\n",
    "       main = \"2018년 GDP 세계 15위 국가\",#Title\n",
    "       xlab = \"국가(nation)\",#x축\n",
    "       ylab = \"단위(dollar)\",#y축\n",
    "       names = GDP_ranking15$Code, # Bar 별 이름 띄우기 \n",
    "       cex.names = 0.5 #글씨 크기  \n",
    ")"
   ]
  },
  {
   "cell_type": "code",
   "execution_count": 99,
   "id": "alpha-greensboro",
   "metadata": {},
   "outputs": [
    {
     "data": {
      "image/png": "[encoded data removed]",
      "text/plain": [
       "Plot with title “2018년 GDP 세계 15위 국가”"
      ]
     },
     "metadata": {},
     "output_type": "display_data"
    }
   ],
   "source": [
    "# GDP의 단위를 천달러로 변경하기\n",
    "\n",
    "# for mac 쓰는 사람들 필요 --> 한글 때문에 \n",
    "options(warn = -1 )\n",
    "par(family = \"AppleGothic\")\n",
    " \n",
    "# 막대 그래프 시각화\n",
    "# 컬럼 값 정한경우 그것은 Vector 값이다 -> GDP_ranking15$GDP\n",
    "# GDP 상위 15개국 data\n",
    "# col = c(\"red\",\"blue\")\n",
    "#\n",
    "barplot(GDP_ranking15$GDP/1000,  # Bar 띄우기 \n",
    "       col = rainbow(nrow(GDP_ranking15)),# Bar color\n",
    "       main = \"2018년 GDP 세계 15위 국가\",#Title\n",
    "       xlab = \"국가(nation)\",#x축\n",
    "       ylab = \"단위(thousand dollar)\",#y축\n",
    "       names = GDP_ranking15$Code, # Bar 별 이름 띄우기 \n",
    "       cex.names = 0.5 #글씨 크기  \n",
    "       )"
   ]
  },
  {
   "cell_type": "code",
   "execution_count": 104,
   "id": "pursuant-pointer",
   "metadata": {},
   "outputs": [
    {
     "data": {
      "image/png": "[encoded data removed]",
      "text/plain": [
       "Plot with title “2018년 GDP 세계 15위 국가”"
      ]
     },
     "metadata": {},
     "output_type": "display_data"
    }
   ],
   "source": [
    "# GDP 미국, 중국, 한국만 red로 나머지 국가는 blue로 표시하기  \n",
    "\n",
    "# for mac 쓰는 사람들 필요 --> 한글 때문에 \n",
    "options(warn = -1 )\n",
    "par(family = \"AppleGothic\")\n",
    " \n",
    "# 막대 그래프 시각화\n",
    "# 컬럼 값 정한경우 그것은 Vector 값이다 -> GDP_ranking15$GDP\n",
    "# GDP 상위 15개국 data\n",
    "# col = c(\"red\",\"blue\")\n",
    "#\n",
    "barplot(GDP_ranking15$GDP/1000,  # Bar 띄우기 \n",
    "       col = c(\"red\",\"red\", rep(\"blue\",9),\"red\", rep(\"blue\", 3)),# Bar color\n",
    "       main = \"2018년 GDP 세계 15위 국가\",#Title\n",
    "       xlab = \"국가(nation)\",#x축\n",
    "       ylab = \"단위(thousand dollar)\",#y축\n",
    "       names = GDP_ranking15$Code, # Bar 별 이름 띄우기 \n",
    "       cex.names = 0.5 #글씨 크기  \n",
    "       )"
   ]
  },
  {
   "cell_type": "code",
   "execution_count": 106,
   "id": "valid-webmaster",
   "metadata": {},
   "outputs": [
    {
     "data": {
      "image/png": "[encoded data removed]",
      "text/plain": [
       "Plot with title “2018년 GDP 세계 15위 국가”"
      ]
     },
     "metadata": {},
     "output_type": "display_data"
    }
   ],
   "source": [
    "# GDP가 3000이상인 국가만 빨간색으로 표시하고 나머지는 파란색으로 표시하기 \n",
    "\n",
    "# for mac 쓰는 사람들 필요 --> 한글 때문에 \n",
    "options(warn = -1 )\n",
    "par(family = \"AppleGothic\")\n",
    " \n",
    "# 막대 그래프 시각화\n",
    "# 컬럼 값 정한경우 그것은 Vector 값이다 -> GDP_ranking15$GDP\n",
    "# GDP 상위 15개국 data\n",
    "# col = c(\"red\",\"blue\")\n",
    "#\n",
    "barplot(GDP_ranking15$GDP/1000,  # Bar 띄우기 \n",
    "       col = ifelse(GDP_ranking15$GDP/1000 >= 3000, \"red\", \"blue\"),# Bar color\n",
    "       main = \"2018년 GDP 세계 15위 국가\",#Title\n",
    "       xlab = \"국가(nation)\",#x축\n",
    "       ylab = \"단위(thousand dollar)\",#y축\n",
    "       names = GDP_ranking15$Code, # Bar 별 이름 띄우기 \n",
    "       cex.names = 0.5,  #글씨 크기  \n",
    "       ylim = c(0,25000) #y축 limitation  \n",
    "       )"
   ]
  },
  {
   "cell_type": "code",
   "execution_count": null,
   "id": "single-spiritual",
   "metadata": {},
   "outputs": [],
   "source": []
  }
 ],
 "metadata": {
  "kernelspec": {
   "display_name": "R",
   "language": "R",
   "name": "ir"
  },
  "language_info": {
   "codemirror_mode": "r",
   "file_extension": ".r",
   "mimetype": "text/x-r-source",
   "name": "R",
   "pygments_lexer": "r",
   "version": "3.6.1"
  }
 },
 "nbformat": 4,
 "nbformat_minor": 5
}
