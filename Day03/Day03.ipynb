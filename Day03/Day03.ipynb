{
 "cells": [
  {
   "cell_type": "markdown",
   "id": "handy-production",
   "metadata": {},
   "source": [
    "## Vector"
   ]
  },
  {
   "cell_type": "code",
   "execution_count": 4,
   "id": "southern-leader",
   "metadata": {
    "collapsed": true
   },
   "outputs": [
    {
     "data": {
      "text/html": [
       "1"
      ],
      "text/latex": [
       "1"
      ],
      "text/markdown": [
       "1"
      ],
      "text/plain": [
       "[1] 1"
      ]
     },
     "metadata": {},
     "output_type": "display_data"
    },
    {
     "data": {
      "text/html": [
       "3"
      ],
      "text/latex": [
       "3"
      ],
      "text/markdown": [
       "3"
      ],
      "text/plain": [
       "[1] 3"
      ]
     },
     "metadata": {},
     "output_type": "display_data"
    },
    {
     "data": {
      "text/html": [
       "4"
      ],
      "text/latex": [
       "4"
      ],
      "text/markdown": [
       "4"
      ],
      "text/plain": [
       "[1] 4"
      ]
     },
     "metadata": {},
     "output_type": "display_data"
    },
    {
     "data": {
      "text/html": [
       "<ol class=list-inline>\n",
       "\t<li>1</li>\n",
       "\t<li>3</li>\n",
       "</ol>\n"
      ],
      "text/latex": [
       "\\begin{enumerate*}\n",
       "\\item 1\n",
       "\\item 3\n",
       "\\end{enumerate*}\n"
      ],
      "text/markdown": [
       "1. 1\n",
       "2. 3\n",
       "\n",
       "\n"
      ],
      "text/plain": [
       "[1] 1 3"
      ]
     },
     "metadata": {},
     "output_type": "display_data"
    }
   ],
   "source": [
    "# Combine  --> 한 줄로 쭉나오는게 Vector값이다. \n",
    "v1 <- c(1,3,4)\n",
    "v1[1]\n",
    "v1[2]\n",
    "v1[1] + v1[2]\n",
    "v1[c(1,2)]"
   ]
  },
  {
   "cell_type": "code",
   "execution_count": 5,
   "id": "fabulous-federation",
   "metadata": {},
   "outputs": [
    {
     "data": {
      "text/html": [
       "<ol class=list-inline>\n",
       "\t<li>2</li>\n",
       "\t<li>3</li>\n",
       "\t<li>4</li>\n",
       "\t<li>5</li>\n",
       "\t<li>6</li>\n",
       "\t<li>7</li>\n",
       "\t<li>8</li>\n",
       "\t<li>9</li>\n",
       "\t<li>10</li>\n",
       "</ol>\n"
      ],
      "text/latex": [
       "\\begin{enumerate*}\n",
       "\\item 2\n",
       "\\item 3\n",
       "\\item 4\n",
       "\\item 5\n",
       "\\item 6\n",
       "\\item 7\n",
       "\\item 8\n",
       "\\item 9\n",
       "\\item 10\n",
       "\\end{enumerate*}\n"
      ],
      "text/markdown": [
       "1. 2\n",
       "2. 3\n",
       "3. 4\n",
       "4. 5\n",
       "5. 6\n",
       "6. 7\n",
       "7. 8\n",
       "8. 9\n",
       "9. 10\n",
       "\n",
       "\n"
      ],
      "text/plain": [
       "[1]  2  3  4  5  6  7  8  9 10"
      ]
     },
     "metadata": {},
     "output_type": "display_data"
    }
   ],
   "source": [
    "# :  --> Colon\n",
    "2:10"
   ]
  },
  {
   "cell_type": "code",
   "execution_count": 6,
   "id": "passive-garage",
   "metadata": {},
   "outputs": [
    {
     "data": {
      "text/html": [
       "<ol class=list-inline>\n",
       "\t<li>2</li>\n",
       "\t<li>4</li>\n",
       "\t<li>6</li>\n",
       "\t<li>8</li>\n",
       "\t<li>10</li>\n",
       "</ol>\n"
      ],
      "text/latex": [
       "\\begin{enumerate*}\n",
       "\\item 2\n",
       "\\item 4\n",
       "\\item 6\n",
       "\\item 8\n",
       "\\item 10\n",
       "\\end{enumerate*}\n"
      ],
      "text/markdown": [
       "1. 2\n",
       "2. 4\n",
       "3. 6\n",
       "4. 8\n",
       "5. 10\n",
       "\n",
       "\n"
      ],
      "text/plain": [
       "[1]  2  4  6  8 10"
      ]
     },
     "metadata": {},
     "output_type": "display_data"
    }
   ],
   "source": [
    "# seq 범위 특정값 단위로 \n",
    "seq(2, 10, 2)"
   ]
  },
  {
   "cell_type": "code",
   "execution_count": 10,
   "id": "standard-niger",
   "metadata": {
    "collapsed": true
   },
   "outputs": [
    {
     "data": {
      "text/html": [
       "<ol class=list-inline>\n",
       "\t<li>1</li>\n",
       "\t<li>1</li>\n",
       "\t<li>1</li>\n",
       "</ol>\n"
      ],
      "text/latex": [
       "\\begin{enumerate*}\n",
       "\\item 1\n",
       "\\item 1\n",
       "\\item 1\n",
       "\\end{enumerate*}\n"
      ],
      "text/markdown": [
       "1. 1\n",
       "2. 1\n",
       "3. 1\n",
       "\n",
       "\n"
      ],
      "text/plain": [
       "[1] 1 1 1"
      ]
     },
     "metadata": {},
     "output_type": "display_data"
    },
    {
     "data": {
      "text/html": [
       "<ol class=list-inline>\n",
       "\t<li>1</li>\n",
       "\t<li>2</li>\n",
       "\t<li>1</li>\n",
       "\t<li>2</li>\n",
       "\t<li>1</li>\n",
       "\t<li>2</li>\n",
       "</ol>\n"
      ],
      "text/latex": [
       "\\begin{enumerate*}\n",
       "\\item 1\n",
       "\\item 2\n",
       "\\item 1\n",
       "\\item 2\n",
       "\\item 1\n",
       "\\item 2\n",
       "\\end{enumerate*}\n"
      ],
      "text/markdown": [
       "1. 1\n",
       "2. 2\n",
       "3. 1\n",
       "4. 2\n",
       "5. 1\n",
       "6. 2\n",
       "\n",
       "\n"
      ],
      "text/plain": [
       "[1] 1 2 1 2 1 2"
      ]
     },
     "metadata": {},
     "output_type": "display_data"
    },
    {
     "data": {
      "text/html": [
       "<ol class=list-inline>\n",
       "\t<li>1</li>\n",
       "\t<li>2</li>\n",
       "\t<li>3</li>\n",
       "\t<li>4</li>\n",
       "\t<li>5</li>\n",
       "\t<li>1</li>\n",
       "\t<li>2</li>\n",
       "\t<li>3</li>\n",
       "\t<li>4</li>\n",
       "\t<li>5</li>\n",
       "\t<li>1</li>\n",
       "\t<li>2</li>\n",
       "\t<li>3</li>\n",
       "\t<li>4</li>\n",
       "\t<li>5</li>\n",
       "</ol>\n"
      ],
      "text/latex": [
       "\\begin{enumerate*}\n",
       "\\item 1\n",
       "\\item 2\n",
       "\\item 3\n",
       "\\item 4\n",
       "\\item 5\n",
       "\\item 1\n",
       "\\item 2\n",
       "\\item 3\n",
       "\\item 4\n",
       "\\item 5\n",
       "\\item 1\n",
       "\\item 2\n",
       "\\item 3\n",
       "\\item 4\n",
       "\\item 5\n",
       "\\end{enumerate*}\n"
      ],
      "text/markdown": [
       "1. 1\n",
       "2. 2\n",
       "3. 3\n",
       "4. 4\n",
       "5. 5\n",
       "6. 1\n",
       "7. 2\n",
       "8. 3\n",
       "9. 4\n",
       "10. 5\n",
       "11. 1\n",
       "12. 2\n",
       "13. 3\n",
       "14. 4\n",
       "15. 5\n",
       "\n",
       "\n"
      ],
      "text/plain": [
       " [1] 1 2 3 4 5 1 2 3 4 5 1 2 3 4 5"
      ]
     },
     "metadata": {},
     "output_type": "display_data"
    },
    {
     "data": {
      "text/html": [
       "<ol class=list-inline>\n",
       "\t<li>'blue'</li>\n",
       "\t<li>'blue'</li>\n",
       "\t<li>'blue'</li>\n",
       "</ol>\n"
      ],
      "text/latex": [
       "\\begin{enumerate*}\n",
       "\\item 'blue'\n",
       "\\item 'blue'\n",
       "\\item 'blue'\n",
       "\\end{enumerate*}\n"
      ],
      "text/markdown": [
       "1. 'blue'\n",
       "2. 'blue'\n",
       "3. 'blue'\n",
       "\n",
       "\n"
      ],
      "text/plain": [
       "[1] \"blue\" \"blue\" \"blue\""
      ]
     },
     "metadata": {},
     "output_type": "display_data"
    }
   ],
   "source": [
    "# rep 반복\n",
    "rep(1,3)\n",
    "rep(c(1,2),3)\n",
    "rep(1:5, 3)\n",
    "rep(\"blue\", 3)\n"
   ]
  },
  {
   "cell_type": "code",
   "execution_count": 16,
   "id": "improved-vehicle",
   "metadata": {},
   "outputs": [
    {
     "data": {
      "text/html": [
       "<table>\n",
       "<thead><tr><th scope=col>Sepal.Length</th><th scope=col>Sepal.Width</th></tr></thead>\n",
       "<tbody>\n",
       "\t<tr><td>5.1</td><td>3.5</td></tr>\n",
       "\t<tr><td>4.9</td><td>3.0</td></tr>\n",
       "\t<tr><td>4.7</td><td>3.2</td></tr>\n",
       "\t<tr><td>4.6</td><td>3.1</td></tr>\n",
       "\t<tr><td>5.0</td><td>3.6</td></tr>\n",
       "\t<tr><td>5.4</td><td>3.9</td></tr>\n",
       "</tbody>\n",
       "</table>\n"
      ],
      "text/latex": [
       "\\begin{tabular}{r|ll}\n",
       " Sepal.Length & Sepal.Width\\\\\n",
       "\\hline\n",
       "\t 5.1 & 3.5\\\\\n",
       "\t 4.9 & 3.0\\\\\n",
       "\t 4.7 & 3.2\\\\\n",
       "\t 4.6 & 3.1\\\\\n",
       "\t 5.0 & 3.6\\\\\n",
       "\t 5.4 & 3.9\\\\\n",
       "\\end{tabular}\n"
      ],
      "text/markdown": [
       "\n",
       "| Sepal.Length | Sepal.Width |\n",
       "|---|---|\n",
       "| 5.1 | 3.5 |\n",
       "| 4.9 | 3.0 |\n",
       "| 4.7 | 3.2 |\n",
       "| 4.6 | 3.1 |\n",
       "| 5.0 | 3.6 |\n",
       "| 5.4 | 3.9 |\n",
       "\n"
      ],
      "text/plain": [
       "  Sepal.Length Sepal.Width\n",
       "1 5.1          3.5        \n",
       "2 4.9          3.0        \n",
       "3 4.7          3.2        \n",
       "4 4.6          3.1        \n",
       "5 5.0          3.6        \n",
       "6 5.4          3.9        "
      ]
     },
     "metadata": {},
     "output_type": "display_data"
    },
    {
     "data": {
      "text/html": [
       "<table>\n",
       "<thead><tr><th scope=col>Sepal.Length</th><th scope=col>Sepal.Width</th></tr></thead>\n",
       "<tbody>\n",
       "\t<tr><td>5.1</td><td>3.5</td></tr>\n",
       "\t<tr><td>4.9</td><td>3.0</td></tr>\n",
       "\t<tr><td>4.7</td><td>3.2</td></tr>\n",
       "\t<tr><td>4.6</td><td>3.1</td></tr>\n",
       "\t<tr><td>5.0</td><td>3.6</td></tr>\n",
       "\t<tr><td>5.4</td><td>3.9</td></tr>\n",
       "</tbody>\n",
       "</table>\n"
      ],
      "text/latex": [
       "\\begin{tabular}{r|ll}\n",
       " Sepal.Length & Sepal.Width\\\\\n",
       "\\hline\n",
       "\t 5.1 & 3.5\\\\\n",
       "\t 4.9 & 3.0\\\\\n",
       "\t 4.7 & 3.2\\\\\n",
       "\t 4.6 & 3.1\\\\\n",
       "\t 5.0 & 3.6\\\\\n",
       "\t 5.4 & 3.9\\\\\n",
       "\\end{tabular}\n"
      ],
      "text/markdown": [
       "\n",
       "| Sepal.Length | Sepal.Width |\n",
       "|---|---|\n",
       "| 5.1 | 3.5 |\n",
       "| 4.9 | 3.0 |\n",
       "| 4.7 | 3.2 |\n",
       "| 4.6 | 3.1 |\n",
       "| 5.0 | 3.6 |\n",
       "| 5.4 | 3.9 |\n",
       "\n"
      ],
      "text/plain": [
       "  Sepal.Length Sepal.Width\n",
       "1 5.1          3.5        \n",
       "2 4.9          3.0        \n",
       "3 4.7          3.2        \n",
       "4 4.6          3.1        \n",
       "5 5.0          3.6        \n",
       "6 5.4          3.9        "
      ]
     },
     "metadata": {},
     "output_type": "display_data"
    },
    {
     "data": {
      "text/html": [
       "<table>\n",
       "<thead><tr><th scope=col>Sepal.Length</th><th scope=col>Sepal.Width</th></tr></thead>\n",
       "<tbody>\n",
       "\t<tr><td>5.1</td><td>3.5</td></tr>\n",
       "\t<tr><td>4.9</td><td>3.0</td></tr>\n",
       "\t<tr><td>4.7</td><td>3.2</td></tr>\n",
       "\t<tr><td>4.6</td><td>3.1</td></tr>\n",
       "\t<tr><td>5.0</td><td>3.6</td></tr>\n",
       "\t<tr><td>5.4</td><td>3.9</td></tr>\n",
       "</tbody>\n",
       "</table>\n"
      ],
      "text/latex": [
       "\\begin{tabular}{r|ll}\n",
       " Sepal.Length & Sepal.Width\\\\\n",
       "\\hline\n",
       "\t 5.1 & 3.5\\\\\n",
       "\t 4.9 & 3.0\\\\\n",
       "\t 4.7 & 3.2\\\\\n",
       "\t 4.6 & 3.1\\\\\n",
       "\t 5.0 & 3.6\\\\\n",
       "\t 5.4 & 3.9\\\\\n",
       "\\end{tabular}\n"
      ],
      "text/markdown": [
       "\n",
       "| Sepal.Length | Sepal.Width |\n",
       "|---|---|\n",
       "| 5.1 | 3.5 |\n",
       "| 4.9 | 3.0 |\n",
       "| 4.7 | 3.2 |\n",
       "| 4.6 | 3.1 |\n",
       "| 5.0 | 3.6 |\n",
       "| 5.4 | 3.9 |\n",
       "\n"
      ],
      "text/plain": [
       "  Sepal.Length Sepal.Width\n",
       "1 5.1          3.5        \n",
       "2 4.9          3.0        \n",
       "3 4.7          3.2        \n",
       "4 4.6          3.1        \n",
       "5 5.0          3.6        \n",
       "6 5.4          3.9        "
      ]
     },
     "metadata": {},
     "output_type": "display_data"
    }
   ],
   "source": [
    "# 2차원 데이터 -> 행과 열이 있으므로\n",
    "\n",
    "iris[1:6, 1:2]\n",
    "iris[1:6, c(\"Sepal.Length\", \"Sepal.Width\")]\n",
    "#컬럼이름 다쓰기 싫을때\n",
    "cloumnName <- c(\"Sepal.Length\", \"Sepal.Width\")\n",
    "iris[1:6,cloumnName]"
   ]
  },
  {
   "cell_type": "code",
   "execution_count": 17,
   "id": "shared-ghana",
   "metadata": {
    "collapsed": true
   },
   "outputs": [
    {
     "name": "stdout",
     "output_type": "stream",
     "text": [
      "'data.frame':\t150 obs. of  2 variables:\n",
      " $ Sepal.Length: num  5.1 4.9 4.7 4.6 5 5.4 4.6 5 4.4 4.9 ...\n",
      " $ Sepal.Width : num  3.5 3 3.2 3.1 3.6 3.9 3.4 3.4 2.9 3.1 ...\n"
     ]
    }
   ],
   "source": [
    "# [,] 안써도 에러 안남  --> 기본 값(Default)이 열에 대한(row) 값이다. \n",
    "str(iris[1:2])"
   ]
  },
  {
   "cell_type": "code",
   "execution_count": 18,
   "id": "entitled-shade",
   "metadata": {},
   "outputs": [
    {
     "data": {
      "text/html": [
       "5"
      ],
      "text/latex": [
       "5"
      ],
      "text/markdown": [
       "5"
      ],
      "text/plain": [
       "[1] 5"
      ]
     },
     "metadata": {},
     "output_type": "display_data"
    }
   ],
   "source": [
    "length(iris)"
   ]
  },
  {
   "cell_type": "code",
   "execution_count": 20,
   "id": "cognitive-border",
   "metadata": {},
   "outputs": [
    {
     "data": {
      "text/html": [
       "'setosa,:,123,setosa'"
      ],
      "text/latex": [
       "'setosa,:,123,setosa'"
      ],
      "text/markdown": [
       "'setosa,:,123,setosa'"
      ],
      "text/plain": [
       "[1] \"setosa,:,123,setosa\""
      ]
     },
     "metadata": {},
     "output_type": "display_data"
    }
   ],
   "source": [
    "paste(iris[1,5], \":\" , 123, iris[2,5], sep = \",\")"
   ]
  },
  {
   "cell_type": "code",
   "execution_count": 21,
   "id": "prospective-crawford",
   "metadata": {},
   "outputs": [
    {
     "name": "stdout",
     "output_type": "stream",
     "text": [
      "  Sepal.Length Sepal.Width Petal.Length Petal.Width Species\n",
      "1          5.1         3.5          1.4         0.2  setosa\n",
      "2          4.9         3.0          1.4         0.2  setosa\n",
      "3          4.7         3.2          1.3         0.2  setosa\n",
      "4          4.6         3.1          1.5         0.2  setosa\n",
      "5          5.0         3.6          1.4         0.2  setosa\n",
      "6          5.4         3.9          1.7         0.4  setosa\n"
     ]
    }
   ],
   "source": [
    "print(head(iris))"
   ]
  },
  {
   "cell_type": "code",
   "execution_count": 25,
   "id": "duplicate-nickname",
   "metadata": {},
   "outputs": [
    {
     "name": "stdout",
     "output_type": "stream",
     "text": [
      "AAA\n",
      "BBB"
     ]
    }
   ],
   "source": [
    "cat(\"AAA\", \"\\n\" ,\"BBB\", sep = \"\")"
   ]
  },
  {
   "cell_type": "markdown",
   "id": "brutal-liver",
   "metadata": {},
   "source": [
    "# Matrix "
   ]
  },
  {
   "cell_type": "code",
   "execution_count": 26,
   "id": "dense-experiment",
   "metadata": {},
   "outputs": [],
   "source": [
    "vec1 <- c(1,2,3)\n",
    "vec2 <- c(4,5,6)\n",
    "vec3 <- c(7,8,9)"
   ]
  },
  {
   "cell_type": "code",
   "execution_count": 27,
   "id": "invalid-theta",
   "metadata": {},
   "outputs": [
    {
     "data": {
      "text/html": [
       "<table>\n",
       "<tbody>\n",
       "\t<tr><td>1</td><td>4</td><td>7</td></tr>\n",
       "\t<tr><td>2</td><td>5</td><td>8</td></tr>\n",
       "\t<tr><td>3</td><td>6</td><td>9</td></tr>\n",
       "</tbody>\n",
       "</table>\n"
      ],
      "text/latex": [
       "\\begin{tabular}{lll}\n",
       "\t 1 & 4 & 7\\\\\n",
       "\t 2 & 5 & 8\\\\\n",
       "\t 3 & 6 & 9\\\\\n",
       "\\end{tabular}\n"
      ],
      "text/markdown": [
       "\n",
       "| 1 | 4 | 7 |\n",
       "| 2 | 5 | 8 |\n",
       "| 3 | 6 | 9 |\n",
       "\n"
      ],
      "text/plain": [
       "     [,1] [,2] [,3]\n",
       "[1,] 1    4    7   \n",
       "[2,] 2    5    8   \n",
       "[3,] 3    6    9   "
      ]
     },
     "metadata": {},
     "output_type": "display_data"
    }
   ],
   "source": [
    "# 만들수 있는 방식이 두가지가 있다. --> data 추가는 무조건 rbind // column 추가하는 것은 cbind\n",
    "matrix(1:9,3)"
   ]
  },
  {
   "cell_type": "code",
   "execution_count": 40,
   "id": "vanilla-colony",
   "metadata": {},
   "outputs": [
    {
     "data": {
      "text/html": [
       "<table>\n",
       "<thead><tr><th></th><th scope=col>A</th><th scope=col>C</th><th scope=col>B</th></tr></thead>\n",
       "<tbody>\n",
       "\t<tr><th scope=row>vec1</th><td>1</td><td>2</td><td>3</td></tr>\n",
       "\t<tr><th scope=row>vec3</th><td>7</td><td>8</td><td>9</td></tr>\n",
       "\t<tr><th scope=row>vec2</th><td>4</td><td>5</td><td>6</td></tr>\n",
       "</tbody>\n",
       "</table>\n"
      ],
      "text/latex": [
       "\\begin{tabular}{r|lll}\n",
       "  & A & C & B\\\\\n",
       "\\hline\n",
       "\tvec1 & 1 & 2 & 3\\\\\n",
       "\tvec3 & 7 & 8 & 9\\\\\n",
       "\tvec2 & 4 & 5 & 6\\\\\n",
       "\\end{tabular}\n"
      ],
      "text/markdown": [
       "\n",
       "| <!--/--> | A | C | B |\n",
       "|---|---|---|---|\n",
       "| vec1 | 1 | 2 | 3 |\n",
       "| vec3 | 7 | 8 | 9 |\n",
       "| vec2 | 4 | 5 | 6 |\n",
       "\n"
      ],
      "text/plain": [
       "     A C B\n",
       "vec1 1 2 3\n",
       "vec3 7 8 9\n",
       "vec2 4 5 6"
      ]
     },
     "metadata": {},
     "output_type": "display_data"
    },
    {
     "data": {
      "text/html": [
       "<table>\n",
       "<thead><tr><th></th><th scope=col>A</th><th scope=col>B</th><th scope=col>C</th></tr></thead>\n",
       "<tbody>\n",
       "\t<tr><th scope=row>vec1</th><td>1</td><td>3</td><td>2</td></tr>\n",
       "\t<tr><th scope=row>vec2</th><td>4</td><td>6</td><td>5</td></tr>\n",
       "\t<tr><th scope=row>vec3</th><td>7</td><td>9</td><td>8</td></tr>\n",
       "</tbody>\n",
       "</table>\n"
      ],
      "text/latex": [
       "\\begin{tabular}{r|lll}\n",
       "  & A & B & C\\\\\n",
       "\\hline\n",
       "\tvec1 & 1 & 3 & 2\\\\\n",
       "\tvec2 & 4 & 6 & 5\\\\\n",
       "\tvec3 & 7 & 9 & 8\\\\\n",
       "\\end{tabular}\n"
      ],
      "text/markdown": [
       "\n",
       "| <!--/--> | A | B | C |\n",
       "|---|---|---|---|\n",
       "| vec1 | 1 | 3 | 2 |\n",
       "| vec2 | 4 | 6 | 5 |\n",
       "| vec3 | 7 | 9 | 8 |\n",
       "\n"
      ],
      "text/plain": [
       "     A B C\n",
       "vec1 1 3 2\n",
       "vec2 4 6 5\n",
       "vec3 7 9 8"
      ]
     },
     "metadata": {},
     "output_type": "display_data"
    }
   ],
   "source": [
    "mat1 <- rbind(vec1, vec3, vec2)\n",
    "colnames(mat1) <- c(\"A\", \"C\", \"B\")\n",
    "mat1\n",
    "# 컬럼 위치 변경 할때 !\n",
    "mat1 <- mat1[c(1,3,2),c(\"A\", \"B\", \"C\")]\n",
    "mat1"
   ]
  },
  {
   "cell_type": "code",
   "execution_count": 52,
   "id": "dated-vegetation",
   "metadata": {
    "collapsed": true
   },
   "outputs": [
    {
     "name": "stdout",
     "output_type": "stream",
     "text": [
      "  vec1 vec2 vec3\n",
      "A    1    4    7\n",
      "B    2    5    8\n",
      "C    3    6    9\n"
     ]
    },
    {
     "data": {
      "text/html": [
       "<table>\n",
       "<thead><tr><th></th><th scope=col>vec1</th><th scope=col>vec2</th><th scope=col>vec3</th></tr></thead>\n",
       "<tbody>\n",
       "\t<tr><th scope=row>A</th><td>1</td><td>4</td><td>7</td></tr>\n",
       "\t<tr><th scope=row>B</th><td>2</td><td>5</td><td>8</td></tr>\n",
       "\t<tr><th scope=row>C</th><td>3</td><td>6</td><td>9</td></tr>\n",
       "</tbody>\n",
       "</table>\n"
      ],
      "text/latex": [
       "\\begin{tabular}{r|lll}\n",
       "  & vec1 & vec2 & vec3\\\\\n",
       "\\hline\n",
       "\tA & 1 & 4 & 7\\\\\n",
       "\tB & 2 & 5 & 8\\\\\n",
       "\tC & 3 & 6 & 9\\\\\n",
       "\\end{tabular}\n"
      ],
      "text/markdown": [
       "\n",
       "| <!--/--> | vec1 | vec2 | vec3 |\n",
       "|---|---|---|---|\n",
       "| A | 1 | 4 | 7 |\n",
       "| B | 2 | 5 | 8 |\n",
       "| C | 3 | 6 | 9 |\n",
       "\n"
      ],
      "text/plain": [
       "  vec1 vec2 vec3\n",
       "A 1    4    7   \n",
       "B 2    5    8   \n",
       "C 3    6    9   "
      ]
     },
     "metadata": {},
     "output_type": "display_data"
    },
    {
     "data": {
      "text/html": [
       "'data.frame'"
      ],
      "text/latex": [
       "'data.frame'"
      ],
      "text/markdown": [
       "'data.frame'"
      ],
      "text/plain": [
       "[1] \"data.frame\""
      ]
     },
     "metadata": {},
     "output_type": "display_data"
    },
    {
     "data": {
      "text/html": [
       "'matrix'"
      ],
      "text/latex": [
       "'matrix'"
      ],
      "text/markdown": [
       "'matrix'"
      ],
      "text/plain": [
       "[1] \"matrix\""
      ]
     },
     "metadata": {},
     "output_type": "display_data"
    },
    {
     "data": {
      "text/html": [
       "<table>\n",
       "<thead><tr><th></th><th scope=col>vec1</th><th scope=col>vec2</th><th scope=col>vec3</th><th scope=col>vec4</th></tr></thead>\n",
       "<tbody>\n",
       "\t<tr><th scope=row>A</th><td>1 </td><td>4 </td><td>7 </td><td>10</td></tr>\n",
       "\t<tr><th scope=row>B</th><td>2 </td><td>5 </td><td>8 </td><td>11</td></tr>\n",
       "\t<tr><th scope=row>C</th><td>3 </td><td>6 </td><td>9 </td><td>12</td></tr>\n",
       "</tbody>\n",
       "</table>\n"
      ],
      "text/latex": [
       "\\begin{tabular}{r|llll}\n",
       "  & vec1 & vec2 & vec3 & vec4\\\\\n",
       "\\hline\n",
       "\tA & 1  & 4  & 7  & 10\\\\\n",
       "\tB & 2  & 5  & 8  & 11\\\\\n",
       "\tC & 3  & 6  & 9  & 12\\\\\n",
       "\\end{tabular}\n"
      ],
      "text/markdown": [
       "\n",
       "| <!--/--> | vec1 | vec2 | vec3 | vec4 |\n",
       "|---|---|---|---|---|\n",
       "| A | 1  | 4  | 7  | 10 |\n",
       "| B | 2  | 5  | 8  | 11 |\n",
       "| C | 3  | 6  | 9  | 12 |\n",
       "\n"
      ],
      "text/plain": [
       "  vec1 vec2 vec3 vec4\n",
       "A 1    4    7    10  \n",
       "B 2    5    8    11  \n",
       "C 3    6    9    12  "
      ]
     },
     "metadata": {},
     "output_type": "display_data"
    }
   ],
   "source": [
    "mat2 <- cbind(vec1,vec2,vec3)\n",
    "rownames(mat2) <- c(\"A\" , \"B\" , \"C\")\n",
    "print(mat2)\n",
    "\n",
    "vec4 <- 10:12\n",
    "mat2 <- as.data.frame(mat2)\n",
    "mat2\n",
    "class(mat2)\n",
    "#데이터 프레임이니까 추가가능\n",
    "mat2$vec4 <- vec4\n",
    "# 다시 메트릭스화\n",
    "mat2 <- as.matrix(mat2)\n",
    "class(mat2)\n",
    "mat2\n",
    "#막대그래프 일때 메트릭스만 읽을수 있다 , <-> Data Frame은 읽을 수가 없다. \n",
    "#matrix는 타입이 하나인것만 될수 있다 <-> Data Frame 은 factory, ...등 다양하게 타입을 둘 수있다. \n"
   ]
  },
  {
   "cell_type": "markdown",
   "id": "signal-universal",
   "metadata": {},
   "source": [
    "# 데이터 프레임(Data Frame)"
   ]
  },
  {
   "cell_type": "code",
   "execution_count": 53,
   "id": "exact-evening",
   "metadata": {},
   "outputs": [],
   "source": [
    "no <- 1:4\n",
    "name <- c(\"Apple\", \"Banana\", \"Peach\" , \"Berry\")\n",
    "price <- c(500, 400, 300, 100)\n",
    "qty <- c(5, 3, 2, 10)\n"
   ]
  },
  {
   "cell_type": "code",
   "execution_count": 56,
   "id": "floral-aruba",
   "metadata": {},
   "outputs": [],
   "source": [
    "# 글부터 셋팅을 다해보고 Vector 로 넣어 준다. \n",
    "fruit <- data.frame(번호 = no, 상품명 = name, 가격 = price, 수량 = qty)"
   ]
  },
  {
   "cell_type": "code",
   "execution_count": 58,
   "id": "later-break",
   "metadata": {},
   "outputs": [
    {
     "data": {
      "text/html": [
       "<table>\n",
       "<thead><tr><th scope=col>번호</th><th scope=col>상품명</th><th scope=col>가격</th><th scope=col>수량</th></tr></thead>\n",
       "<tbody>\n",
       "\t<tr><td>1     </td><td>Apple </td><td>500   </td><td> 5    </td></tr>\n",
       "\t<tr><td>2     </td><td>Banana</td><td>400   </td><td> 3    </td></tr>\n",
       "\t<tr><td>3     </td><td>Peach </td><td>300   </td><td> 2    </td></tr>\n",
       "\t<tr><td>4     </td><td>Berry </td><td>100   </td><td>10    </td></tr>\n",
       "</tbody>\n",
       "</table>\n"
      ],
      "text/latex": [
       "\\begin{tabular}{r|llll}\n",
       " 번호 & 상품명 & 가격 & 수량\\\\\n",
       "\\hline\n",
       "\t 1      & Apple  & 500    &  5    \\\\\n",
       "\t 2      & Banana & 400    &  3    \\\\\n",
       "\t 3      & Peach  & 300    &  2    \\\\\n",
       "\t 4      & Berry  & 100    & 10    \\\\\n",
       "\\end{tabular}\n"
      ],
      "text/markdown": [
       "\n",
       "| 번호 | 상품명 | 가격 | 수량 |\n",
       "|---|---|---|---|\n",
       "| 1      | Apple  | 500    |  5     |\n",
       "| 2      | Banana | 400    |  3     |\n",
       "| 3      | Peach  | 300    |  2     |\n",
       "| 4      | Berry  | 100    | 10     |\n",
       "\n"
      ],
      "text/plain": [
       "  번호 상품명 가격 수량\n",
       "1 1    Apple  500   5  \n",
       "2 2    Banana 400   3  \n",
       "3 3    Peach  300   2  \n",
       "4 4    Berry  100  10  "
      ]
     },
     "metadata": {},
     "output_type": "display_data"
    },
    {
     "data": {
      "text/html": [
       "<ol class=list-inline>\n",
       "\t<li>'번호'</li>\n",
       "\t<li>'상품명'</li>\n",
       "\t<li>'가격'</li>\n",
       "\t<li>'수량'</li>\n",
       "</ol>\n"
      ],
      "text/latex": [
       "\\begin{enumerate*}\n",
       "\\item '번호'\n",
       "\\item '상품명'\n",
       "\\item '가격'\n",
       "\\item '수량'\n",
       "\\end{enumerate*}\n"
      ],
      "text/markdown": [
       "1. '번호'\n",
       "2. '상품명'\n",
       "3. '가격'\n",
       "4. '수량'\n",
       "\n",
       "\n"
      ],
      "text/plain": [
       "[1] \"번호\"   \"상품명\" \"가격\"   \"수량\"  "
      ]
     },
     "metadata": {},
     "output_type": "display_data"
    },
    {
     "data": {
      "text/html": [
       "<ol class=list-inline>\n",
       "\t<li>'1'</li>\n",
       "\t<li>'2'</li>\n",
       "\t<li>'3'</li>\n",
       "\t<li>'4'</li>\n",
       "</ol>\n"
      ],
      "text/latex": [
       "\\begin{enumerate*}\n",
       "\\item '1'\n",
       "\\item '2'\n",
       "\\item '3'\n",
       "\\item '4'\n",
       "\\end{enumerate*}\n"
      ],
      "text/markdown": [
       "1. '1'\n",
       "2. '2'\n",
       "3. '3'\n",
       "4. '4'\n",
       "\n",
       "\n"
      ],
      "text/plain": [
       "[1] \"1\" \"2\" \"3\" \"4\""
      ]
     },
     "metadata": {},
     "output_type": "display_data"
    }
   ],
   "source": [
    "#data 모양이 줄줄로 나오면 []가능 [,]도 가능\n",
    "fruit \n",
    "colnames(fruit)\n",
    "rownames(fruit)"
   ]
  },
  {
   "cell_type": "code",
   "execution_count": 59,
   "id": "governing-cheat",
   "metadata": {},
   "outputs": [
    {
     "name": "stdout",
     "output_type": "stream",
     "text": [
      "'data.frame':\t4 obs. of  4 variables:\n",
      " $ 번호  : int  1 2 3 4\n",
      " $ 상품명: Factor w/ 4 levels \"Apple\",\"Banana\",..: 1 2 4 3\n",
      " $ 가격  : num  500 400 300 100\n",
      " $ 수량  : num  5 3 2 10\n"
     ]
    }
   ],
   "source": [
    "# structure, tail, head, \n",
    "str(fruit)\n"
   ]
  },
  {
   "cell_type": "markdown",
   "id": "religious-mirror",
   "metadata": {},
   "source": [
    "# 외부 file 불러오기 "
   ]
  },
  {
   "cell_type": "code",
   "execution_count": 68,
   "id": "disciplinary-recorder",
   "metadata": {},
   "outputs": [
    {
     "data": {
      "text/html": [
       "<table>\n",
       "<thead><tr><th scope=col>사번</th><th scope=col>이름</th><th scope=col>급여</th></tr></thead>\n",
       "<tbody>\n",
       "\t<tr><td>101 </td><td>hong</td><td>150 </td></tr>\n",
       "\t<tr><td>201 </td><td>lee </td><td>250 </td></tr>\n",
       "\t<tr><td>301 </td><td>kim </td><td>300 </td></tr>\n",
       "</tbody>\n",
       "</table>\n"
      ],
      "text/latex": [
       "\\begin{tabular}{r|lll}\n",
       " 사번 & 이름 & 급여\\\\\n",
       "\\hline\n",
       "\t 101  & hong & 150 \\\\\n",
       "\t 201  & lee  & 250 \\\\\n",
       "\t 301  & kim  & 300 \\\\\n",
       "\\end{tabular}\n"
      ],
      "text/markdown": [
       "\n",
       "| 사번 | 이름 | 급여 |\n",
       "|---|---|---|\n",
       "| 101  | hong | 150  |\n",
       "| 201  | lee  | 250  |\n",
       "| 301  | kim  | 300  |\n",
       "\n"
      ],
      "text/plain": [
       "  사번 이름 급여\n",
       "1 101  hong 150 \n",
       "2 201  lee  250 \n",
       "3 301  kim  300 "
      ]
     },
     "metadata": {},
     "output_type": "display_data"
    }
   ],
   "source": [
    "# txt File 불러오기  .. 한단계 뒤로 돌아가기 . 현재 위치이다. \n",
    "#다 Factor로 되있다. \n",
    "txtEmp <- read.table(\"../Data/emp.txt\", header = T)\n",
    "txtEmp"
   ]
  },
  {
   "cell_type": "code",
   "execution_count": 69,
   "id": "comparable-blame",
   "metadata": {},
   "outputs": [
    {
     "name": "stdout",
     "output_type": "stream",
     "text": [
      "'data.frame':\t3 obs. of  3 variables:\n",
      " $ 사번: int  101 201 301\n",
      " $ 이름: Factor w/ 3 levels \"hong\",\"kim\",\"lee\": 1 3 2\n",
      " $ 급여: int  150 250 300\n"
     ]
    }
   ],
   "source": [
    "str(txtEmp)"
   ]
  },
  {
   "cell_type": "code",
   "execution_count": 73,
   "id": "processed-trance",
   "metadata": {},
   "outputs": [
    {
     "data": {
      "text/html": [
       "<table>\n",
       "<thead><tr><th scope=col>사번</th><th scope=col>이름</th><th scope=col>급여</th></tr></thead>\n",
       "<tbody>\n",
       "\t<tr><td>101 </td><td>hong</td><td>150 </td></tr>\n",
       "\t<tr><td>201 </td><td>lee </td><td>250 </td></tr>\n",
       "\t<tr><td>301 </td><td>kim </td><td>300 </td></tr>\n",
       "</tbody>\n",
       "</table>\n"
      ],
      "text/latex": [
       "\\begin{tabular}{r|lll}\n",
       " 사번 & 이름 & 급여\\\\\n",
       "\\hline\n",
       "\t 101  & hong & 150 \\\\\n",
       "\t 201  & lee  & 250 \\\\\n",
       "\t 301  & kim  & 300 \\\\\n",
       "\\end{tabular}\n"
      ],
      "text/markdown": [
       "\n",
       "| 사번 | 이름 | 급여 |\n",
       "|---|---|---|\n",
       "| 101  | hong | 150  |\n",
       "| 201  | lee  | 250  |\n",
       "| 301  | kim  | 300  |\n",
       "\n"
      ],
      "text/plain": [
       "  사번 이름 급여\n",
       "1 101  hong 150 \n",
       "2 201  lee  250 \n",
       "3 301  kim  300 "
      ]
     },
     "metadata": {},
     "output_type": "display_data"
    }
   ],
   "source": [
    "#각 데이터 마다 ,처리되있다면 seperate 로 ,로 구분한다는것을 알려주어야 한다.\n",
    "read.table(\"../Data/emp.txt\", header = T, sep = \",\")"
   ]
  },
  {
   "cell_type": "code",
   "execution_count": 74,
   "id": "tested-basketball",
   "metadata": {},
   "outputs": [
    {
     "data": {
      "text/html": [
       "<table>\n",
       "<thead><tr><th scope=col>사번</th><th scope=col>이름</th><th scope=col>급여</th></tr></thead>\n",
       "<tbody>\n",
       "\t<tr><td>101 </td><td>hong</td><td>150 </td></tr>\n",
       "\t<tr><td>201 </td><td>lee </td><td>250 </td></tr>\n",
       "\t<tr><td>301 </td><td>kim </td><td>300 </td></tr>\n",
       "</tbody>\n",
       "</table>\n"
      ],
      "text/latex": [
       "\\begin{tabular}{r|lll}\n",
       " 사번 & 이름 & 급여\\\\\n",
       "\\hline\n",
       "\t 101  & hong & 150 \\\\\n",
       "\t 201  & lee  & 250 \\\\\n",
       "\t 301  & kim  & 300 \\\\\n",
       "\\end{tabular}\n"
      ],
      "text/markdown": [
       "\n",
       "| 사번 | 이름 | 급여 |\n",
       "|---|---|---|\n",
       "| 101  | hong | 150  |\n",
       "| 201  | lee  | 250  |\n",
       "| 301  | kim  | 300  |\n",
       "\n"
      ],
      "text/plain": [
       "  사번 이름 급여\n",
       "1 101  hong 150 \n",
       "2 201  lee  250 \n",
       "3 301  kim  300 "
      ]
     },
     "metadata": {},
     "output_type": "display_data"
    }
   ],
   "source": [
    "#각 데이터 마다 *처리되있다면 seperate 로 *로 구분한다는것을 알려주어야 한다.\n",
    "read.table(\"../Data/emp.txt\", header = T, sep = \"*\")"
   ]
  },
  {
   "cell_type": "code",
   "execution_count": 75,
   "id": "universal-cradle",
   "metadata": {},
   "outputs": [
    {
     "data": {
      "text/html": [
       "<table>\n",
       "<thead><tr><th scope=col>사번</th><th scope=col>이름</th><th scope=col>급여</th></tr></thead>\n",
       "<tbody>\n",
       "\t<tr><td>101 </td><td>hong</td><td>150 </td></tr>\n",
       "\t<tr><td>201 </td><td>lee </td><td>250 </td></tr>\n",
       "\t<tr><td>301 </td><td>kim </td><td>300 </td></tr>\n",
       "</tbody>\n",
       "</table>\n"
      ],
      "text/latex": [
       "\\begin{tabular}{r|lll}\n",
       " 사번 & 이름 & 급여\\\\\n",
       "\\hline\n",
       "\t 101  & hong & 150 \\\\\n",
       "\t 201  & lee  & 250 \\\\\n",
       "\t 301  & kim  & 300 \\\\\n",
       "\\end{tabular}\n"
      ],
      "text/markdown": [
       "\n",
       "| 사번 | 이름 | 급여 |\n",
       "|---|---|---|\n",
       "| 101  | hong | 150  |\n",
       "| 201  | lee  | 250  |\n",
       "| 301  | kim  | 300  |\n",
       "\n"
      ],
      "text/plain": [
       "  사번 이름 급여\n",
       "1 101  hong 150 \n",
       "2 201  lee  250 \n",
       "3 301  kim  300 "
      ]
     },
     "metadata": {},
     "output_type": "display_data"
    }
   ],
   "source": [
    "#각 데이터 마다 tap처리되있다면 seperate 로 \\t로 구분하거나 \"\"빈값으로 알려주어야 한다.\n",
    "read.table(\"../Data/emp.txt\", header = T, sep = \"\\t\")"
   ]
  },
  {
   "cell_type": "code",
   "execution_count": 78,
   "id": "lesser-repeat",
   "metadata": {
    "collapsed": true
   },
   "outputs": [
    {
     "data": {
      "text/html": [
       "<table>\n",
       "<thead><tr><th scope=col>V1</th><th scope=col>V2</th><th scope=col>V3</th></tr></thead>\n",
       "<tbody>\n",
       "\t<tr><td>101   </td><td>홍길동</td><td>150   </td></tr>\n",
       "\t<tr><td>102   </td><td>이순신</td><td>450   </td></tr>\n",
       "\t<tr><td>103   </td><td>강감찬</td><td>500   </td></tr>\n",
       "\t<tr><td>104   </td><td>유관순</td><td>350   </td></tr>\n",
       "\t<tr><td>105   </td><td>김유신</td><td>400   </td></tr>\n",
       "</tbody>\n",
       "</table>\n"
      ],
      "text/latex": [
       "\\begin{tabular}{r|lll}\n",
       " V1 & V2 & V3\\\\\n",
       "\\hline\n",
       "\t 101    & 홍길동 & 150   \\\\\n",
       "\t 102    & 이순신 & 450   \\\\\n",
       "\t 103    & 강감찬 & 500   \\\\\n",
       "\t 104    & 유관순 & 350   \\\\\n",
       "\t 105    & 김유신 & 400   \\\\\n",
       "\\end{tabular}\n"
      ],
      "text/markdown": [
       "\n",
       "| V1 | V2 | V3 |\n",
       "|---|---|---|\n",
       "| 101    | 홍길동 | 150    |\n",
       "| 102    | 이순신 | 450    |\n",
       "| 103    | 강감찬 | 500    |\n",
       "| 104    | 유관순 | 350    |\n",
       "| 105    | 김유신 | 400    |\n",
       "\n"
      ],
      "text/plain": [
       "  V1  V2     V3 \n",
       "1 101 홍길동 150\n",
       "2 102 이순신 450\n",
       "3 103 강감찬 500\n",
       "4 104 유관순 350\n",
       "5 105 김유신 400"
      ]
     },
     "metadata": {},
     "output_type": "display_data"
    }
   ],
   "source": [
    "# csv는 파일 형식이다. 99%가 이형식이다. comma seperated value -table 로도 읽음\n",
    "# tsv -table 로 읽음\n",
    "# ssv -table 로 읽음\n",
    "read.csv(\"../Data/emp2.csv\", header = F)\n"
   ]
  },
  {
   "cell_type": "code",
   "execution_count": 80,
   "id": "contemporary-spell",
   "metadata": {
    "collapsed": true
   },
   "outputs": [
    {
     "data": {
      "text/html": [
       "<table>\n",
       "<thead><tr><th scope=col>V1</th><th scope=col>V2</th><th scope=col>V3</th></tr></thead>\n",
       "<tbody>\n",
       "\t<tr><td>101   </td><td>홍길동</td><td>150   </td></tr>\n",
       "\t<tr><td>102   </td><td>이순신</td><td>450   </td></tr>\n",
       "\t<tr><td>103   </td><td>강감찬</td><td>500   </td></tr>\n",
       "\t<tr><td>104   </td><td>유관순</td><td>350   </td></tr>\n",
       "\t<tr><td>105   </td><td>김유신</td><td>400   </td></tr>\n",
       "</tbody>\n",
       "</table>\n"
      ],
      "text/latex": [
       "\\begin{tabular}{r|lll}\n",
       " V1 & V2 & V3\\\\\n",
       "\\hline\n",
       "\t 101    & 홍길동 & 150   \\\\\n",
       "\t 102    & 이순신 & 450   \\\\\n",
       "\t 103    & 강감찬 & 500   \\\\\n",
       "\t 104    & 유관순 & 350   \\\\\n",
       "\t 105    & 김유신 & 400   \\\\\n",
       "\\end{tabular}\n"
      ],
      "text/markdown": [
       "\n",
       "| V1 | V2 | V3 |\n",
       "|---|---|---|\n",
       "| 101    | 홍길동 | 150    |\n",
       "| 102    | 이순신 | 450    |\n",
       "| 103    | 강감찬 | 500    |\n",
       "| 104    | 유관순 | 350    |\n",
       "| 105    | 김유신 | 400    |\n",
       "\n"
      ],
      "text/plain": [
       "  V1  V2     V3 \n",
       "1 101 홍길동 150\n",
       "2 102 이순신 450\n",
       "3 103 강감찬 500\n",
       "4 104 유관순 350\n",
       "5 105 김유신 400"
      ]
     },
     "metadata": {},
     "output_type": "display_data"
    }
   ],
   "source": [
    "read.table(\"../Data/emp2.csv\", sep = \",\")"
   ]
  },
  {
   "cell_type": "code",
   "execution_count": 81,
   "id": "published-laundry",
   "metadata": {},
   "outputs": [],
   "source": [
    "csvEmp <- read.csv(\"../Data/emp2.csv\", header = F)\n"
   ]
  },
  {
   "cell_type": "code",
   "execution_count": 82,
   "id": "given-exhibition",
   "metadata": {
    "collapsed": true
   },
   "outputs": [
    {
     "name": "stdout",
     "output_type": "stream",
     "text": [
      "'data.frame':\t5 obs. of  3 variables:\n",
      " $ V1: int  101 102 103 104 105\n",
      " $ V2: Factor w/ 5 levels \"강감찬\",\"김유신\",..: 5 4 1 3 2\n",
      " $ V3: int  150 450 500 350 400\n"
     ]
    }
   ],
   "source": [
    "str(csvEmp)"
   ]
  },
  {
   "cell_type": "code",
   "execution_count": 84,
   "id": "pointed-custom",
   "metadata": {
    "collapsed": true
   },
   "outputs": [
    {
     "data": {
      "text/html": [
       "3"
      ],
      "text/latex": [
       "3"
      ],
      "text/markdown": [
       "3"
      ],
      "text/plain": [
       "[1] 3"
      ]
     },
     "metadata": {},
     "output_type": "display_data"
    },
    {
     "data": {
      "text/html": [
       "5"
      ],
      "text/latex": [
       "5"
      ],
      "text/markdown": [
       "5"
      ],
      "text/plain": [
       "[1] 5"
      ]
     },
     "metadata": {},
     "output_type": "display_data"
    }
   ],
   "source": [
    "# 컬럼이 몇개 있냐?\n",
    "ncol(csvEmp)\n",
    "# row가 몇개 있냐? (data가 몇개 있냐?)\n",
    "nrow(csvEmp)\n"
   ]
  },
  {
   "cell_type": "code",
   "execution_count": 101,
   "id": "compressed-queens",
   "metadata": {},
   "outputs": [
    {
     "data": {
      "text/html": [
       "<table>\n",
       "<thead><tr><th scope=col>x</th><th scope=col>y</th><th scope=col>z</th></tr></thead>\n",
       "<tbody>\n",
       "\t<tr><td>1 </td><td> 2</td><td>a </td></tr>\n",
       "\t<tr><td>2 </td><td> 4</td><td>b </td></tr>\n",
       "\t<tr><td>3 </td><td> 6</td><td>c </td></tr>\n",
       "\t<tr><td>4 </td><td> 8</td><td>d </td></tr>\n",
       "\t<tr><td>5 </td><td>10</td><td>e </td></tr>\n",
       "</tbody>\n",
       "</table>\n"
      ],
      "text/latex": [
       "\\begin{tabular}{r|lll}\n",
       " x & y & z\\\\\n",
       "\\hline\n",
       "\t 1  &  2 & a \\\\\n",
       "\t 2  &  4 & b \\\\\n",
       "\t 3  &  6 & c \\\\\n",
       "\t 4  &  8 & d \\\\\n",
       "\t 5  & 10 & e \\\\\n",
       "\\end{tabular}\n"
      ],
      "text/markdown": [
       "\n",
       "| x | y | z |\n",
       "|---|---|---|\n",
       "| 1  |  2 | a  |\n",
       "| 2  |  4 | b  |\n",
       "| 3  |  6 | c  |\n",
       "| 4  |  8 | d  |\n",
       "| 5  | 10 | e  |\n",
       "\n"
      ],
      "text/plain": [
       "  x y  z\n",
       "1 1  2 a\n",
       "2 2  4 b\n",
       "3 3  6 c\n",
       "4 4  8 d\n",
       "5 5 10 e"
      ]
     },
     "metadata": {},
     "output_type": "display_data"
    }
   ],
   "source": [
    "df <- data.frame(x = 1:5, y = seq(2, 10, 2), z = c(\"a\", \"b\", \"c\" , \"d\", \"e\"))\n",
    "df"
   ]
  },
  {
   "cell_type": "code",
   "execution_count": 89,
   "id": "coral-visitor",
   "metadata": {},
   "outputs": [
    {
     "data": {
      "text/html": [
       "15"
      ],
      "text/latex": [
       "15"
      ],
      "text/markdown": [
       "15"
      ],
      "text/plain": [
       "[1] 15"
      ]
     },
     "metadata": {},
     "output_type": "display_data"
    },
    {
     "data": {
      "text/html": [
       "30"
      ],
      "text/latex": [
       "30"
      ],
      "text/markdown": [
       "30"
      ],
      "text/plain": [
       "[1] 30"
      ]
     },
     "metadata": {},
     "output_type": "display_data"
    },
    {
     "ename": "ERROR",
     "evalue": "Error in Summary.factor(structure(1:5, .Label = c(\"a\", \"b\", \"c\", \"d\", : ‘sum’ not meaningful for factors\n",
     "output_type": "error",
     "traceback": [
      "Error in Summary.factor(structure(1:5, .Label = c(\"a\", \"b\", \"c\", \"d\", : ‘sum’ not meaningful for factors\nTraceback:\n",
      "1. Summary.factor(structure(1:5, .Label = c(\"a\", \"b\", \"c\", \"d\", \n . \"e\"), class = \"factor\"), na.rm = FALSE)",
      "2. stop(gettextf(\"%s not meaningful for factors\", sQuote(.Generic)))"
     ]
    }
   ],
   "source": [
    "# x,y의 합계 구하기 \n",
    "sum(df$x)\n",
    "sum(df$y)\n",
    "# z는 문자라 합계 못구함.\n",
    "sum(df$z)"
   ]
  },
  {
   "cell_type": "markdown",
   "id": "beneficial-pressure",
   "metadata": {},
   "source": [
    "# 컬럼이 2개일땐 위에 꺼 써도 되지만 700개 이면??\n",
    "## 함수를 부르는 함수"
   ]
  },
  {
   "cell_type": "code",
   "execution_count": 93,
   "id": "radio-boulder",
   "metadata": {
    "collapsed": true
   },
   "outputs": [
    {
     "data": {
      "text/html": [
       "<table>\n",
       "<thead><tr><th scope=col>x</th><th scope=col>y</th><th scope=col>z</th></tr></thead>\n",
       "<tbody>\n",
       "\t<tr><td>1 </td><td> 2</td><td>a </td></tr>\n",
       "\t<tr><td>2 </td><td> 4</td><td>b </td></tr>\n",
       "\t<tr><td>3 </td><td> 6</td><td>c </td></tr>\n",
       "\t<tr><td>4 </td><td> 8</td><td>d </td></tr>\n",
       "\t<tr><td>5 </td><td>10</td><td>e </td></tr>\n",
       "</tbody>\n",
       "</table>\n"
      ],
      "text/latex": [
       "\\begin{tabular}{r|lll}\n",
       " x & y & z\\\\\n",
       "\\hline\n",
       "\t 1  &  2 & a \\\\\n",
       "\t 2  &  4 & b \\\\\n",
       "\t 3  &  6 & c \\\\\n",
       "\t 4  &  8 & d \\\\\n",
       "\t 5  & 10 & e \\\\\n",
       "\\end{tabular}\n"
      ],
      "text/markdown": [
       "\n",
       "| x | y | z |\n",
       "|---|---|---|\n",
       "| 1  |  2 | a  |\n",
       "| 2  |  4 | b  |\n",
       "| 3  |  6 | c  |\n",
       "| 4  |  8 | d  |\n",
       "| 5  | 10 | e  |\n",
       "\n"
      ],
      "text/plain": [
       "  x y  z\n",
       "1 1  2 a\n",
       "2 2  4 b\n",
       "3 3  6 c\n",
       "4 4  8 d\n",
       "5 5 10 e"
      ]
     },
     "metadata": {},
     "output_type": "display_data"
    },
    {
     "data": {
      "text/html": [
       "<dl class=dl-horizontal>\n",
       "\t<dt>x</dt>\n",
       "\t\t<dd>15</dd>\n",
       "\t<dt>y</dt>\n",
       "\t\t<dd>30</dd>\n",
       "</dl>\n"
      ],
      "text/latex": [
       "\\begin{description*}\n",
       "\\item[x] 15\n",
       "\\item[y] 30\n",
       "\\end{description*}\n"
      ],
      "text/markdown": [
       "x\n",
       ":   15y\n",
       ":   30\n",
       "\n"
      ],
      "text/plain": [
       " x  y \n",
       "15 30 "
      ]
     },
     "metadata": {},
     "output_type": "display_data"
    },
    {
     "data": {
      "text/html": [
       "<ol class=list-inline>\n",
       "\t<li>3</li>\n",
       "\t<li>6</li>\n",
       "\t<li>9</li>\n",
       "\t<li>12</li>\n",
       "\t<li>15</li>\n",
       "</ol>\n"
      ],
      "text/latex": [
       "\\begin{enumerate*}\n",
       "\\item 3\n",
       "\\item 6\n",
       "\\item 9\n",
       "\\item 12\n",
       "\\item 15\n",
       "\\end{enumerate*}\n"
      ],
      "text/markdown": [
       "1. 3\n",
       "2. 6\n",
       "3. 9\n",
       "4. 12\n",
       "5. 15\n",
       "\n",
       "\n"
      ],
      "text/plain": [
       "[1]  3  6  9 12 15"
      ]
     },
     "metadata": {},
     "output_type": "display_data"
    }
   ],
   "source": [
    "# dataframe에 함수 적용 (열 방향(row))\n",
    "df\n",
    "apply(df[,-3], 2, sum )\n",
    "apply(df[,-3], 1, sum )"
   ]
  },
  {
   "cell_type": "code",
   "execution_count": 102,
   "id": "realistic-driver",
   "metadata": {
    "collapsed": true
   },
   "outputs": [
    {
     "data": {
      "text/html": [
       "<table>\n",
       "<thead><tr><th scope=col>x</th><th scope=col>y</th><th scope=col>z</th><th scope=col>Hap</th></tr></thead>\n",
       "<tbody>\n",
       "\t<tr><td>1 </td><td> 2</td><td>a </td><td> 3</td></tr>\n",
       "\t<tr><td>2 </td><td> 4</td><td>b </td><td> 6</td></tr>\n",
       "\t<tr><td>3 </td><td> 6</td><td>c </td><td> 9</td></tr>\n",
       "\t<tr><td>4 </td><td> 8</td><td>d </td><td>12</td></tr>\n",
       "\t<tr><td>5 </td><td>10</td><td>e </td><td>15</td></tr>\n",
       "</tbody>\n",
       "</table>\n"
      ],
      "text/latex": [
       "\\begin{tabular}{r|llll}\n",
       " x & y & z & Hap\\\\\n",
       "\\hline\n",
       "\t 1  &  2 & a  &  3\\\\\n",
       "\t 2  &  4 & b  &  6\\\\\n",
       "\t 3  &  6 & c  &  9\\\\\n",
       "\t 4  &  8 & d  & 12\\\\\n",
       "\t 5  & 10 & e  & 15\\\\\n",
       "\\end{tabular}\n"
      ],
      "text/markdown": [
       "\n",
       "| x | y | z | Hap |\n",
       "|---|---|---|---|\n",
       "| 1  |  2 | a  |  3 |\n",
       "| 2  |  4 | b  |  6 |\n",
       "| 3  |  6 | c  |  9 |\n",
       "| 4  |  8 | d  | 12 |\n",
       "| 5  | 10 | e  | 15 |\n",
       "\n"
      ],
      "text/plain": [
       "  x y  z Hap\n",
       "1 1  2 a  3 \n",
       "2 2  4 b  6 \n",
       "3 3  6 c  9 \n",
       "4 4  8 d 12 \n",
       "5 5 10 e 15 "
      ]
     },
     "metadata": {},
     "output_type": "display_data"
    }
   ],
   "source": [
    "df$Hap <- apply(df[,-3], 1, sum)\n",
    "df\n"
   ]
  },
  {
   "cell_type": "code",
   "execution_count": 108,
   "id": "amateur-treasury",
   "metadata": {
    "collapsed": true
   },
   "outputs": [
    {
     "data": {
      "text/html": [
       "<table>\n",
       "<thead><tr><th></th><th scope=col>x</th><th scope=col>y</th><th scope=col>z</th><th scope=col>Hap</th></tr></thead>\n",
       "<tbody>\n",
       "\t<tr><th scope=row>4</th><td>4 </td><td> 8</td><td>d </td><td>12</td></tr>\n",
       "\t<tr><th scope=row>5</th><td>5 </td><td>10</td><td>e </td><td>15</td></tr>\n",
       "</tbody>\n",
       "</table>\n"
      ],
      "text/latex": [
       "\\begin{tabular}{r|llll}\n",
       "  & x & y & z & Hap\\\\\n",
       "\\hline\n",
       "\t4 & 4  &  8 & d  & 12\\\\\n",
       "\t5 & 5  & 10 & e  & 15\\\\\n",
       "\\end{tabular}\n"
      ],
      "text/markdown": [
       "\n",
       "| <!--/--> | x | y | z | Hap |\n",
       "|---|---|---|---|---|\n",
       "| 4 | 4  |  8 | d  | 12 |\n",
       "| 5 | 5  | 10 | e  | 15 |\n",
       "\n"
      ],
      "text/plain": [
       "  x y  z Hap\n",
       "4 4  8 d 12 \n",
       "5 5 10 e 15 "
      ]
     },
     "metadata": {},
     "output_type": "display_data"
    },
    {
     "data": {
      "text/html": [
       "2"
      ],
      "text/latex": [
       "2"
      ],
      "text/markdown": [
       "2"
      ],
      "text/plain": [
       "[1] 2"
      ]
     },
     "metadata": {},
     "output_type": "display_data"
    },
    {
     "data": {
      "text/html": [
       "<dl class=dl-horizontal>\n",
       "\t<dt>x</dt>\n",
       "\t\t<dd>9</dd>\n",
       "\t<dt>y</dt>\n",
       "\t\t<dd>18</dd>\n",
       "</dl>\n"
      ],
      "text/latex": [
       "\\begin{description*}\n",
       "\\item[x] 9\n",
       "\\item[y] 18\n",
       "\\end{description*}\n"
      ],
      "text/markdown": [
       "x\n",
       ":   9y\n",
       ":   18\n",
       "\n"
      ],
      "text/plain": [
       " x  y \n",
       " 9 18 "
      ]
     },
     "metadata": {},
     "output_type": "display_data"
    }
   ],
   "source": [
    "# 부분집합 ******제일 중요 Day03 중에 \n",
    "subset(df, x >= 3 & y >=8)\n",
    "#이게 몇개 냐? (row)\n",
    "nrow(subset(df, x >= 3 & y >=8))\n",
    "# 합계가 뭐냐 ? [가로,세로]\n",
    "apply(subset(df, x >= 3 & y >=8)[,1:2], 2, sum)"
   ]
  },
  {
   "cell_type": "markdown",
   "id": "typical-column",
   "metadata": {},
   "source": [
    "# 두개 이상의 데이터프레임 병합하기"
   ]
  },
  {
   "cell_type": "code",
   "execution_count": 112,
   "id": "heavy-natural",
   "metadata": {},
   "outputs": [
    {
     "data": {
      "text/html": [
       "<table>\n",
       "<thead><tr><th scope=col>id</th><th scope=col>height</th></tr></thead>\n",
       "<tbody>\n",
       "\t<tr><td>1  </td><td>160</td></tr>\n",
       "\t<tr><td>2  </td><td>170</td></tr>\n",
       "\t<tr><td>3  </td><td>180</td></tr>\n",
       "</tbody>\n",
       "</table>\n"
      ],
      "text/latex": [
       "\\begin{tabular}{r|ll}\n",
       " id & height\\\\\n",
       "\\hline\n",
       "\t 1   & 160\\\\\n",
       "\t 2   & 170\\\\\n",
       "\t 3   & 180\\\\\n",
       "\\end{tabular}\n"
      ],
      "text/markdown": [
       "\n",
       "| id | height |\n",
       "|---|---|\n",
       "| 1   | 160 |\n",
       "| 2   | 170 |\n",
       "| 3   | 180 |\n",
       "\n"
      ],
      "text/plain": [
       "  id height\n",
       "1 1  160   \n",
       "2 2  170   \n",
       "3 3  180   "
      ]
     },
     "metadata": {},
     "output_type": "display_data"
    },
    {
     "data": {
      "text/html": [
       "<table>\n",
       "<thead><tr><th scope=col>id</th><th scope=col>weight</th></tr></thead>\n",
       "<tbody>\n",
       "\t<tr><td>2 </td><td>70</td></tr>\n",
       "\t<tr><td>1 </td><td>60</td></tr>\n",
       "\t<tr><td>3 </td><td>80</td></tr>\n",
       "</tbody>\n",
       "</table>\n"
      ],
      "text/latex": [
       "\\begin{tabular}{r|ll}\n",
       " id & weight\\\\\n",
       "\\hline\n",
       "\t 2  & 70\\\\\n",
       "\t 1  & 60\\\\\n",
       "\t 3  & 80\\\\\n",
       "\\end{tabular}\n"
      ],
      "text/markdown": [
       "\n",
       "| id | weight |\n",
       "|---|---|\n",
       "| 2  | 70 |\n",
       "| 1  | 60 |\n",
       "| 3  | 80 |\n",
       "\n"
      ],
      "text/plain": [
       "  id weight\n",
       "1 2  70    \n",
       "2 1  60    \n",
       "3 3  80    "
      ]
     },
     "metadata": {},
     "output_type": "display_data"
    }
   ],
   "source": [
    "# Case 1 : key값이 되는 컬럼이 동일하고, data의 갯수도 동일한 경우  -> 착한 데이터네\n",
    "height <- data.frame(id = 1:3, height = c(160,170,180))\n",
    "height\n",
    "weight <- data.frame(id=c(2,1,3), weight = c(70,60,80))\n",
    "weight\n",
    "\n",
    "#서로 위치가 안맞는 경우. ??? 밑으로 가라!"
   ]
  },
  {
   "cell_type": "code",
   "execution_count": 113,
   "id": "effective-singer",
   "metadata": {},
   "outputs": [
    {
     "data": {
      "text/html": [
       "<table>\n",
       "<thead><tr><th scope=col>id</th><th scope=col>height</th><th scope=col>weight</th></tr></thead>\n",
       "<tbody>\n",
       "\t<tr><td>1  </td><td>160</td><td>60 </td></tr>\n",
       "\t<tr><td>2  </td><td>170</td><td>70 </td></tr>\n",
       "\t<tr><td>3  </td><td>180</td><td>80 </td></tr>\n",
       "</tbody>\n",
       "</table>\n"
      ],
      "text/latex": [
       "\\begin{tabular}{r|lll}\n",
       " id & height & weight\\\\\n",
       "\\hline\n",
       "\t 1   & 160 & 60 \\\\\n",
       "\t 2   & 170 & 70 \\\\\n",
       "\t 3   & 180 & 80 \\\\\n",
       "\\end{tabular}\n"
      ],
      "text/markdown": [
       "\n",
       "| id | height | weight |\n",
       "|---|---|---|\n",
       "| 1   | 160 | 60  |\n",
       "| 2   | 170 | 70  |\n",
       "| 3   | 180 | 80  |\n",
       "\n"
      ],
      "text/plain": [
       "  id height weight\n",
       "1 1  160    60    \n",
       "2 2  170    70    \n",
       "3 3  180    80    "
      ]
     },
     "metadata": {},
     "output_type": "display_data"
    }
   ],
   "source": [
    "#inner join outer join 과 같은 것. (in SQLD)\n",
    "merge(height, weight)"
   ]
  },
  {
   "cell_type": "code",
   "execution_count": 115,
   "id": "christian-somalia",
   "metadata": {},
   "outputs": [
    {
     "data": {
      "text/html": [
       "<table>\n",
       "<thead><tr><th scope=col>id</th><th scope=col>height</th></tr></thead>\n",
       "<tbody>\n",
       "\t<tr><td>1  </td><td>160</td></tr>\n",
       "\t<tr><td>2  </td><td>170</td></tr>\n",
       "\t<tr><td>3  </td><td>180</td></tr>\n",
       "</tbody>\n",
       "</table>\n"
      ],
      "text/latex": [
       "\\begin{tabular}{r|ll}\n",
       " id & height\\\\\n",
       "\\hline\n",
       "\t 1   & 160\\\\\n",
       "\t 2   & 170\\\\\n",
       "\t 3   & 180\\\\\n",
       "\\end{tabular}\n"
      ],
      "text/markdown": [
       "\n",
       "| id | height |\n",
       "|---|---|\n",
       "| 1   | 160 |\n",
       "| 2   | 170 |\n",
       "| 3   | 180 |\n",
       "\n"
      ],
      "text/plain": [
       "  id height\n",
       "1 1  160   \n",
       "2 2  170   \n",
       "3 3  180   "
      ]
     },
     "metadata": {},
     "output_type": "display_data"
    },
    {
     "data": {
      "text/html": [
       "<table>\n",
       "<thead><tr><th scope=col>ad</th><th scope=col>weight</th></tr></thead>\n",
       "<tbody>\n",
       "\t<tr><td>2 </td><td>70</td></tr>\n",
       "\t<tr><td>1 </td><td>80</td></tr>\n",
       "</tbody>\n",
       "</table>\n"
      ],
      "text/latex": [
       "\\begin{tabular}{r|ll}\n",
       " ad & weight\\\\\n",
       "\\hline\n",
       "\t 2  & 70\\\\\n",
       "\t 1  & 80\\\\\n",
       "\\end{tabular}\n"
      ],
      "text/markdown": [
       "\n",
       "| ad | weight |\n",
       "|---|---|\n",
       "| 2  | 70 |\n",
       "| 1  | 80 |\n",
       "\n"
      ],
      "text/plain": [
       "  ad weight\n",
       "1 2  70    \n",
       "2 1  80    "
      ]
     },
     "metadata": {},
     "output_type": "display_data"
    }
   ],
   "source": [
    "# Case 2: key값이 동일하지 않고 각각의 data의 갯수도 다를경우 --> 보통 이런놈들이다. \n",
    "height <- data.frame(id = 1:3, height = c(160,170,180))\n",
    "height\n",
    "weight <- data.frame(ad=c(2,1), weight = c(70,80))\n",
    "weight\n",
    "#컬럼 이름, 값 둘다 틀리게 나온다. "
   ]
  },
  {
   "cell_type": "code",
   "execution_count": 116,
   "id": "worse-barcelona",
   "metadata": {
    "collapsed": true
   },
   "outputs": [
    {
     "data": {
      "text/html": [
       "<table>\n",
       "<thead><tr><th scope=col>id</th><th scope=col>height</th><th scope=col>ad</th><th scope=col>weight</th></tr></thead>\n",
       "<tbody>\n",
       "\t<tr><td>1  </td><td>160</td><td>2  </td><td>70 </td></tr>\n",
       "\t<tr><td>2  </td><td>170</td><td>2  </td><td>70 </td></tr>\n",
       "\t<tr><td>3  </td><td>180</td><td>2  </td><td>70 </td></tr>\n",
       "\t<tr><td>1  </td><td>160</td><td>1  </td><td>80 </td></tr>\n",
       "\t<tr><td>2  </td><td>170</td><td>1  </td><td>80 </td></tr>\n",
       "\t<tr><td>3  </td><td>180</td><td>1  </td><td>80 </td></tr>\n",
       "</tbody>\n",
       "</table>\n"
      ],
      "text/latex": [
       "\\begin{tabular}{r|llll}\n",
       " id & height & ad & weight\\\\\n",
       "\\hline\n",
       "\t 1   & 160 & 2   & 70 \\\\\n",
       "\t 2   & 170 & 2   & 70 \\\\\n",
       "\t 3   & 180 & 2   & 70 \\\\\n",
       "\t 1   & 160 & 1   & 80 \\\\\n",
       "\t 2   & 170 & 1   & 80 \\\\\n",
       "\t 3   & 180 & 1   & 80 \\\\\n",
       "\\end{tabular}\n"
      ],
      "text/markdown": [
       "\n",
       "| id | height | ad | weight |\n",
       "|---|---|---|---|\n",
       "| 1   | 160 | 2   | 70  |\n",
       "| 2   | 170 | 2   | 70  |\n",
       "| 3   | 180 | 2   | 70  |\n",
       "| 1   | 160 | 1   | 80  |\n",
       "| 2   | 170 | 1   | 80  |\n",
       "| 3   | 180 | 1   | 80  |\n",
       "\n"
      ],
      "text/plain": [
       "  id height ad weight\n",
       "1 1  160    2  70    \n",
       "2 2  170    2  70    \n",
       "3 3  180    2  70    \n",
       "4 1  160    1  80    \n",
       "5 2  170    1  80    \n",
       "6 3  180    1  80    "
      ]
     },
     "metadata": {},
     "output_type": "display_data"
    }
   ],
   "source": [
    "# 문제가 발생함.  outer join \n",
    "merge(height, weight)"
   ]
  },
  {
   "cell_type": "code",
   "execution_count": 117,
   "id": "elementary-dayton",
   "metadata": {},
   "outputs": [
    {
     "data": {
      "text/html": [
       "<table>\n",
       "<thead><tr><th scope=col>id</th><th scope=col>height</th><th scope=col>weight</th></tr></thead>\n",
       "<tbody>\n",
       "\t<tr><td>1  </td><td>160</td><td>80 </td></tr>\n",
       "\t<tr><td>2  </td><td>170</td><td>70 </td></tr>\n",
       "</tbody>\n",
       "</table>\n"
      ],
      "text/latex": [
       "\\begin{tabular}{r|lll}\n",
       " id & height & weight\\\\\n",
       "\\hline\n",
       "\t 1   & 160 & 80 \\\\\n",
       "\t 2   & 170 & 70 \\\\\n",
       "\\end{tabular}\n"
      ],
      "text/markdown": [
       "\n",
       "| id | height | weight |\n",
       "|---|---|---|\n",
       "| 1   | 160 | 80  |\n",
       "| 2   | 170 | 70  |\n",
       "\n"
      ],
      "text/plain": [
       "  id height weight\n",
       "1 1  160    80    \n",
       "2 2  170    70    "
      ]
     },
     "metadata": {},
     "output_type": "display_data"
    }
   ],
   "source": [
    "# key를 정의하고 : data가 적은 쪽의 기준으로 merge -- > 공통 부분만 사용 하겠다 inner join\n",
    "merge(x = height, y = weight, by.x = \"id\", by.y = \"ad\")"
   ]
  },
  {
   "cell_type": "code",
   "execution_count": 118,
   "id": "standing-installation",
   "metadata": {},
   "outputs": [
    {
     "data": {
      "text/html": [
       "<table>\n",
       "<thead><tr><th scope=col>id</th><th scope=col>height</th><th scope=col>weight</th></tr></thead>\n",
       "<tbody>\n",
       "\t<tr><td>1  </td><td>160</td><td>80 </td></tr>\n",
       "\t<tr><td>2  </td><td>170</td><td>70 </td></tr>\n",
       "\t<tr><td>3  </td><td>180</td><td>NA </td></tr>\n",
       "</tbody>\n",
       "</table>\n"
      ],
      "text/latex": [
       "\\begin{tabular}{r|lll}\n",
       " id & height & weight\\\\\n",
       "\\hline\n",
       "\t 1   & 160 & 80 \\\\\n",
       "\t 2   & 170 & 70 \\\\\n",
       "\t 3   & 180 & NA \\\\\n",
       "\\end{tabular}\n"
      ],
      "text/markdown": [
       "\n",
       "| id | height | weight |\n",
       "|---|---|---|\n",
       "| 1   | 160 | 80  |\n",
       "| 2   | 170 | 70  |\n",
       "| 3   | 180 | NA  |\n",
       "\n"
      ],
      "text/plain": [
       "  id height weight\n",
       "1 1  160    80    \n",
       "2 2  170    70    \n",
       "3 3  180    NA    "
      ]
     },
     "metadata": {},
     "output_type": "display_data"
    }
   ],
   "source": [
    "# data가 많은 쪽의 기준으로 merge  -- union?\n",
    "merge(x = height, y = weight, by.x = \"id\", by.y = \"ad\", all.x = T)"
   ]
  },
  {
   "cell_type": "markdown",
   "id": "featured-draft",
   "metadata": {},
   "source": [
    "## 행렬 함수로 행렬 만들기 "
   ]
  },
  {
   "cell_type": "code",
   "execution_count": 122,
   "id": "technological-western",
   "metadata": {},
   "outputs": [
    {
     "data": {
      "text/html": [
       "<table>\n",
       "<tbody>\n",
       "\t<tr><td> 1</td></tr>\n",
       "\t<tr><td> 2</td></tr>\n",
       "\t<tr><td> 3</td></tr>\n",
       "\t<tr><td> 4</td></tr>\n",
       "\t<tr><td> 5</td></tr>\n",
       "\t<tr><td> 6</td></tr>\n",
       "\t<tr><td> 7</td></tr>\n",
       "\t<tr><td> 8</td></tr>\n",
       "\t<tr><td> 9</td></tr>\n",
       "\t<tr><td>10</td></tr>\n",
       "</tbody>\n",
       "</table>\n"
      ],
      "text/latex": [
       "\\begin{tabular}{l}\n",
       "\t  1\\\\\n",
       "\t  2\\\\\n",
       "\t  3\\\\\n",
       "\t  4\\\\\n",
       "\t  5\\\\\n",
       "\t  6\\\\\n",
       "\t  7\\\\\n",
       "\t  8\\\\\n",
       "\t  9\\\\\n",
       "\t 10\\\\\n",
       "\\end{tabular}\n"
      ],
      "text/markdown": [
       "\n",
       "|  1 |\n",
       "|  2 |\n",
       "|  3 |\n",
       "|  4 |\n",
       "|  5 |\n",
       "|  6 |\n",
       "|  7 |\n",
       "|  8 |\n",
       "|  9 |\n",
       "| 10 |\n",
       "\n"
      ],
      "text/plain": [
       "      [,1]\n",
       " [1,]  1  \n",
       " [2,]  2  \n",
       " [3,]  3  \n",
       " [4,]  4  \n",
       " [5,]  5  \n",
       " [6,]  6  \n",
       " [7,]  7  \n",
       " [8,]  8  \n",
       " [9,]  9  \n",
       "[10,] 10  "
      ]
     },
     "metadata": {},
     "output_type": "display_data"
    },
    {
     "data": {
      "text/html": [
       "<table>\n",
       "<tbody>\n",
       "\t<tr><td>1 </td><td>3 </td><td>5 </td><td>7 </td><td> 9</td></tr>\n",
       "\t<tr><td>2 </td><td>4 </td><td>6 </td><td>8 </td><td>10</td></tr>\n",
       "</tbody>\n",
       "</table>\n"
      ],
      "text/latex": [
       "\\begin{tabular}{lllll}\n",
       "\t 1  & 3  & 5  & 7  &  9\\\\\n",
       "\t 2  & 4  & 6  & 8  & 10\\\\\n",
       "\\end{tabular}\n"
      ],
      "text/markdown": [
       "\n",
       "| 1  | 3  | 5  | 7  |  9 |\n",
       "| 2  | 4  | 6  | 8  | 10 |\n",
       "\n"
      ],
      "text/plain": [
       "     [,1] [,2] [,3] [,4] [,5]\n",
       "[1,] 1    3    5    7     9  \n",
       "[2,] 2    4    6    8    10  "
      ]
     },
     "metadata": {},
     "output_type": "display_data"
    },
    {
     "data": {
      "text/html": [
       "<table>\n",
       "<tbody>\n",
       "\t<tr><td>1</td><td>4</td><td>7</td></tr>\n",
       "\t<tr><td>2</td><td>5</td><td>8</td></tr>\n",
       "\t<tr><td>3</td><td>6</td><td>9</td></tr>\n",
       "</tbody>\n",
       "</table>\n"
      ],
      "text/latex": [
       "\\begin{tabular}{lll}\n",
       "\t 1 & 4 & 7\\\\\n",
       "\t 2 & 5 & 8\\\\\n",
       "\t 3 & 6 & 9\\\\\n",
       "\\end{tabular}\n"
      ],
      "text/markdown": [
       "\n",
       "| 1 | 4 | 7 |\n",
       "| 2 | 5 | 8 |\n",
       "| 3 | 6 | 9 |\n",
       "\n"
      ],
      "text/plain": [
       "     [,1] [,2] [,3]\n",
       "[1,] 1    4    7   \n",
       "[2,] 2    5    8   \n",
       "[3,] 3    6    9   "
      ]
     },
     "metadata": {},
     "output_type": "display_data"
    }
   ],
   "source": [
    "matrix(1:10)\n",
    "matrix(1:10, nrow = 2)\n",
    "# 갯수를 맞게 만들어 줘야함. \n",
    "matrix(1:9, nrow = 3, ncol = 3)"
   ]
  },
  {
   "cell_type": "markdown",
   "id": "perceived-graduation",
   "metadata": {},
   "source": [
    "## List\n",
    "- 성격이 다른 자료구조로 생성이 가능하다 (여기까지는 Data Frame 이랑 똑같다) \n",
    "- dataframe의 row 한개 라고 보면 된다\n",
    "- key와 value 값으로 구성된다\n",
    "- dataFrame이랑 거의 성격이 똑같다. 한줄짜리 데이터이다."
   ]
  },
  {
   "cell_type": "code",
   "execution_count": 125,
   "id": "respective-receptor",
   "metadata": {},
   "outputs": [],
   "source": [
    "member <- \n",
    "list(name=\"김태현\", address = \"서울\", telno = \"010-4213-3123\", pay = 1000)"
   ]
  },
  {
   "cell_type": "code",
   "execution_count": 126,
   "id": "automotive-milan",
   "metadata": {},
   "outputs": [
    {
     "data": {
      "text/html": [
       "'김태현'"
      ],
      "text/latex": [
       "'김태현'"
      ],
      "text/markdown": [
       "'김태현'"
      ],
      "text/plain": [
       "[1] \"김태현\""
      ]
     },
     "metadata": {},
     "output_type": "display_data"
    }
   ],
   "source": [
    "member$name"
   ]
  },
  {
   "cell_type": "code",
   "execution_count": 127,
   "id": "presidential-driving",
   "metadata": {},
   "outputs": [
    {
     "data": {
      "text/html": [
       "<dl>\n",
       "\t<dt>$name</dt>\n",
       "\t\t<dd>'김태현'</dd>\n",
       "\t<dt>$address</dt>\n",
       "\t\t<dd>'서울'</dd>\n",
       "\t<dt>$telno</dt>\n",
       "\t\t<dd>'010-4213-3123'</dd>\n",
       "\t<dt>$pay</dt>\n",
       "\t\t<dd>1000</dd>\n",
       "\t<dt>$birth</dt>\n",
       "\t\t<dd>'1992-02-11'</dd>\n",
       "</dl>\n"
      ],
      "text/latex": [
       "\\begin{description}\n",
       "\\item[\\$name] '김태현'\n",
       "\\item[\\$address] '서울'\n",
       "\\item[\\$telno] '010-4213-3123'\n",
       "\\item[\\$pay] 1000\n",
       "\\item[\\$birth] '1992-02-11'\n",
       "\\end{description}\n"
      ],
      "text/markdown": [
       "$name\n",
       ":   '김태현'\n",
       "$address\n",
       ":   '서울'\n",
       "$telno\n",
       ":   '010-4213-3123'\n",
       "$pay\n",
       ":   1000\n",
       "$birth\n",
       ":   '1992-02-11'\n",
       "\n",
       "\n"
      ],
      "text/plain": [
       "$name\n",
       "[1] \"김태현\"\n",
       "\n",
       "$address\n",
       "[1] \"서울\"\n",
       "\n",
       "$telno\n",
       "[1] \"010-4213-3123\"\n",
       "\n",
       "$pay\n",
       "[1] 1000\n",
       "\n",
       "$birth\n",
       "[1] \"1992-02-11\"\n"
      ]
     },
     "metadata": {},
     "output_type": "display_data"
    }
   ],
   "source": [
    "member$birth <- \"1992-02-11\"\n",
    "member"
   ]
  },
  {
   "cell_type": "code",
   "execution_count": 128,
   "id": "vanilla-rabbit",
   "metadata": {},
   "outputs": [
    {
     "data": {
      "text/html": [
       "'list'"
      ],
      "text/latex": [
       "'list'"
      ],
      "text/markdown": [
       "'list'"
      ],
      "text/plain": [
       "[1] \"list\""
      ]
     },
     "metadata": {},
     "output_type": "display_data"
    }
   ],
   "source": [
    "#data type 이 뭐니?? 꼭 기억해라 ---> class()함수를 항상 이용 하여야 한다. \n",
    "class(member)"
   ]
  },
  {
   "cell_type": "markdown",
   "id": "surrounded-burst",
   "metadata": {},
   "source": [
    "# 문자열 처리\n",
    "- 수집한 데이터의 문자열을 자르고, 교체하고, 추출하는 작업\n",
    "\n",
    "### stringr package 사용 (function)\n",
    "- str_length() : 문자열 길이\n",
    "- str_c() : R에서 쓰는 Combine 'c'가 아니라 connect시켜주는 'c'이다.\n",
    "- str_sub() : 범위에 해당하는 문자열 생성 (똑같네?)\n",
    "- str_split() : 구분자를 기준으로 문자열을 분리하여 부분 생성\n",
    "    ex)\"123, 456, 789\"있으면 123  // 456 // 789 분리해서 생성\n",
    "- str_replace() : 기존 문자열 중에 첫번째 문자열을 특정 문자열로 변환하는 거다!?( 첫번째!!!)\n",
    "- str_replace_all() : 기존 문자열 중에 전체를 특정 문자열로 변환하는 거다!? ( 전체!!!)\n",
    "- str_remove(), str_remove_all() : 문자열 제거                ///'all' 없으면 무조건 첫번째 것만!!!!///\n",
    "- str_extract(), str_extract_all() : 특정 패턴의 문자열 추출    ///'all' 없으면 무조건 첫번째 것만!!!!///\n",
    "- str_locate(), str_locate_all() : 특정 패턴의 위치 추출       ///'all' 없으면 무조건 첫번째 것만!!!!///"
   ]
  },
  {
   "cell_type": "code",
   "execution_count": 129,
   "id": "piano-pound",
   "metadata": {},
   "outputs": [
    {
     "name": "stderr",
     "output_type": "stream",
     "text": [
      "\n",
      "Attaching package: ‘stringr’\n",
      "\n",
      "The following object is masked _by_ ‘.GlobalEnv’:\n",
      "\n",
      "    fruit\n",
      "\n"
     ]
    }
   ],
   "source": [
    "#기존 패키지에는 없음 --> 패키지 불러와야함 \n",
    "#Note 하나당 한번만 불러오면 그 Note에서는 쓸수 있으나 -> 다른 Note로 가면 다시 불러와야함\n",
    "library(stringr)"
   ]
  },
  {
   "cell_type": "code",
   "execution_count": 130,
   "id": "considered-schedule",
   "metadata": {},
   "outputs": [],
   "source": [
    "#계속 바뀌는 데이터, or 이런식으로 온 데이터\n",
    "string <- \"hongkildong105yoube1002kwanwoo25장비2005\""
   ]
  },
  {
   "cell_type": "code",
   "execution_count": 131,
   "id": "excessive-validity",
   "metadata": {},
   "outputs": [
    {
     "data": {
      "text/html": [
       "<ol>\n",
       "\t<li><ol class=list-inline>\n",
       "\t<li>'hon'</li>\n",
       "\t<li>'gki'</li>\n",
       "\t<li>'ldo'</li>\n",
       "\t<li>'you'</li>\n",
       "\t<li>'kwa'</li>\n",
       "\t<li>'nwo'</li>\n",
       "</ol>\n",
       "</li>\n",
       "</ol>\n"
      ],
      "text/latex": [
       "\\begin{enumerate}\n",
       "\\item \\begin{enumerate*}\n",
       "\\item 'hon'\n",
       "\\item 'gki'\n",
       "\\item 'ldo'\n",
       "\\item 'you'\n",
       "\\item 'kwa'\n",
       "\\item 'nwo'\n",
       "\\end{enumerate*}\n",
       "\n",
       "\\end{enumerate}\n"
      ],
      "text/markdown": [
       "1. 1. 'hon'\n",
       "2. 'gki'\n",
       "3. 'ldo'\n",
       "4. 'you'\n",
       "5. 'kwa'\n",
       "6. 'nwo'\n",
       "\n",
       "\n",
       "\n",
       "\n",
       "\n"
      ],
      "text/plain": [
       "[[1]]\n",
       "[1] \"hon\" \"gki\" \"ldo\" \"you\" \"kwa\" \"nwo\"\n"
      ]
     },
     "metadata": {},
     "output_type": "display_data"
    }
   ],
   "source": [
    "# a ~ z 까지의 영문자가 연속으로 3개 발견된 문자열 추출 --> 3개씩 끊어서 쓴다. \n",
    "# 정규식 표현이다 [a-z]{3}\n",
    "# 한글,숫자 안써짐. 그냥 알파벳 3개 씩만 가져 오겠다는 의미 !\n",
    "# 3개씩 끊었는데 3개가 안되면 안나온 식이다. \n",
    "str_extract_all(string, \"[a-z]{3}\")"
   ]
  },
  {
   "cell_type": "code",
   "execution_count": 132,
   "id": "golden-leadership",
   "metadata": {},
   "outputs": [
    {
     "data": {
      "text/html": [
       "<ol>\n",
       "\t<li><ol class=list-inline>\n",
       "\t<li>'hongk'</li>\n",
       "\t<li>'ildon'</li>\n",
       "\t<li>'yoube'</li>\n",
       "\t<li>'kwanw'</li>\n",
       "</ol>\n",
       "</li>\n",
       "</ol>\n"
      ],
      "text/latex": [
       "\\begin{enumerate}\n",
       "\\item \\begin{enumerate*}\n",
       "\\item 'hongk'\n",
       "\\item 'ildon'\n",
       "\\item 'yoube'\n",
       "\\item 'kwanw'\n",
       "\\end{enumerate*}\n",
       "\n",
       "\\end{enumerate}\n"
      ],
      "text/markdown": [
       "1. 1. 'hongk'\n",
       "2. 'ildon'\n",
       "3. 'yoube'\n",
       "4. 'kwanw'\n",
       "\n",
       "\n",
       "\n",
       "\n",
       "\n"
      ],
      "text/plain": [
       "[[1]]\n",
       "[1] \"hongk\" \"ildon\" \"yoube\" \"kwanw\"\n"
      ]
     },
     "metadata": {},
     "output_type": "display_data"
    }
   ],
   "source": [
    "# a ~ z 까지의 영문자가 연속으로 3개 ~ 5개 발견된 문자열 추출. \n",
    "# 숫자 한글 빼두고 3~5 개 가 나온거다 min : 3, max : 5\n",
    "str_extract_all(string, \"[a-z]{3,5}\")"
   ]
  },
  {
   "cell_type": "code",
   "execution_count": 138,
   "id": "adequate-relief",
   "metadata": {},
   "outputs": [
    {
     "data": {
      "text/html": [
       "<ol>\n",
       "\t<li><ol class=list-inline>\n",
       "\t<li>'hongkildong'</li>\n",
       "\t<li>'yoube'</li>\n",
       "\t<li>'kwanwoo'</li>\n",
       "</ol>\n",
       "</li>\n",
       "</ol>\n"
      ],
      "text/latex": [
       "\\begin{enumerate}\n",
       "\\item \\begin{enumerate*}\n",
       "\\item 'hongkildong'\n",
       "\\item 'yoube'\n",
       "\\item 'kwanwoo'\n",
       "\\end{enumerate*}\n",
       "\n",
       "\\end{enumerate}\n"
      ],
      "text/markdown": [
       "1. 1. 'hongkildong'\n",
       "2. 'yoube'\n",
       "3. 'kwanwoo'\n",
       "\n",
       "\n",
       "\n",
       "\n",
       "\n"
      ],
      "text/plain": [
       "[[1]]\n",
       "[1] \"hongkildong\" \"yoube\"       \"kwanwoo\"    \n"
      ]
     },
     "metadata": {},
     "output_type": "display_data"
    },
    {
     "data": {
      "text/html": [
       "<ol>\n",
       "\t<li>NULL</li>\n",
       "</ol>\n"
      ],
      "text/latex": [
       "\\begin{enumerate}\n",
       "\\item NULL\n",
       "\\end{enumerate}\n"
      ],
      "text/markdown": [
       "1. NULL\n",
       "\n",
       "\n"
      ],
      "text/plain": [
       "[[1]]\n",
       "NULL\n"
      ]
     },
     "metadata": {},
     "output_type": "display_data"
    },
    {
     "data": {
      "text/html": [
       "'list'"
      ],
      "text/latex": [
       "'list'"
      ],
      "text/markdown": [
       "'list'"
      ],
      "text/plain": [
       "[1] \"list\""
      ]
     },
     "metadata": {},
     "output_type": "display_data"
    },
    {
     "data": {
      "text/html": [
       "'hongkildong'"
      ],
      "text/latex": [
       "'hongkildong'"
      ],
      "text/markdown": [
       "'hongkildong'"
      ],
      "text/plain": [
       "[1] \"hongkildong\""
      ]
     },
     "metadata": {},
     "output_type": "display_data"
    }
   ],
   "source": [
    "# a ~ z 까지의 영문자가 연속으로 3개 이상 발견된 문자열 추출\n",
    "# N개 이상 {N,}\n",
    "a <- str_extract_all(string, \"[a-z]{3,}\")\n",
    "# 이렇게 만 뽑아 오면 데이터 못씀(책에는 여기까지 나옴) -- > []이렇게 쓰는것은 Vector\n",
    "a[1]\n",
    "a[2]\n",
    "class(a)\n",
    "# 1 이 key 값이다. 그니까---> list 해체 해야 함. \n",
    "# list 해체하기\n",
    "b <- unlist(a)\n",
    "b[1]"
   ]
  },
  {
   "cell_type": "code",
   "execution_count": 173,
   "id": "sitting-transcription",
   "metadata": {},
   "outputs": [
    {
     "data": {
      "text/html": [
       "'character'"
      ],
      "text/latex": [
       "'character'"
      ],
      "text/markdown": [
       "'character'"
      ],
      "text/plain": [
       "[1] \"character\""
      ]
     },
     "metadata": {},
     "output_type": "display_data"
    },
    {
     "data": {
      "text/html": [
       "'numeric'"
      ],
      "text/latex": [
       "'numeric'"
      ],
      "text/markdown": [
       "'numeric'"
      ],
      "text/plain": [
       "[1] \"numeric\""
      ]
     },
     "metadata": {},
     "output_type": "display_data"
    },
    {
     "data": {
      "text/html": [
       "3137"
      ],
      "text/latex": [
       "3137"
      ],
      "text/markdown": [
       "3137"
      ],
      "text/plain": [
       "[1] 3137"
      ]
     },
     "metadata": {},
     "output_type": "display_data"
    }
   ],
   "source": [
    "# 숫자만 추출하여 합계 구하기 ! ???\n",
    "number <- unlist(str_extract_all(string, \"[0-9]{1,}\"))\n",
    "class(number)\n",
    "num1<- as.numeric(number)\n",
    "class(num1)\n",
    "sum(num1)"
   ]
  },
  {
   "cell_type": "code",
   "execution_count": 177,
   "id": "front-taylor",
   "metadata": {},
   "outputs": [
    {
     "data": {
      "text/html": [
       "3137"
      ],
      "text/latex": [
       "3137"
      ],
      "text/markdown": [
       "3137"
      ],
      "text/plain": [
       "[1] 3137"
      ]
     },
     "metadata": {},
     "output_type": "display_data"
    }
   ],
   "source": [
    "# 선생님 Version --> 가급적이면 데이터 안쓰기위해 변수 안넣는게 좋다. \n",
    "sum(as.numeric(unlist(str_extract_all(string, \"[0-9]{1,}\"))))"
   ]
  },
  {
   "cell_type": "code",
   "execution_count": 185,
   "id": "monthly-surname",
   "metadata": {},
   "outputs": [
    {
     "data": {
      "text/html": [
       "'장비'"
      ],
      "text/latex": [
       "'장비'"
      ],
      "text/markdown": [
       "'장비'"
      ],
      "text/plain": [
       "[1] \"장비\""
      ]
     },
     "metadata": {},
     "output_type": "display_data"
    }
   ],
   "source": [
    "# 한글만 추출하기 \n",
    "unlist(str_extract_all(string, \"[가-힣]{1,}\"))"
   ]
  },
  {
   "cell_type": "code",
   "execution_count": 189,
   "id": "square-charles",
   "metadata": {},
   "outputs": [
    {
     "data": {
      "text/html": [
       "<ol>\n",
       "\t<li><ol class=list-inline>\n",
       "\t<li>'105'</li>\n",
       "\t<li>'1002'</li>\n",
       "\t<li>'25장비2005'</li>\n",
       "</ol>\n",
       "</li>\n",
       "</ol>\n"
      ],
      "text/latex": [
       "\\begin{enumerate}\n",
       "\\item \\begin{enumerate*}\n",
       "\\item '105'\n",
       "\\item '1002'\n",
       "\\item '25장비2005'\n",
       "\\end{enumerate*}\n",
       "\n",
       "\\end{enumerate}\n"
      ],
      "text/markdown": [
       "1. 1. '105'\n",
       "2. '1002'\n",
       "3. '25장비2005'\n",
       "\n",
       "\n",
       "\n",
       "\n",
       "\n"
      ],
      "text/plain": [
       "[[1]]\n",
       "[1] \"105\"        \"1002\"       \"25장비2005\"\n"
      ]
     },
     "metadata": {},
     "output_type": "display_data"
    }
   ],
   "source": [
    "# 영문자를 제외한 문자 출력하기    '^' not include 하는 것이다. 범위 안에만 넣어주면 된다. \n",
    "str_extract_all(string, \"[^a-z]{1,}\")"
   ]
  },
  {
   "cell_type": "code",
   "execution_count": 190,
   "id": "mediterranean-camera",
   "metadata": {},
   "outputs": [
    {
     "data": {
      "text/html": [
       "38"
      ],
      "text/latex": [
       "38"
      ],
      "text/markdown": [
       "38"
      ],
      "text/plain": [
       "[1] 38"
      ]
     },
     "metadata": {},
     "output_type": "display_data"
    }
   ],
   "source": [
    "# 문자열 길이 구하기 \n",
    "str_length(string)"
   ]
  },
  {
   "cell_type": "code",
   "execution_count": 191,
   "id": "preceding-hydrogen",
   "metadata": {},
   "outputs": [
    {
     "data": {
      "text/html": [
       "<table>\n",
       "<thead><tr><th scope=col>start</th><th scope=col>end</th></tr></thead>\n",
       "<tbody>\n",
       "\t<tr><td>33</td><td>34</td></tr>\n",
       "</tbody>\n",
       "</table>\n"
      ],
      "text/latex": [
       "\\begin{tabular}{ll}\n",
       " start & end\\\\\n",
       "\\hline\n",
       "\t 33 & 34\\\\\n",
       "\\end{tabular}\n"
      ],
      "text/markdown": [
       "\n",
       "| start | end |\n",
       "|---|---|\n",
       "| 33 | 34 |\n",
       "\n"
      ],
      "text/plain": [
       "     start end\n",
       "[1,] 33    34 "
      ]
     },
     "metadata": {},
     "output_type": "display_data"
    }
   ],
   "source": [
    "# 문자열 위치 구하기\n",
    "str_locate(string, \"장비\") # 장비의 위치가 33째 부터 34째 까지다. "
   ]
  },
  {
   "cell_type": "code",
   "execution_count": 193,
   "id": "collective-highlight",
   "metadata": {},
   "outputs": [
    {
     "data": {
      "text/html": [
       "'hongkildong105yoube1002kwanwoo25'"
      ],
      "text/latex": [
       "'hongkildong105yoube1002kwanwoo25'"
      ],
      "text/markdown": [
       "'hongkildong105yoube1002kwanwoo25'"
      ],
      "text/plain": [
       "[1] \"hongkildong105yoube1002kwanwoo25\""
      ]
     },
     "metadata": {},
     "output_type": "display_data"
    },
    {
     "data": {
      "text/html": [
       "'hongkildong105yoube1002kwanwoo25'"
      ],
      "text/latex": [
       "'hongkildong105yoube1002kwanwoo25'"
      ],
      "text/markdown": [
       "'hongkildong105yoube1002kwanwoo25'"
      ],
      "text/plain": [
       "[1] \"hongkildong105yoube1002kwanwoo25\""
      ]
     },
     "metadata": {},
     "output_type": "display_data"
    }
   ],
   "source": [
    "# 장비(특정단어)라는 글자 기준으로 그 앞의 데이터들 만 쓰겠다. 할때 str_locate가 엄청 편하다. \n",
    "# 부분 문자열 추출\n",
    "# hongkildong105yoube1002kwanwoo25 까지는 32번째 까지이다.\n",
    "str_sub(string, 1, 32)\n",
    "# 위에 처럼쓰면 데이터 위치 바뀔때 마다 바꿔 줘야하지만 밑에 처럼쓰면 아무상관없음\n",
    "# [1]  --> start이다. \n",
    "str_sub(string,1, str_locate(string, \"장비\")[1] -1)"
   ]
  },
  {
   "cell_type": "code",
   "execution_count": 196,
   "id": "private-africa",
   "metadata": {},
   "outputs": [
    {
     "data": {
      "text/html": [
       "'HONGKILDONG105YOUBE1002KWANWOO25장비2005'"
      ],
      "text/latex": [
       "'HONGKILDONG105YOUBE1002KWANWOO25장비2005'"
      ],
      "text/markdown": [
       "'HONGKILDONG105YOUBE1002KWANWOO25장비2005'"
      ],
      "text/plain": [
       "[1] \"HONGKILDONG105YOUBE1002KWANWOO25장비2005\""
      ]
     },
     "metadata": {},
     "output_type": "display_data"
    },
    {
     "data": {
      "text/html": [
       "'hongkildong105yoube1002kwanwoo25장비2005'"
      ],
      "text/latex": [
       "'hongkildong105yoube1002kwanwoo25장비2005'"
      ],
      "text/markdown": [
       "'hongkildong105yoube1002kwanwoo25장비2005'"
      ],
      "text/plain": [
       "[1] \"hongkildong105yoube1002kwanwoo25장비2005\""
      ]
     },
     "metadata": {},
     "output_type": "display_data"
    }
   ],
   "source": [
    "# 한글은 상관없으나 영어는 대문자, 소문자 변경을 할수있어야 한다.\n",
    "str_to_upper(string)\n",
    "str_to_lower(string)"
   ]
  },
  {
   "cell_type": "code",
   "execution_count": 205,
   "id": "limiting-mainstream",
   "metadata": {},
   "outputs": [
    {
     "data": {
      "text/html": [
       "'홍길동35유비45관우25장비20'"
      ],
      "text/latex": [
       "'홍길동35유비45관우25장비20'"
      ],
      "text/markdown": [
       "'홍길동35유비45관우25장비20'"
      ],
      "text/plain": [
       "[1] \"홍길동35유비45관우25장비20\""
      ]
     },
     "metadata": {},
     "output_type": "display_data"
    }
   ],
   "source": [
    "# 문자열 교체하기   // 단어가 하나씩 일때  : str_replace()// 많을때  : str_replace_all()\n",
    "string <- str_replace(string, \"hongkildong105\", \"홍길동35\")\n",
    "string <- str_replace(string, \"yoube1002\", \"유비45\")\n",
    "string <- str_replace(string, \"kwanwoo25\", \"관우25\")\n",
    "string <- str_replace(string, \"2005\", \"20\")\n",
    "string"
   ]
  },
  {
   "cell_type": "code",
   "execution_count": 206,
   "id": "literary-movie",
   "metadata": {},
   "outputs": [
    {
     "data": {
      "text/html": [
       "<ol>\n",
       "\t<li>'홍길동35유비45관우25장비20'</li>\n",
       "</ol>\n"
      ],
      "text/latex": [
       "\\begin{enumerate}\n",
       "\\item '홍길동35유비45관우25장비20'\n",
       "\\end{enumerate}\n"
      ],
      "text/markdown": [
       "1. '홍길동35유비45관우25장비20'\n",
       "\n",
       "\n"
      ],
      "text/plain": [
       "[[1]]\n",
       "[1] \"홍길동35유비45관우25장비20\"\n"
      ]
     },
     "metadata": {},
     "output_type": "display_data"
    }
   ],
   "source": [
    "# 문자열 분리하기 , :콤마 기준으로 짤라줌.\n",
    "str_split(string, \",\")"
   ]
  },
  {
   "cell_type": "code",
   "execution_count": 225,
   "id": "laughing-oriental",
   "metadata": {},
   "outputs": [
    {
     "data": {
      "text/html": [
       "'123,456,789'"
      ],
      "text/latex": [
       "'123,456,789'"
      ],
      "text/markdown": [
       "'123,456,789'"
      ],
      "text/plain": [
       "[1] \"123,456,789\""
      ]
     },
     "metadata": {},
     "output_type": "display_data"
    },
    {
     "data": {
      "text/html": [
       "'123456789'"
      ],
      "text/latex": [
       "'123456789'"
      ],
      "text/markdown": [
       "'123456789'"
      ],
      "text/plain": [
       "[1] \"123456789\""
      ]
     },
     "metadata": {},
     "output_type": "display_data"
    },
    {
     "data": {
      "text/html": [
       "123456789"
      ],
      "text/latex": [
       "123456789"
      ],
      "text/markdown": [
       "123456789"
      ],
      "text/plain": [
       "[1] 123456789"
      ]
     },
     "metadata": {},
     "output_type": "display_data"
    },
    {
     "data": {
      "text/html": [
       "123456789"
      ],
      "text/latex": [
       "123456789"
      ],
      "text/markdown": [
       "123456789"
      ],
      "text/plain": [
       "[1] 123456789"
      ]
     },
     "metadata": {},
     "output_type": "display_data"
    }
   ],
   "source": [
    "# 천단위 쉼표가 들어간 문자열을 숫자로 변경하기\n",
    "# **** 많이 씀\n",
    "price <- \"123,456,789\"\n",
    "price\n",
    "str_replace_all(price, \",\",\"\")\n",
    "\n",
    "# 첫번째 방법- 선생님\n",
    "as.numeric(str_replace_all(price, \",\", \"\"))\n",
    "\n",
    "# 두번째 방법- 선생님\n",
    "as.numeric(str_remove_all(price, \",\"))"
   ]
  },
  {
   "cell_type": "code",
   "execution_count": 227,
   "id": "acquired-michael",
   "metadata": {},
   "outputs": [
    {
     "data": {
      "text/html": [
       "&lt;NA&gt;"
      ],
      "text/latex": [
       "<NA>"
      ],
      "text/markdown": [
       "&lt;NA&gt;"
      ],
      "text/plain": [
       "[1] NA"
      ]
     },
     "metadata": {},
     "output_type": "display_data"
    },
    {
     "data": {
      "text/html": [
       "<ol class=list-inline>\n",
       "\t<li>1</li>\n",
       "\t<li>2</li>\n",
       "\t<li>10</li>\n",
       "\t<li>4</li>\n",
       "</ol>\n"
      ],
      "text/latex": [
       "\\begin{enumerate*}\n",
       "\\item 1\n",
       "\\item 2\n",
       "\\item 10\n",
       "\\item 4\n",
       "\\end{enumerate*}\n"
      ],
      "text/markdown": [
       "1. 1\n",
       "2. 2\n",
       "3. 10\n",
       "4. 4\n",
       "\n",
       "\n"
      ],
      "text/plain": [
       "[1]  1  2 10  4"
      ]
     },
     "metadata": {},
     "output_type": "display_data"
    }
   ],
   "source": [
    "# NA를 변경하기    -NA --> 결측치 \n",
    "# **** 많이 씀   \n",
    "temp <- c(1,2,NA,4)\n",
    "sum(temp)\n",
    "# -> NA 변경해야함\n",
    "as.numeric(str_replace_na(temp, 10))"
   ]
  },
  {
   "cell_type": "markdown",
   "id": "desirable-burlington",
   "metadata": {},
   "source": [
    "---\n",
    "# 제어문(조건문)"
   ]
  },
  {
   "cell_type": "code",
   "execution_count": 288,
   "id": "royal-august",
   "metadata": {},
   "outputs": [
    {
     "name": "stdout",
     "output_type": "stream",
     "text": [
      "[1] \"x > runif()\"\n",
      "[1] 4.811927\n",
      "[1] \"-----END-----\"\n"
     ]
    }
   ],
   "source": [
    "# 첫번째   (ex)- 나이에 따라 할인률이 달라져야 할경우\n",
    "x <- 10\n",
    "y <- runif(1) * 100\n",
    "\n",
    "if(x > y){\n",
    "    print(\"x > runif()\")\n",
    "    print(y)\n",
    "}\n",
    "print(\"-----END-----\")"
   ]
  },
  {
   "cell_type": "code",
   "execution_count": 366,
   "id": "packed-sunglasses",
   "metadata": {},
   "outputs": [
    {
     "name": "stdout",
     "output_type": "stream",
     "text": [
      "[1] \"x <= runif()\"\n",
      "[1] 89.19597\n",
      "[1] \"-----END-----\"\n"
     ]
    }
   ],
   "source": [
    "# 두번째 \n",
    "x <- 10\n",
    "y <- runif(1) * 100\n",
    "\n",
    "if(x > y){\n",
    "    print(\"x > runif()\")\n",
    "    print(y)\n",
    "}else {\n",
    "    print(\"x <= runif()\")\n",
    "    print(y)\n",
    "}\n",
    "print(\"-----END-----\")"
   ]
  },
  {
   "cell_type": "code",
   "execution_count": 607,
   "id": "addressed-wesley",
   "metadata": {},
   "outputs": [
    {
     "name": "stdout",
     "output_type": "stream",
     "text": [
      "[1] \"x < runif()\"\n",
      "[1] 52\n",
      "[1] \"-----END-----\"\n"
     ]
    }
   ],
   "source": [
    "# 세번째 \n",
    "x <- 10\n",
    "y <- trunc(runif(1) * 100)\n",
    "\n",
    "if(x > y){\n",
    "    print(\"x > runif()\")\n",
    "    print(y)\n",
    "}else if(x < y){\n",
    "    print(\"x < runif()\")\n",
    "    print(y)\n",
    "}else {\n",
    "    print(\"x = runif()\")\n",
    "    print(y)\n",
    "}\n",
    "print(\"-----END-----\")\n"
   ]
  },
  {
   "cell_type": "code",
   "execution_count": 614,
   "id": "relative-offset",
   "metadata": {},
   "outputs": [
    {
     "name": "stdout",
     "output_type": "stream",
     "text": [
      "8 는 짝수 입니다. \n"
     ]
    }
   ],
   "source": [
    "### 홀 짝수 구분하기 !!!! 해라~!\n",
    "a <- 8\n",
    "\n",
    "if(a %% 2 ==0){\n",
    "    #print(\"짝수\")\n",
    "    cat(a, \"는 짝수 입니다. \\n\")\n",
    "}else{\n",
    "    #print(\"홀수\") cat을 많이 쓴다. \n",
    "    cat(a, \"는 홀수 입니다. \\n\")\n",
    "}\n"
   ]
  },
  {
   "cell_type": "code",
   "execution_count": 615,
   "id": "widespread-remove",
   "metadata": {},
   "outputs": [
    {
     "data": {
      "text/html": [
       "<ol class=list-inline>\n",
       "\t<li>'짝수'</li>\n",
       "\t<li>'홀수'</li>\n",
       "\t<li>'짝수'</li>\n",
       "</ol>\n"
      ],
      "text/latex": [
       "\\begin{enumerate*}\n",
       "\\item '짝수'\n",
       "\\item '홀수'\n",
       "\\item '짝수'\n",
       "\\end{enumerate*}\n"
      ],
      "text/markdown": [
       "1. '짝수'\n",
       "2. '홀수'\n",
       "3. '짝수'\n",
       "\n",
       "\n"
      ],
      "text/plain": [
       "[1] \"짝수\" \"홀수\" \"짝수\""
      ]
     },
     "metadata": {},
     "output_type": "display_data"
    }
   ],
   "source": [
    "# R의 함수를 이용한 홀짝수 구분  /// ifelse()는 자체적으로 반복할수있는 함수이다. 위와 달리 vector기능 사용가능\n",
    "a <- c(8,9,10)\n",
    "ifelse(a %% 2 == 0, \"짝수\", \"홀수\")"
   ]
  },
  {
   "cell_type": "code",
   "execution_count": 632,
   "id": "rolled-stomach",
   "metadata": {},
   "outputs": [
    {
     "data": {
      "text/html": [
       "<ol class=list-inline>\n",
       "\t<li>'8 : 짝수'</li>\n",
       "\t<li>'9 : 홀수'</li>\n",
       "\t<li>'10 : 짝수'</li>\n",
       "</ol>\n"
      ],
      "text/latex": [
       "\\begin{enumerate*}\n",
       "\\item '8 : 짝수'\n",
       "\\item '9 : 홀수'\n",
       "\\item '10 : 짝수'\n",
       "\\end{enumerate*}\n"
      ],
      "text/markdown": [
       "1. '8 : 짝수'\n",
       "2. '9 : 홀수'\n",
       "3. '10 : 짝수'\n",
       "\n",
       "\n"
      ],
      "text/plain": [
       "[1] \"8 : 짝수\"  \"9 : 홀수\"  \"10 : 짝수\""
      ]
     },
     "metadata": {},
     "output_type": "display_data"
    },
    {
     "data": {
      "text/html": [
       "<ol class=list-inline>\n",
       "\t<li>'8 :짝수'</li>\n",
       "\t<li>'9 :홀수'</li>\n",
       "\t<li>'10 :짝수'</li>\n",
       "</ol>\n"
      ],
      "text/latex": [
       "\\begin{enumerate*}\n",
       "\\item '8 :짝수'\n",
       "\\item '9 :홀수'\n",
       "\\item '10 :짝수'\n",
       "\\end{enumerate*}\n"
      ],
      "text/markdown": [
       "1. '8 :짝수'\n",
       "2. '9 :홀수'\n",
       "3. '10 :짝수'\n",
       "\n",
       "\n"
      ],
      "text/plain": [
       "[1] \"8 :짝수\"  \"9 :홀수\"  \"10 :짝수\""
      ]
     },
     "metadata": {},
     "output_type": "display_data"
    }
   ],
   "source": [
    "#'8:짝수''9:홀수''10:짝수'\n",
    "paste(a ,ifelse(a %% 2 == 0, \": 짝수\", \": 홀수\"))\n",
    "\n",
    "# 선생님 방식 vector를 합치는 방식\n",
    "ifelse(a %% 2 == 0,paste(a, \":짝수\"),paste(a, \":홀수\"))"
   ]
  },
  {
   "cell_type": "markdown",
   "id": "driven-partnership",
   "metadata": {},
   "source": [
    "### readline"
   ]
  },
  {
   "cell_type": "code",
   "execution_count": 637,
   "id": "deluxe-outreach",
   "metadata": {},
   "outputs": [
    {
     "name": "stdout",
     "output_type": "stream",
     "text": [
      "숫자를 입력하세요!12\n"
     ]
    },
    {
     "data": {
      "text/html": [
       "12"
      ],
      "text/latex": [
       "12"
      ],
      "text/markdown": [
       "12"
      ],
      "text/plain": [
       "[1] 12"
      ]
     },
     "metadata": {},
     "output_type": "display_data"
    },
    {
     "data": {
      "text/html": [
       "'numeric'"
      ],
      "text/latex": [
       "'numeric'"
      ],
      "text/markdown": [
       "'numeric'"
      ],
      "text/plain": [
       "[1] \"numeric\""
      ]
     },
     "metadata": {},
     "output_type": "display_data"
    }
   ],
   "source": [
    "num1 <- as.numeric(readline(\"숫자를 입력하세요!\"))\n",
    "num1\n",
    "class(num1)"
   ]
  },
  {
   "cell_type": "code",
   "execution_count": 645,
   "id": "indonesian-beauty",
   "metadata": {},
   "outputs": [
    {
     "name": "stdout",
     "output_type": "stream",
     "text": [
      "숫자를 입력하세요12\n"
     ]
    },
    {
     "data": {
      "text/html": [
       "'12 : 짝수'"
      ],
      "text/latex": [
       "'12 : 짝수'"
      ],
      "text/markdown": [
       "'12 : 짝수'"
      ],
      "text/plain": [
       "[1] \"12 : 짝수\""
      ]
     },
     "metadata": {},
     "output_type": "display_data"
    }
   ],
   "source": [
    "# 사용자로 부터 data를 입력받아 홀수 인지 짝수 인지 판단하여서 출력하라!\n",
    "num2 <- as.numeric(readline(\"숫자를 입력하세요\"))\n",
    "paste(num2, ifelse(num2 %% 2 == 0 , \": 짝수\", \": 홀수\"))"
   ]
  },
  {
   "cell_type": "code",
   "execution_count": 654,
   "id": "alternative-schema",
   "metadata": {},
   "outputs": [
    {
     "name": "stdout",
     "output_type": "stream",
     "text": [
      "숫자를 입력하세요55\n",
      "F학점 입니다. \n"
     ]
    }
   ],
   "source": [
    "# 사용자로 부터 점수를 입력받아 학점으로 변경하여 출력하기\n",
    "# 90이상 A , 80 이상 B, 70이상 C\n",
    "num2 <- as.numeric(readline(\"숫자를 입력하세요\"))\n",
    "if(num2 >= 90 & num2 <= 100){\n",
    "    #print(\"짝수\")\n",
    "    cat(num2, \"점 A학점 입니다. \\n\")\n",
    "}else if(num2 >= 80 & num2 < 90){\n",
    "    #print(\"홀수\") cat을 많이 쓴다. \n",
    "    cat(num2, \"점 B학점 입니다. \\n\")\n",
    "}else if(num2 >=70 & num2 < 80){\n",
    "        cat(num2, \"점 C학점 입니다. \\n\")\n",
    "}else if(num2 <= 69 & num2 >= 0){\n",
    "    cat(\"F학점 입니다. \\n\")\n",
    "}else{\n",
    "    cat(\"다시 입력해 주세요.\")\n",
    "}\n"
   ]
  },
  {
   "cell_type": "code",
   "execution_count": 659,
   "id": "raised-trust",
   "metadata": {
    "collapsed": true
   },
   "outputs": [
    {
     "data": {
      "text/html": [
       "<table>\n",
       "<thead><tr><th scope=col>q1</th><th scope=col>q2</th><th scope=col>q3</th><th scope=col>q4</th><th scope=col>q5</th></tr></thead>\n",
       "<tbody>\n",
       "\t<tr><td>2</td><td>4</td><td>4</td><td>2</td><td>2</td></tr>\n",
       "\t<tr><td>1</td><td>2</td><td>2</td><td>2</td><td>2</td></tr>\n",
       "\t<tr><td>2</td><td>3</td><td>4</td><td>3</td><td>3</td></tr>\n",
       "\t<tr><td>3</td><td>5</td><td>5</td><td>3</td><td>3</td></tr>\n",
       "\t<tr><td>3</td><td>2</td><td>4</td><td>4</td><td>4</td></tr>\n",
       "\t<tr><td>4</td><td>3</td><td>3</td><td>4</td><td>2</td></tr>\n",
       "</tbody>\n",
       "</table>\n"
      ],
      "text/latex": [
       "\\begin{tabular}{r|lllll}\n",
       " q1 & q2 & q3 & q4 & q5\\\\\n",
       "\\hline\n",
       "\t 2 & 4 & 4 & 2 & 2\\\\\n",
       "\t 1 & 2 & 2 & 2 & 2\\\\\n",
       "\t 2 & 3 & 4 & 3 & 3\\\\\n",
       "\t 3 & 5 & 5 & 3 & 3\\\\\n",
       "\t 3 & 2 & 4 & 4 & 4\\\\\n",
       "\t 4 & 3 & 3 & 4 & 2\\\\\n",
       "\\end{tabular}\n"
      ],
      "text/markdown": [
       "\n",
       "| q1 | q2 | q3 | q4 | q5 |\n",
       "|---|---|---|---|---|\n",
       "| 2 | 4 | 4 | 2 | 2 |\n",
       "| 1 | 2 | 2 | 2 | 2 |\n",
       "| 2 | 3 | 4 | 3 | 3 |\n",
       "| 3 | 5 | 5 | 3 | 3 |\n",
       "| 3 | 2 | 4 | 4 | 4 |\n",
       "| 4 | 3 | 3 | 4 | 2 |\n",
       "\n"
      ],
      "text/plain": [
       "  q1 q2 q3 q4 q5\n",
       "1 2  4  4  2  2 \n",
       "2 1  2  2  2  2 \n",
       "3 2  3  4  3  3 \n",
       "4 3  5  5  3  3 \n",
       "5 3  2  4  4  4 \n",
       "6 4  3  3  4  2 "
      ]
     },
     "metadata": {},
     "output_type": "display_data"
    }
   ],
   "source": [
    "# excel이라는 변수 이름으로 data불러오기\n",
    "excel <- read.csv(\"../Data/excel.csv\")\n",
    "head(excel)"
   ]
  },
  {
   "cell_type": "code",
   "execution_count": 660,
   "id": "organizational-philadelphia",
   "metadata": {},
   "outputs": [
    {
     "name": "stdout",
     "output_type": "stream",
     "text": [
      "'data.frame':\t402 obs. of  5 variables:\n",
      " $ q1: int  2 1 2 3 3 4 3 4 4 4 ...\n",
      " $ q2: int  4 2 3 5 2 3 4 2 4 2 ...\n",
      " $ q3: int  4 2 4 5 4 3 4 4 5 4 ...\n",
      " $ q4: int  2 2 3 3 4 4 2 4 3 2 ...\n",
      " $ q5: int  2 2 3 3 4 2 2 4 4 3 ...\n"
     ]
    }
   ],
   "source": [
    "#이거를 보고 판단 해야한다. \n",
    "str(excel)"
   ]
  },
  {
   "cell_type": "code",
   "execution_count": 668,
   "id": "second-software",
   "metadata": {},
   "outputs": [
    {
     "data": {
      "text/html": [
       "<ol class=list-inline>\n",
       "\t<li>2</li>\n",
       "\t<li>1</li>\n",
       "\t<li>2</li>\n",
       "\t<li>1.73205080756888</li>\n",
       "\t<li>1.73205080756888</li>\n",
       "\t<li>2</li>\n",
       "\t<li>1.73205080756888</li>\n",
       "\t<li>2</li>\n",
       "\t<li>2</li>\n",
       "\t<li>2</li>\n",
       "\t<li>2</li>\n",
       "\t<li>1.73205080756888</li>\n",
       "\t<li>1.73205080756888</li>\n",
       "\t<li>1.73205080756888</li>\n",
       "\t<li>1</li>\n",
       "\t<li>1.73205080756888</li>\n",
       "\t<li>1.73205080756888</li>\n",
       "\t<li>1.73205080756888</li>\n",
       "\t<li>2</li>\n",
       "\t<li>1.73205080756888</li>\n",
       "\t<li>1.73205080756888</li>\n",
       "\t<li>2</li>\n",
       "\t<li>2</li>\n",
       "\t<li>2</li>\n",
       "\t<li>1.73205080756888</li>\n",
       "\t<li>2</li>\n",
       "\t<li>2</li>\n",
       "\t<li>2</li>\n",
       "\t<li>1.73205080756888</li>\n",
       "\t<li>1.73205080756888</li>\n",
       "\t<li>1</li>\n",
       "\t<li>1.73205080756888</li>\n",
       "\t<li>1.73205080756888</li>\n",
       "\t<li>1.73205080756888</li>\n",
       "\t<li>2</li>\n",
       "\t<li>1.73205080756888</li>\n",
       "\t<li>2</li>\n",
       "\t<li>2</li>\n",
       "\t<li>1.73205080756888</li>\n",
       "\t<li>2</li>\n",
       "\t<li>2</li>\n",
       "\t<li>2</li>\n",
       "\t<li>1.73205080756888</li>\n",
       "\t<li>1.73205080756888</li>\n",
       "\t<li>2</li>\n",
       "\t<li>2</li>\n",
       "\t<li>2</li>\n",
       "\t<li>1</li>\n",
       "\t<li>2</li>\n",
       "\t<li>1.73205080756888</li>\n",
       "\t<li>2</li>\n",
       "\t<li>2</li>\n",
       "\t<li>1.73205080756888</li>\n",
       "\t<li>2</li>\n",
       "\t<li>1.73205080756888</li>\n",
       "\t<li>2</li>\n",
       "\t<li>2</li>\n",
       "\t<li>2</li>\n",
       "\t<li>2</li>\n",
       "\t<li>1.73205080756888</li>\n",
       "\t<li>2</li>\n",
       "\t<li>2</li>\n",
       "\t<li>2</li>\n",
       "\t<li>1.73205080756888</li>\n",
       "\t<li>1.73205080756888</li>\n",
       "\t<li>1.73205080756888</li>\n",
       "\t<li>1.73205080756888</li>\n",
       "\t<li>2</li>\n",
       "\t<li>1</li>\n",
       "\t<li>2</li>\n",
       "\t<li>1.73205080756888</li>\n",
       "\t<li>1.73205080756888</li>\n",
       "\t<li>1.73205080756888</li>\n",
       "\t<li>2</li>\n",
       "\t<li>2</li>\n",
       "\t<li>2</li>\n",
       "\t<li>1</li>\n",
       "\t<li>1.73205080756888</li>\n",
       "\t<li>1.73205080756888</li>\n",
       "\t<li>2</li>\n",
       "\t<li>2</li>\n",
       "\t<li>2</li>\n",
       "\t<li>1.73205080756888</li>\n",
       "\t<li>2</li>\n",
       "\t<li>1.73205080756888</li>\n",
       "\t<li>1.73205080756888</li>\n",
       "\t<li>2</li>\n",
       "\t<li>1.73205080756888</li>\n",
       "\t<li>2</li>\n",
       "\t<li>2</li>\n",
       "\t<li>2</li>\n",
       "\t<li>2</li>\n",
       "\t<li>2</li>\n",
       "\t<li>2</li>\n",
       "\t<li>1</li>\n",
       "\t<li>2</li>\n",
       "\t<li>2</li>\n",
       "\t<li>2</li>\n",
       "\t<li>2</li>\n",
       "\t<li>2</li>\n",
       "\t<li>1.73205080756888</li>\n",
       "\t<li>1.73205080756888</li>\n",
       "\t<li>2</li>\n",
       "\t<li>1.73205080756888</li>\n",
       "\t<li>1.73205080756888</li>\n",
       "\t<li>2</li>\n",
       "\t<li>2</li>\n",
       "\t<li>2</li>\n",
       "\t<li>2</li>\n",
       "\t<li>2</li>\n",
       "\t<li>2</li>\n",
       "\t<li>2</li>\n",
       "\t<li>1.73205080756888</li>\n",
       "\t<li>2</li>\n",
       "\t<li>2</li>\n",
       "\t<li>2</li>\n",
       "\t<li>1.73205080756888</li>\n",
       "\t<li>1.73205080756888</li>\n",
       "\t<li>1.73205080756888</li>\n",
       "\t<li>2</li>\n",
       "\t<li>1</li>\n",
       "\t<li>1.73205080756888</li>\n",
       "\t<li>2</li>\n",
       "\t<li>1.73205080756888</li>\n",
       "\t<li>1.73205080756888</li>\n",
       "\t<li>2</li>\n",
       "\t<li>1.73205080756888</li>\n",
       "\t<li>1.73205080756888</li>\n",
       "\t<li>1.73205080756888</li>\n",
       "\t<li>2</li>\n",
       "\t<li>2</li>\n",
       "\t<li>2</li>\n",
       "\t<li>1</li>\n",
       "\t<li>1.73205080756888</li>\n",
       "\t<li>1.73205080756888</li>\n",
       "\t<li>2</li>\n",
       "\t<li>1.73205080756888</li>\n",
       "\t<li>2</li>\n",
       "\t<li>1.73205080756888</li>\n",
       "\t<li>1</li>\n",
       "\t<li>2</li>\n",
       "\t<li>1.73205080756888</li>\n",
       "\t<li>2.23606797749979</li>\n",
       "\t<li>2</li>\n",
       "\t<li>1.73205080756888</li>\n",
       "\t<li>1.73205080756888</li>\n",
       "\t<li>2</li>\n",
       "\t<li>2</li>\n",
       "\t<li>1.73205080756888</li>\n",
       "\t<li>2</li>\n",
       "\t<li>1.73205080756888</li>\n",
       "\t<li>1.73205080756888</li>\n",
       "\t<li>1</li>\n",
       "\t<li>1.73205080756888</li>\n",
       "\t<li>2</li>\n",
       "\t<li>2</li>\n",
       "\t<li>1.73205080756888</li>\n",
       "\t<li>1.73205080756888</li>\n",
       "\t<li>2</li>\n",
       "\t<li>2</li>\n",
       "\t<li>2</li>\n",
       "\t<li>2</li>\n",
       "\t<li>2</li>\n",
       "\t<li>2</li>\n",
       "\t<li>1.73205080756888</li>\n",
       "\t<li>1.73205080756888</li>\n",
       "\t<li>1.73205080756888</li>\n",
       "\t<li>2</li>\n",
       "\t<li>2</li>\n",
       "\t<li>2</li>\n",
       "\t<li>1</li>\n",
       "\t<li>1.73205080756888</li>\n",
       "\t<li>1.73205080756888</li>\n",
       "\t<li>2</li>\n",
       "\t<li>1.73205080756888</li>\n",
       "\t<li>2</li>\n",
       "\t<li>1.73205080756888</li>\n",
       "\t<li>1</li>\n",
       "\t<li>2</li>\n",
       "\t<li>1.73205080756888</li>\n",
       "\t<li>2.23606797749979</li>\n",
       "\t<li>2</li>\n",
       "\t<li>1.73205080756888</li>\n",
       "\t<li>1.73205080756888</li>\n",
       "\t<li>2</li>\n",
       "\t<li>2</li>\n",
       "\t<li>1.73205080756888</li>\n",
       "\t<li>2</li>\n",
       "\t<li>1.73205080756888</li>\n",
       "\t<li>1.73205080756888</li>\n",
       "\t<li>1</li>\n",
       "\t<li>1.73205080756888</li>\n",
       "\t<li>2</li>\n",
       "\t<li>2</li>\n",
       "\t<li>2</li>\n",
       "\t<li>2</li>\n",
       "\t<li>2</li>\n",
       "\t<li>2</li>\n",
       "\t<li>2</li>\n",
       "\t<li>1.73205080756888</li>\n",
       "\t<li>2</li>\n",
       "\t<li>2</li>\n",
       "\t<li>2</li>\n",
       "\t<li>1.73205080756888</li>\n",
       "\t<li>1.73205080756888</li>\n",
       "\t<li>1.73205080756888</li>\n",
       "\t<li>2</li>\n",
       "\t<li>1</li>\n",
       "\t<li>1.73205080756888</li>\n",
       "\t<li>2</li>\n",
       "\t<li>1.73205080756888</li>\n",
       "\t<li>1.73205080756888</li>\n",
       "\t<li>2</li>\n",
       "\t<li>1.73205080756888</li>\n",
       "\t<li>1.73205080756888</li>\n",
       "\t<li>1</li>\n",
       "\t<li>1.73205080756888</li>\n",
       "\t<li>1.73205080756888</li>\n",
       "\t<li>2</li>\n",
       "\t<li>1.73205080756888</li>\n",
       "\t<li>2</li>\n",
       "\t<li>1.73205080756888</li>\n",
       "\t<li>1</li>\n",
       "\t<li>2</li>\n",
       "\t<li>1.73205080756888</li>\n",
       "\t<li>2.23606797749979</li>\n",
       "\t<li>2</li>\n",
       "\t<li>1.73205080756888</li>\n",
       "\t<li>1.73205080756888</li>\n",
       "\t<li>2</li>\n",
       "\t<li>2</li>\n",
       "\t<li>1.73205080756888</li>\n",
       "\t<li>2</li>\n",
       "\t<li>1.73205080756888</li>\n",
       "\t<li>1.73205080756888</li>\n",
       "\t<li>1</li>\n",
       "\t<li>1.73205080756888</li>\n",
       "\t<li>2</li>\n",
       "\t<li>2</li>\n",
       "\t<li>1.73205080756888</li>\n",
       "\t<li>1.73205080756888</li>\n",
       "\t<li>2</li>\n",
       "\t<li>2</li>\n",
       "\t<li>2</li>\n",
       "\t<li>2</li>\n",
       "\t<li>2</li>\n",
       "\t<li>2</li>\n",
       "\t<li>1.73205080756888</li>\n",
       "\t<li>1</li>\n",
       "\t<li>1.73205080756888</li>\n",
       "\t<li>2</li>\n",
       "\t<li>2</li>\n",
       "\t<li>2</li>\n",
       "\t<li>2</li>\n",
       "\t<li>2</li>\n",
       "\t<li>2</li>\n",
       "\t<li>2</li>\n",
       "\t<li>1.73205080756888</li>\n",
       "\t<li>2</li>\n",
       "\t<li>2</li>\n",
       "\t<li>2</li>\n",
       "\t<li>1.73205080756888</li>\n",
       "\t<li>1.73205080756888</li>\n",
       "\t<li>1.73205080756888</li>\n",
       "\t<li>2</li>\n",
       "\t<li>1</li>\n",
       "\t<li>1.73205080756888</li>\n",
       "\t<li>2</li>\n",
       "\t<li>1.73205080756888</li>\n",
       "\t<li>1.73205080756888</li>\n",
       "\t<li>2</li>\n",
       "\t<li>2</li>\n",
       "\t<li>1.73205080756888</li>\n",
       "\t<li>2</li>\n",
       "\t<li>1.73205080756888</li>\n",
       "\t<li>1.73205080756888</li>\n",
       "\t<li>1</li>\n",
       "\t<li>1.73205080756888</li>\n",
       "\t<li>2</li>\n",
       "\t<li>2</li>\n",
       "\t<li>1.73205080756888</li>\n",
       "\t<li>1.73205080756888</li>\n",
       "\t<li>2</li>\n",
       "\t<li>2</li>\n",
       "\t<li>2</li>\n",
       "\t<li>2</li>\n",
       "\t<li>2</li>\n",
       "\t<li>2</li>\n",
       "\t<li>1.73205080756888</li>\n",
       "\t<li>1</li>\n",
       "\t<li>1.73205080756888</li>\n",
       "\t<li>2</li>\n",
       "\t<li>2</li>\n",
       "\t<li>2</li>\n",
       "\t<li>2</li>\n",
       "\t<li>2</li>\n",
       "\t<li>2</li>\n",
       "\t<li>2</li>\n",
       "\t<li>1.73205080756888</li>\n",
       "\t<li>2</li>\n",
       "\t<li>2</li>\n",
       "\t<li>2</li>\n",
       "\t<li>1.73205080756888</li>\n",
       "\t<li>1.73205080756888</li>\n",
       "\t<li>1.73205080756888</li>\n",
       "\t<li>2</li>\n",
       "\t<li>1</li>\n",
       "\t<li>1.73205080756888</li>\n",
       "\t<li>1.73205080756888</li>\n",
       "\t<li>2</li>\n",
       "\t<li>2</li>\n",
       "\t<li>1.73205080756888</li>\n",
       "\t<li>2</li>\n",
       "\t<li>1.73205080756888</li>\n",
       "\t<li>1.73205080756888</li>\n",
       "\t<li>1</li>\n",
       "\t<li>1.73205080756888</li>\n",
       "\t<li>2</li>\n",
       "\t<li>2</li>\n",
       "\t<li>1.73205080756888</li>\n",
       "\t<li>1.73205080756888</li>\n",
       "\t<li>2</li>\n",
       "\t<li>2</li>\n",
       "\t<li>2</li>\n",
       "\t<li>2</li>\n",
       "\t<li>2</li>\n",
       "\t<li>2</li>\n",
       "\t<li>1.73205080756888</li>\n",
       "\t<li>1</li>\n",
       "\t<li>1.73205080756888</li>\n",
       "\t<li>2</li>\n",
       "\t<li>2</li>\n",
       "\t<li>2</li>\n",
       "\t<li>2</li>\n",
       "\t<li>2</li>\n",
       "\t<li>2</li>\n",
       "\t<li>2</li>\n",
       "\t<li>1.73205080756888</li>\n",
       "\t<li>2</li>\n",
       "\t<li>2</li>\n",
       "\t<li>2</li>\n",
       "\t<li>1.73205080756888</li>\n",
       "\t<li>1.73205080756888</li>\n",
       "\t<li>1.73205080756888</li>\n",
       "\t<li>2</li>\n",
       "\t<li>1</li>\n",
       "\t<li>2</li>\n",
       "\t<li>1.73205080756888</li>\n",
       "\t<li>1.73205080756888</li>\n",
       "\t<li>1</li>\n",
       "\t<li>1.73205080756888</li>\n",
       "\t<li>2</li>\n",
       "\t<li>2</li>\n",
       "\t<li>1.73205080756888</li>\n",
       "\t<li>1.73205080756888</li>\n",
       "\t<li>2</li>\n",
       "\t<li>2</li>\n",
       "\t<li>2</li>\n",
       "\t<li>2</li>\n",
       "\t<li>2</li>\n",
       "\t<li>2</li>\n",
       "\t<li>1.73205080756888</li>\n",
       "\t<li>1</li>\n",
       "\t<li>1.73205080756888</li>\n",
       "\t<li>2</li>\n",
       "\t<li>2</li>\n",
       "\t<li>2</li>\n",
       "\t<li>2</li>\n",
       "\t<li>2</li>\n",
       "\t<li>2</li>\n",
       "\t<li>2</li>\n",
       "\t<li>1.73205080756888</li>\n",
       "\t<li>2</li>\n",
       "\t<li>2</li>\n",
       "\t<li>2</li>\n",
       "\t<li>1.73205080756888</li>\n",
       "\t<li>1.73205080756888</li>\n",
       "\t<li>1.73205080756888</li>\n",
       "\t<li>2</li>\n",
       "\t<li>1</li>\n",
       "\t<li>1.73205080756888</li>\n",
       "\t<li>2</li>\n",
       "\t<li>1.73205080756888</li>\n",
       "\t<li>1.73205080756888</li>\n",
       "\t<li>2</li>\n",
       "\t<li>2</li>\n",
       "\t<li>1.73205080756888</li>\n",
       "\t<li>2</li>\n",
       "\t<li>1.73205080756888</li>\n",
       "\t<li>1.73205080756888</li>\n",
       "\t<li>1</li>\n",
       "\t<li>1.73205080756888</li>\n",
       "\t<li>2</li>\n",
       "\t<li>2</li>\n",
       "\t<li>1.73205080756888</li>\n",
       "\t<li>1.73205080756888</li>\n",
       "\t<li>2</li>\n",
       "\t<li>2</li>\n",
       "\t<li>2</li>\n",
       "\t<li>2</li>\n",
       "\t<li>2</li>\n",
       "\t<li>2</li>\n",
       "</ol>\n"
      ],
      "text/latex": [
       "\\begin{enumerate*}\n",
       "\\item 2\n",
       "\\item 1\n",
       "\\item 2\n",
       "\\item 1.73205080756888\n",
       "\\item 1.73205080756888\n",
       "\\item 2\n",
       "\\item 1.73205080756888\n",
       "\\item 2\n",
       "\\item 2\n",
       "\\item 2\n",
       "\\item 2\n",
       "\\item 1.73205080756888\n",
       "\\item 1.73205080756888\n",
       "\\item 1.73205080756888\n",
       "\\item 1\n",
       "\\item 1.73205080756888\n",
       "\\item 1.73205080756888\n",
       "\\item 1.73205080756888\n",
       "\\item 2\n",
       "\\item 1.73205080756888\n",
       "\\item 1.73205080756888\n",
       "\\item 2\n",
       "\\item 2\n",
       "\\item 2\n",
       "\\item 1.73205080756888\n",
       "\\item 2\n",
       "\\item 2\n",
       "\\item 2\n",
       "\\item 1.73205080756888\n",
       "\\item 1.73205080756888\n",
       "\\item 1\n",
       "\\item 1.73205080756888\n",
       "\\item 1.73205080756888\n",
       "\\item 1.73205080756888\n",
       "\\item 2\n",
       "\\item 1.73205080756888\n",
       "\\item 2\n",
       "\\item 2\n",
       "\\item 1.73205080756888\n",
       "\\item 2\n",
       "\\item 2\n",
       "\\item 2\n",
       "\\item 1.73205080756888\n",
       "\\item 1.73205080756888\n",
       "\\item 2\n",
       "\\item 2\n",
       "\\item 2\n",
       "\\item 1\n",
       "\\item 2\n",
       "\\item 1.73205080756888\n",
       "\\item 2\n",
       "\\item 2\n",
       "\\item 1.73205080756888\n",
       "\\item 2\n",
       "\\item 1.73205080756888\n",
       "\\item 2\n",
       "\\item 2\n",
       "\\item 2\n",
       "\\item 2\n",
       "\\item 1.73205080756888\n",
       "\\item 2\n",
       "\\item 2\n",
       "\\item 2\n",
       "\\item 1.73205080756888\n",
       "\\item 1.73205080756888\n",
       "\\item 1.73205080756888\n",
       "\\item 1.73205080756888\n",
       "\\item 2\n",
       "\\item 1\n",
       "\\item 2\n",
       "\\item 1.73205080756888\n",
       "\\item 1.73205080756888\n",
       "\\item 1.73205080756888\n",
       "\\item 2\n",
       "\\item 2\n",
       "\\item 2\n",
       "\\item 1\n",
       "\\item 1.73205080756888\n",
       "\\item 1.73205080756888\n",
       "\\item 2\n",
       "\\item 2\n",
       "\\item 2\n",
       "\\item 1.73205080756888\n",
       "\\item 2\n",
       "\\item 1.73205080756888\n",
       "\\item 1.73205080756888\n",
       "\\item 2\n",
       "\\item 1.73205080756888\n",
       "\\item 2\n",
       "\\item 2\n",
       "\\item 2\n",
       "\\item 2\n",
       "\\item 2\n",
       "\\item 2\n",
       "\\item 1\n",
       "\\item 2\n",
       "\\item 2\n",
       "\\item 2\n",
       "\\item 2\n",
       "\\item 2\n",
       "\\item 1.73205080756888\n",
       "\\item 1.73205080756888\n",
       "\\item 2\n",
       "\\item 1.73205080756888\n",
       "\\item 1.73205080756888\n",
       "\\item 2\n",
       "\\item 2\n",
       "\\item 2\n",
       "\\item 2\n",
       "\\item 2\n",
       "\\item 2\n",
       "\\item 2\n",
       "\\item 1.73205080756888\n",
       "\\item 2\n",
       "\\item 2\n",
       "\\item 2\n",
       "\\item 1.73205080756888\n",
       "\\item 1.73205080756888\n",
       "\\item 1.73205080756888\n",
       "\\item 2\n",
       "\\item 1\n",
       "\\item 1.73205080756888\n",
       "\\item 2\n",
       "\\item 1.73205080756888\n",
       "\\item 1.73205080756888\n",
       "\\item 2\n",
       "\\item 1.73205080756888\n",
       "\\item 1.73205080756888\n",
       "\\item 1.73205080756888\n",
       "\\item 2\n",
       "\\item 2\n",
       "\\item 2\n",
       "\\item 1\n",
       "\\item 1.73205080756888\n",
       "\\item 1.73205080756888\n",
       "\\item 2\n",
       "\\item 1.73205080756888\n",
       "\\item 2\n",
       "\\item 1.73205080756888\n",
       "\\item 1\n",
       "\\item 2\n",
       "\\item 1.73205080756888\n",
       "\\item 2.23606797749979\n",
       "\\item 2\n",
       "\\item 1.73205080756888\n",
       "\\item 1.73205080756888\n",
       "\\item 2\n",
       "\\item 2\n",
       "\\item 1.73205080756888\n",
       "\\item 2\n",
       "\\item 1.73205080756888\n",
       "\\item 1.73205080756888\n",
       "\\item 1\n",
       "\\item 1.73205080756888\n",
       "\\item 2\n",
       "\\item 2\n",
       "\\item 1.73205080756888\n",
       "\\item 1.73205080756888\n",
       "\\item 2\n",
       "\\item 2\n",
       "\\item 2\n",
       "\\item 2\n",
       "\\item 2\n",
       "\\item 2\n",
       "\\item 1.73205080756888\n",
       "\\item 1.73205080756888\n",
       "\\item 1.73205080756888\n",
       "\\item 2\n",
       "\\item 2\n",
       "\\item 2\n",
       "\\item 1\n",
       "\\item 1.73205080756888\n",
       "\\item 1.73205080756888\n",
       "\\item 2\n",
       "\\item 1.73205080756888\n",
       "\\item 2\n",
       "\\item 1.73205080756888\n",
       "\\item 1\n",
       "\\item 2\n",
       "\\item 1.73205080756888\n",
       "\\item 2.23606797749979\n",
       "\\item 2\n",
       "\\item 1.73205080756888\n",
       "\\item 1.73205080756888\n",
       "\\item 2\n",
       "\\item 2\n",
       "\\item 1.73205080756888\n",
       "\\item 2\n",
       "\\item 1.73205080756888\n",
       "\\item 1.73205080756888\n",
       "\\item 1\n",
       "\\item 1.73205080756888\n",
       "\\item 2\n",
       "\\item 2\n",
       "\\item 2\n",
       "\\item 2\n",
       "\\item 2\n",
       "\\item 2\n",
       "\\item 2\n",
       "\\item 1.73205080756888\n",
       "\\item 2\n",
       "\\item 2\n",
       "\\item 2\n",
       "\\item 1.73205080756888\n",
       "\\item 1.73205080756888\n",
       "\\item 1.73205080756888\n",
       "\\item 2\n",
       "\\item 1\n",
       "\\item 1.73205080756888\n",
       "\\item 2\n",
       "\\item 1.73205080756888\n",
       "\\item 1.73205080756888\n",
       "\\item 2\n",
       "\\item 1.73205080756888\n",
       "\\item 1.73205080756888\n",
       "\\item 1\n",
       "\\item 1.73205080756888\n",
       "\\item 1.73205080756888\n",
       "\\item 2\n",
       "\\item 1.73205080756888\n",
       "\\item 2\n",
       "\\item 1.73205080756888\n",
       "\\item 1\n",
       "\\item 2\n",
       "\\item 1.73205080756888\n",
       "\\item 2.23606797749979\n",
       "\\item 2\n",
       "\\item 1.73205080756888\n",
       "\\item 1.73205080756888\n",
       "\\item 2\n",
       "\\item 2\n",
       "\\item 1.73205080756888\n",
       "\\item 2\n",
       "\\item 1.73205080756888\n",
       "\\item 1.73205080756888\n",
       "\\item 1\n",
       "\\item 1.73205080756888\n",
       "\\item 2\n",
       "\\item 2\n",
       "\\item 1.73205080756888\n",
       "\\item 1.73205080756888\n",
       "\\item 2\n",
       "\\item 2\n",
       "\\item 2\n",
       "\\item 2\n",
       "\\item 2\n",
       "\\item 2\n",
       "\\item 1.73205080756888\n",
       "\\item 1\n",
       "\\item 1.73205080756888\n",
       "\\item 2\n",
       "\\item 2\n",
       "\\item 2\n",
       "\\item 2\n",
       "\\item 2\n",
       "\\item 2\n",
       "\\item 2\n",
       "\\item 1.73205080756888\n",
       "\\item 2\n",
       "\\item 2\n",
       "\\item 2\n",
       "\\item 1.73205080756888\n",
       "\\item 1.73205080756888\n",
       "\\item 1.73205080756888\n",
       "\\item 2\n",
       "\\item 1\n",
       "\\item 1.73205080756888\n",
       "\\item 2\n",
       "\\item 1.73205080756888\n",
       "\\item 1.73205080756888\n",
       "\\item 2\n",
       "\\item 2\n",
       "\\item 1.73205080756888\n",
       "\\item 2\n",
       "\\item 1.73205080756888\n",
       "\\item 1.73205080756888\n",
       "\\item 1\n",
       "\\item 1.73205080756888\n",
       "\\item 2\n",
       "\\item 2\n",
       "\\item 1.73205080756888\n",
       "\\item 1.73205080756888\n",
       "\\item 2\n",
       "\\item 2\n",
       "\\item 2\n",
       "\\item 2\n",
       "\\item 2\n",
       "\\item 2\n",
       "\\item 1.73205080756888\n",
       "\\item 1\n",
       "\\item 1.73205080756888\n",
       "\\item 2\n",
       "\\item 2\n",
       "\\item 2\n",
       "\\item 2\n",
       "\\item 2\n",
       "\\item 2\n",
       "\\item 2\n",
       "\\item 1.73205080756888\n",
       "\\item 2\n",
       "\\item 2\n",
       "\\item 2\n",
       "\\item 1.73205080756888\n",
       "\\item 1.73205080756888\n",
       "\\item 1.73205080756888\n",
       "\\item 2\n",
       "\\item 1\n",
       "\\item 1.73205080756888\n",
       "\\item 1.73205080756888\n",
       "\\item 2\n",
       "\\item 2\n",
       "\\item 1.73205080756888\n",
       "\\item 2\n",
       "\\item 1.73205080756888\n",
       "\\item 1.73205080756888\n",
       "\\item 1\n",
       "\\item 1.73205080756888\n",
       "\\item 2\n",
       "\\item 2\n",
       "\\item 1.73205080756888\n",
       "\\item 1.73205080756888\n",
       "\\item 2\n",
       "\\item 2\n",
       "\\item 2\n",
       "\\item 2\n",
       "\\item 2\n",
       "\\item 2\n",
       "\\item 1.73205080756888\n",
       "\\item 1\n",
       "\\item 1.73205080756888\n",
       "\\item 2\n",
       "\\item 2\n",
       "\\item 2\n",
       "\\item 2\n",
       "\\item 2\n",
       "\\item 2\n",
       "\\item 2\n",
       "\\item 1.73205080756888\n",
       "\\item 2\n",
       "\\item 2\n",
       "\\item 2\n",
       "\\item 1.73205080756888\n",
       "\\item 1.73205080756888\n",
       "\\item 1.73205080756888\n",
       "\\item 2\n",
       "\\item 1\n",
       "\\item 2\n",
       "\\item 1.73205080756888\n",
       "\\item 1.73205080756888\n",
       "\\item 1\n",
       "\\item 1.73205080756888\n",
       "\\item 2\n",
       "\\item 2\n",
       "\\item 1.73205080756888\n",
       "\\item 1.73205080756888\n",
       "\\item 2\n",
       "\\item 2\n",
       "\\item 2\n",
       "\\item 2\n",
       "\\item 2\n",
       "\\item 2\n",
       "\\item 1.73205080756888\n",
       "\\item 1\n",
       "\\item 1.73205080756888\n",
       "\\item 2\n",
       "\\item 2\n",
       "\\item 2\n",
       "\\item 2\n",
       "\\item 2\n",
       "\\item 2\n",
       "\\item 2\n",
       "\\item 1.73205080756888\n",
       "\\item 2\n",
       "\\item 2\n",
       "\\item 2\n",
       "\\item 1.73205080756888\n",
       "\\item 1.73205080756888\n",
       "\\item 1.73205080756888\n",
       "\\item 2\n",
       "\\item 1\n",
       "\\item 1.73205080756888\n",
       "\\item 2\n",
       "\\item 1.73205080756888\n",
       "\\item 1.73205080756888\n",
       "\\item 2\n",
       "\\item 2\n",
       "\\item 1.73205080756888\n",
       "\\item 2\n",
       "\\item 1.73205080756888\n",
       "\\item 1.73205080756888\n",
       "\\item 1\n",
       "\\item 1.73205080756888\n",
       "\\item 2\n",
       "\\item 2\n",
       "\\item 1.73205080756888\n",
       "\\item 1.73205080756888\n",
       "\\item 2\n",
       "\\item 2\n",
       "\\item 2\n",
       "\\item 2\n",
       "\\item 2\n",
       "\\item 2\n",
       "\\end{enumerate*}\n"
      ],
      "text/markdown": [
       "1. 2\n",
       "2. 1\n",
       "3. 2\n",
       "4. 1.73205080756888\n",
       "5. 1.73205080756888\n",
       "6. 2\n",
       "7. 1.73205080756888\n",
       "8. 2\n",
       "9. 2\n",
       "10. 2\n",
       "11. 2\n",
       "12. 1.73205080756888\n",
       "13. 1.73205080756888\n",
       "14. 1.73205080756888\n",
       "15. 1\n",
       "16. 1.73205080756888\n",
       "17. 1.73205080756888\n",
       "18. 1.73205080756888\n",
       "19. 2\n",
       "20. 1.73205080756888\n",
       "21. 1.73205080756888\n",
       "22. 2\n",
       "23. 2\n",
       "24. 2\n",
       "25. 1.73205080756888\n",
       "26. 2\n",
       "27. 2\n",
       "28. 2\n",
       "29. 1.73205080756888\n",
       "30. 1.73205080756888\n",
       "31. 1\n",
       "32. 1.73205080756888\n",
       "33. 1.73205080756888\n",
       "34. 1.73205080756888\n",
       "35. 2\n",
       "36. 1.73205080756888\n",
       "37. 2\n",
       "38. 2\n",
       "39. 1.73205080756888\n",
       "40. 2\n",
       "41. 2\n",
       "42. 2\n",
       "43. 1.73205080756888\n",
       "44. 1.73205080756888\n",
       "45. 2\n",
       "46. 2\n",
       "47. 2\n",
       "48. 1\n",
       "49. 2\n",
       "50. 1.73205080756888\n",
       "51. 2\n",
       "52. 2\n",
       "53. 1.73205080756888\n",
       "54. 2\n",
       "55. 1.73205080756888\n",
       "56. 2\n",
       "57. 2\n",
       "58. 2\n",
       "59. 2\n",
       "60. 1.73205080756888\n",
       "61. 2\n",
       "62. 2\n",
       "63. 2\n",
       "64. 1.73205080756888\n",
       "65. 1.73205080756888\n",
       "66. 1.73205080756888\n",
       "67. 1.73205080756888\n",
       "68. 2\n",
       "69. 1\n",
       "70. 2\n",
       "71. 1.73205080756888\n",
       "72. 1.73205080756888\n",
       "73. 1.73205080756888\n",
       "74. 2\n",
       "75. 2\n",
       "76. 2\n",
       "77. 1\n",
       "78. 1.73205080756888\n",
       "79. 1.73205080756888\n",
       "80. 2\n",
       "81. 2\n",
       "82. 2\n",
       "83. 1.73205080756888\n",
       "84. 2\n",
       "85. 1.73205080756888\n",
       "86. 1.73205080756888\n",
       "87. 2\n",
       "88. 1.73205080756888\n",
       "89. 2\n",
       "90. 2\n",
       "91. 2\n",
       "92. 2\n",
       "93. 2\n",
       "94. 2\n",
       "95. 1\n",
       "96. 2\n",
       "97. 2\n",
       "98. 2\n",
       "99. 2\n",
       "100. 2\n",
       "101. 1.73205080756888\n",
       "102. 1.73205080756888\n",
       "103. 2\n",
       "104. 1.73205080756888\n",
       "105. 1.73205080756888\n",
       "106. 2\n",
       "107. 2\n",
       "108. 2\n",
       "109. 2\n",
       "110. 2\n",
       "111. 2\n",
       "112. 2\n",
       "113. 1.73205080756888\n",
       "114. 2\n",
       "115. 2\n",
       "116. 2\n",
       "117. 1.73205080756888\n",
       "118. 1.73205080756888\n",
       "119. 1.73205080756888\n",
       "120. 2\n",
       "121. 1\n",
       "122. 1.73205080756888\n",
       "123. 2\n",
       "124. 1.73205080756888\n",
       "125. 1.73205080756888\n",
       "126. 2\n",
       "127. 1.73205080756888\n",
       "128. 1.73205080756888\n",
       "129. 1.73205080756888\n",
       "130. 2\n",
       "131. 2\n",
       "132. 2\n",
       "133. 1\n",
       "134. 1.73205080756888\n",
       "135. 1.73205080756888\n",
       "136. 2\n",
       "137. 1.73205080756888\n",
       "138. 2\n",
       "139. 1.73205080756888\n",
       "140. 1\n",
       "141. 2\n",
       "142. 1.73205080756888\n",
       "143. 2.23606797749979\n",
       "144. 2\n",
       "145. 1.73205080756888\n",
       "146. 1.73205080756888\n",
       "147. 2\n",
       "148. 2\n",
       "149. 1.73205080756888\n",
       "150. 2\n",
       "151. 1.73205080756888\n",
       "152. 1.73205080756888\n",
       "153. 1\n",
       "154. 1.73205080756888\n",
       "155. 2\n",
       "156. 2\n",
       "157. 1.73205080756888\n",
       "158. 1.73205080756888\n",
       "159. 2\n",
       "160. 2\n",
       "161. 2\n",
       "162. 2\n",
       "163. 2\n",
       "164. 2\n",
       "165. 1.73205080756888\n",
       "166. 1.73205080756888\n",
       "167. 1.73205080756888\n",
       "168. 2\n",
       "169. 2\n",
       "170. 2\n",
       "171. 1\n",
       "172. 1.73205080756888\n",
       "173. 1.73205080756888\n",
       "174. 2\n",
       "175. 1.73205080756888\n",
       "176. 2\n",
       "177. 1.73205080756888\n",
       "178. 1\n",
       "179. 2\n",
       "180. 1.73205080756888\n",
       "181. 2.23606797749979\n",
       "182. 2\n",
       "183. 1.73205080756888\n",
       "184. 1.73205080756888\n",
       "185. 2\n",
       "186. 2\n",
       "187. 1.73205080756888\n",
       "188. 2\n",
       "189. 1.73205080756888\n",
       "190. 1.73205080756888\n",
       "191. 1\n",
       "192. 1.73205080756888\n",
       "193. 2\n",
       "194. 2\n",
       "195. 2\n",
       "196. 2\n",
       "197. 2\n",
       "198. 2\n",
       "199. 2\n",
       "200. 1.73205080756888\n",
       "201. 2\n",
       "202. 2\n",
       "203. 2\n",
       "204. 1.73205080756888\n",
       "205. 1.73205080756888\n",
       "206. 1.73205080756888\n",
       "207. 2\n",
       "208. 1\n",
       "209. 1.73205080756888\n",
       "210. 2\n",
       "211. 1.73205080756888\n",
       "212. 1.73205080756888\n",
       "213. 2\n",
       "214. 1.73205080756888\n",
       "215. 1.73205080756888\n",
       "216. 1\n",
       "217. 1.73205080756888\n",
       "218. 1.73205080756888\n",
       "219. 2\n",
       "220. 1.73205080756888\n",
       "221. 2\n",
       "222. 1.73205080756888\n",
       "223. 1\n",
       "224. 2\n",
       "225. 1.73205080756888\n",
       "226. 2.23606797749979\n",
       "227. 2\n",
       "228. 1.73205080756888\n",
       "229. 1.73205080756888\n",
       "230. 2\n",
       "231. 2\n",
       "232. 1.73205080756888\n",
       "233. 2\n",
       "234. 1.73205080756888\n",
       "235. 1.73205080756888\n",
       "236. 1\n",
       "237. 1.73205080756888\n",
       "238. 2\n",
       "239. 2\n",
       "240. 1.73205080756888\n",
       "241. 1.73205080756888\n",
       "242. 2\n",
       "243. 2\n",
       "244. 2\n",
       "245. 2\n",
       "246. 2\n",
       "247. 2\n",
       "248. 1.73205080756888\n",
       "249. 1\n",
       "250. 1.73205080756888\n",
       "251. 2\n",
       "252. 2\n",
       "253. 2\n",
       "254. 2\n",
       "255. 2\n",
       "256. 2\n",
       "257. 2\n",
       "258. 1.73205080756888\n",
       "259. 2\n",
       "260. 2\n",
       "261. 2\n",
       "262. 1.73205080756888\n",
       "263. 1.73205080756888\n",
       "264. 1.73205080756888\n",
       "265. 2\n",
       "266. 1\n",
       "267. 1.73205080756888\n",
       "268. 2\n",
       "269. 1.73205080756888\n",
       "270. 1.73205080756888\n",
       "271. 2\n",
       "272. 2\n",
       "273. 1.73205080756888\n",
       "274. 2\n",
       "275. 1.73205080756888\n",
       "276. 1.73205080756888\n",
       "277. 1\n",
       "278. 1.73205080756888\n",
       "279. 2\n",
       "280. 2\n",
       "281. 1.73205080756888\n",
       "282. 1.73205080756888\n",
       "283. 2\n",
       "284. 2\n",
       "285. 2\n",
       "286. 2\n",
       "287. 2\n",
       "288. 2\n",
       "289. 1.73205080756888\n",
       "290. 1\n",
       "291. 1.73205080756888\n",
       "292. 2\n",
       "293. 2\n",
       "294. 2\n",
       "295. 2\n",
       "296. 2\n",
       "297. 2\n",
       "298. 2\n",
       "299. 1.73205080756888\n",
       "300. 2\n",
       "301. 2\n",
       "302. 2\n",
       "303. 1.73205080756888\n",
       "304. 1.73205080756888\n",
       "305. 1.73205080756888\n",
       "306. 2\n",
       "307. 1\n",
       "308. 1.73205080756888\n",
       "309. 1.73205080756888\n",
       "310. 2\n",
       "311. 2\n",
       "312. 1.73205080756888\n",
       "313. 2\n",
       "314. 1.73205080756888\n",
       "315. 1.73205080756888\n",
       "316. 1\n",
       "317. 1.73205080756888\n",
       "318. 2\n",
       "319. 2\n",
       "320. 1.73205080756888\n",
       "321. 1.73205080756888\n",
       "322. 2\n",
       "323. 2\n",
       "324. 2\n",
       "325. 2\n",
       "326. 2\n",
       "327. 2\n",
       "328. 1.73205080756888\n",
       "329. 1\n",
       "330. 1.73205080756888\n",
       "331. 2\n",
       "332. 2\n",
       "333. 2\n",
       "334. 2\n",
       "335. 2\n",
       "336. 2\n",
       "337. 2\n",
       "338. 1.73205080756888\n",
       "339. 2\n",
       "340. 2\n",
       "341. 2\n",
       "342. 1.73205080756888\n",
       "343. 1.73205080756888\n",
       "344. 1.73205080756888\n",
       "345. 2\n",
       "346. 1\n",
       "347. 2\n",
       "348. 1.73205080756888\n",
       "349. 1.73205080756888\n",
       "350. 1\n",
       "351. 1.73205080756888\n",
       "352. 2\n",
       "353. 2\n",
       "354. 1.73205080756888\n",
       "355. 1.73205080756888\n",
       "356. 2\n",
       "357. 2\n",
       "358. 2\n",
       "359. 2\n",
       "360. 2\n",
       "361. 2\n",
       "362. 1.73205080756888\n",
       "363. 1\n",
       "364. 1.73205080756888\n",
       "365. 2\n",
       "366. 2\n",
       "367. 2\n",
       "368. 2\n",
       "369. 2\n",
       "370. 2\n",
       "371. 2\n",
       "372. 1.73205080756888\n",
       "373. 2\n",
       "374. 2\n",
       "375. 2\n",
       "376. 1.73205080756888\n",
       "377. 1.73205080756888\n",
       "378. 1.73205080756888\n",
       "379. 2\n",
       "380. 1\n",
       "381. 1.73205080756888\n",
       "382. 2\n",
       "383. 1.73205080756888\n",
       "384. 1.73205080756888\n",
       "385. 2\n",
       "386. 2\n",
       "387. 1.73205080756888\n",
       "388. 2\n",
       "389. 1.73205080756888\n",
       "390. 1.73205080756888\n",
       "391. 1\n",
       "392. 1.73205080756888\n",
       "393. 2\n",
       "394. 2\n",
       "395. 1.73205080756888\n",
       "396. 1.73205080756888\n",
       "397. 2\n",
       "398. 2\n",
       "399. 2\n",
       "400. 2\n",
       "401. 2\n",
       "402. 2\n",
       "\n",
       "\n"
      ],
      "text/plain": [
       "  [1] 2.000000 1.000000 2.000000 1.732051 1.732051 2.000000 1.732051 2.000000\n",
       "  [9] 2.000000 2.000000 2.000000 1.732051 1.732051 1.732051 1.000000 1.732051\n",
       " [17] 1.732051 1.732051 2.000000 1.732051 1.732051 2.000000 2.000000 2.000000\n",
       " [25] 1.732051 2.000000 2.000000 2.000000 1.732051 1.732051 1.000000 1.732051\n",
       " [33] 1.732051 1.732051 2.000000 1.732051 2.000000 2.000000 1.732051 2.000000\n",
       " [41] 2.000000 2.000000 1.732051 1.732051 2.000000 2.000000 2.000000 1.000000\n",
       " [49] 2.000000 1.732051 2.000000 2.000000 1.732051 2.000000 1.732051 2.000000\n",
       " [57] 2.000000 2.000000 2.000000 1.732051 2.000000 2.000000 2.000000 1.732051\n",
       " [65] 1.732051 1.732051 1.732051 2.000000 1.000000 2.000000 1.732051 1.732051\n",
       " [73] 1.732051 2.000000 2.000000 2.000000 1.000000 1.732051 1.732051 2.000000\n",
       " [81] 2.000000 2.000000 1.732051 2.000000 1.732051 1.732051 2.000000 1.732051\n",
       " [89] 2.000000 2.000000 2.000000 2.000000 2.000000 2.000000 1.000000 2.000000\n",
       " [97] 2.000000 2.000000 2.000000 2.000000 1.732051 1.732051 2.000000 1.732051\n",
       "[105] 1.732051 2.000000 2.000000 2.000000 2.000000 2.000000 2.000000 2.000000\n",
       "[113] 1.732051 2.000000 2.000000 2.000000 1.732051 1.732051 1.732051 2.000000\n",
       "[121] 1.000000 1.732051 2.000000 1.732051 1.732051 2.000000 1.732051 1.732051\n",
       "[129] 1.732051 2.000000 2.000000 2.000000 1.000000 1.732051 1.732051 2.000000\n",
       "[137] 1.732051 2.000000 1.732051 1.000000 2.000000 1.732051 2.236068 2.000000\n",
       "[145] 1.732051 1.732051 2.000000 2.000000 1.732051 2.000000 1.732051 1.732051\n",
       "[153] 1.000000 1.732051 2.000000 2.000000 1.732051 1.732051 2.000000 2.000000\n",
       "[161] 2.000000 2.000000 2.000000 2.000000 1.732051 1.732051 1.732051 2.000000\n",
       "[169] 2.000000 2.000000 1.000000 1.732051 1.732051 2.000000 1.732051 2.000000\n",
       "[177] 1.732051 1.000000 2.000000 1.732051 2.236068 2.000000 1.732051 1.732051\n",
       "[185] 2.000000 2.000000 1.732051 2.000000 1.732051 1.732051 1.000000 1.732051\n",
       "[193] 2.000000 2.000000 2.000000 2.000000 2.000000 2.000000 2.000000 1.732051\n",
       "[201] 2.000000 2.000000 2.000000 1.732051 1.732051 1.732051 2.000000 1.000000\n",
       "[209] 1.732051 2.000000 1.732051 1.732051 2.000000 1.732051 1.732051 1.000000\n",
       "[217] 1.732051 1.732051 2.000000 1.732051 2.000000 1.732051 1.000000 2.000000\n",
       "[225] 1.732051 2.236068 2.000000 1.732051 1.732051 2.000000 2.000000 1.732051\n",
       "[233] 2.000000 1.732051 1.732051 1.000000 1.732051 2.000000 2.000000 1.732051\n",
       "[241] 1.732051 2.000000 2.000000 2.000000 2.000000 2.000000 2.000000 1.732051\n",
       "[249] 1.000000 1.732051 2.000000 2.000000 2.000000 2.000000 2.000000 2.000000\n",
       "[257] 2.000000 1.732051 2.000000 2.000000 2.000000 1.732051 1.732051 1.732051\n",
       "[265] 2.000000 1.000000 1.732051 2.000000 1.732051 1.732051 2.000000 2.000000\n",
       "[273] 1.732051 2.000000 1.732051 1.732051 1.000000 1.732051 2.000000 2.000000\n",
       "[281] 1.732051 1.732051 2.000000 2.000000 2.000000 2.000000 2.000000 2.000000\n",
       "[289] 1.732051 1.000000 1.732051 2.000000 2.000000 2.000000 2.000000 2.000000\n",
       "[297] 2.000000 2.000000 1.732051 2.000000 2.000000 2.000000 1.732051 1.732051\n",
       "[305] 1.732051 2.000000 1.000000 1.732051 1.732051 2.000000 2.000000 1.732051\n",
       "[313] 2.000000 1.732051 1.732051 1.000000 1.732051 2.000000 2.000000 1.732051\n",
       "[321] 1.732051 2.000000 2.000000 2.000000 2.000000 2.000000 2.000000 1.732051\n",
       "[329] 1.000000 1.732051 2.000000 2.000000 2.000000 2.000000 2.000000 2.000000\n",
       "[337] 2.000000 1.732051 2.000000 2.000000 2.000000 1.732051 1.732051 1.732051\n",
       "[345] 2.000000 1.000000 2.000000 1.732051 1.732051 1.000000 1.732051 2.000000\n",
       "[353] 2.000000 1.732051 1.732051 2.000000 2.000000 2.000000 2.000000 2.000000\n",
       "[361] 2.000000 1.732051 1.000000 1.732051 2.000000 2.000000 2.000000 2.000000\n",
       "[369] 2.000000 2.000000 2.000000 1.732051 2.000000 2.000000 2.000000 1.732051\n",
       "[377] 1.732051 1.732051 2.000000 1.000000 1.732051 2.000000 1.732051 1.732051\n",
       "[385] 2.000000 2.000000 1.732051 2.000000 1.732051 1.732051 1.000000 1.732051\n",
       "[393] 2.000000 2.000000 1.732051 1.732051 2.000000 2.000000 2.000000 2.000000\n",
       "[401] 2.000000 2.000000"
      ]
     },
     "metadata": {},
     "output_type": "display_data"
    },
    {
     "data": {
      "text/html": [
       "<table>\n",
       "<thead><tr><th scope=col>q1</th><th scope=col>q2</th><th scope=col>q3</th><th scope=col>q4</th><th scope=col>q5</th><th scope=col>q6</th></tr></thead>\n",
       "<tbody>\n",
       "\t<tr><td>2       </td><td>4       </td><td>4       </td><td>2       </td><td>2       </td><td>2.000000</td></tr>\n",
       "\t<tr><td>1       </td><td>2       </td><td>2       </td><td>2       </td><td>2       </td><td>1.000000</td></tr>\n",
       "\t<tr><td>2       </td><td>3       </td><td>4       </td><td>3       </td><td>3       </td><td>2.000000</td></tr>\n",
       "\t<tr><td>3       </td><td>5       </td><td>5       </td><td>3       </td><td>3       </td><td>1.732051</td></tr>\n",
       "\t<tr><td>3       </td><td>2       </td><td>4       </td><td>4       </td><td>4       </td><td>1.732051</td></tr>\n",
       "\t<tr><td>4       </td><td>3       </td><td>3       </td><td>4       </td><td>2       </td><td>2.000000</td></tr>\n",
       "</tbody>\n",
       "</table>\n"
      ],
      "text/latex": [
       "\\begin{tabular}{r|llllll}\n",
       " q1 & q2 & q3 & q4 & q5 & q6\\\\\n",
       "\\hline\n",
       "\t 2        & 4        & 4        & 2        & 2        & 2.000000\\\\\n",
       "\t 1        & 2        & 2        & 2        & 2        & 1.000000\\\\\n",
       "\t 2        & 3        & 4        & 3        & 3        & 2.000000\\\\\n",
       "\t 3        & 5        & 5        & 3        & 3        & 1.732051\\\\\n",
       "\t 3        & 2        & 4        & 4        & 4        & 1.732051\\\\\n",
       "\t 4        & 3        & 3        & 4        & 2        & 2.000000\\\\\n",
       "\\end{tabular}\n"
      ],
      "text/markdown": [
       "\n",
       "| q1 | q2 | q3 | q4 | q5 | q6 |\n",
       "|---|---|---|---|---|---|\n",
       "| 2        | 4        | 4        | 2        | 2        | 2.000000 |\n",
       "| 1        | 2        | 2        | 2        | 2        | 1.000000 |\n",
       "| 2        | 3        | 4        | 3        | 3        | 2.000000 |\n",
       "| 3        | 5        | 5        | 3        | 3        | 1.732051 |\n",
       "| 3        | 2        | 4        | 4        | 4        | 1.732051 |\n",
       "| 4        | 3        | 3        | 4        | 2        | 2.000000 |\n",
       "\n"
      ],
      "text/plain": [
       "  q1 q2 q3 q4 q5 q6      \n",
       "1 2  4  4  2  2  2.000000\n",
       "2 1  2  2  2  2  1.000000\n",
       "3 2  3  4  3  3  2.000000\n",
       "4 3  5  5  3  3  1.732051\n",
       "5 3  2  4  4  4  1.732051\n",
       "6 4  3  3  4  2  2.000000"
      ]
     },
     "metadata": {},
     "output_type": "display_data"
    }
   ],
   "source": [
    "# q1컬럼에서 data가 3보다 크거나 같으면 data의 제곱근을 구하고 \n",
    "# 아니면 원래 data출력하기\n",
    "ifelse(excel$q1 >= 3 , sqrt(excel$q1),excel$q1)\n",
    "excel$q6 <- ifelse(excel$q1 >= 3, sqrt(excel$q1),excel$q1)\n",
    "head(excel)"
   ]
  },
  {
   "cell_type": "markdown",
   "id": "ceramic-chemistry",
   "metadata": {},
   "source": [
    "---\n",
    "# 반복문"
   ]
  },
  {
   "cell_type": "code",
   "execution_count": 672,
   "id": "sophisticated-connection",
   "metadata": {
    "collapsed": true
   },
   "outputs": [
    {
     "name": "stdout",
     "output_type": "stream",
     "text": [
      "[1] 1\n",
      "[1] 2\n",
      "[1] 3\n",
      "[1] 1\n",
      "[1] 2\n",
      "[1] 3\n",
      "[1] 4\n",
      "[1] 5\n",
      "[1] 6\n",
      "[1] 7\n",
      "[1] 8\n",
      "[1] 9\n",
      "[1] 10\n"
     ]
    }
   ],
   "source": [
    "# 1 ~ 10까지의 숫자 출력\n",
    "print(1)\n",
    "print(2)\n",
    "print(3)\n",
    "\n",
    "for(i in 1:10){\n",
    "    print(i)\n",
    "}"
   ]
  },
  {
   "cell_type": "code",
   "execution_count": 680,
   "id": "isolated-yesterday",
   "metadata": {
    "collapsed": true
   },
   "outputs": [
    {
     "name": "stdout",
     "output_type": "stream",
     "text": [
      "  Sepal.Length Sepal.Width Petal.Length Petal.Width Species\n",
      "1          5.1         3.5          1.4         0.2  setosa\n",
      "  Sepal.Length Sepal.Width Petal.Length Petal.Width Species\n",
      "3          4.7         3.2          1.3         0.2  setosa\n",
      "  Sepal.Length Sepal.Width Petal.Length Petal.Width Species\n",
      "5            5         3.6          1.4         0.2  setosa\n"
     ]
    }
   ],
   "source": [
    "# 특정한 벡터값만 출력하기\n",
    "for(i in c(1,3,5)){\n",
    "    #print(i)\n",
    "    print(iris[i,])\n",
    "}"
   ]
  },
  {
   "cell_type": "code",
   "execution_count": 683,
   "id": "vocational-utilization",
   "metadata": {},
   "outputs": [
    {
     "name": "stdout",
     "output_type": "stream",
     "text": [
      "[1] 1\n",
      "[1] 3\n",
      "[1] 5\n",
      "[1] 7\n",
      "[1] 9\n"
     ]
    }
   ],
   "source": [
    "# 1 ~ 10 까지 홀수만 출력하기\n",
    "for(i in seq(1,10,2)){\n",
    "    print(i)\n",
    "}"
   ]
  },
  {
   "cell_type": "code",
   "execution_count": 711,
   "id": "logical-calcium",
   "metadata": {},
   "outputs": [
    {
     "name": "stdout",
     "output_type": "stream",
     "text": [
      "1 => 1 \n",
      "2 => 1.414214 \n",
      "3 => 1.732051 \n",
      "4 => 2 \n",
      "5 => 2.236068 \n",
      "6 => 2.44949 \n",
      "7 => 2.645751 \n",
      "8 => 2.828427 \n",
      "9 => 3 \n",
      "10 => 3.162278 \n"
     ]
    }
   ],
   "source": [
    "# 1 ~ 10까지의 제곱근 구하기  // cat은 줄줄줄 이어서 붙이면 된다.\n",
    "for(i in 1:10){\n",
    "    cat(i,\"=>\",sqrt(i),\"\\n\")\n",
    "}"
   ]
  },
  {
   "cell_type": "code",
   "execution_count": 717,
   "id": "fossil-excitement",
   "metadata": {},
   "outputs": [
    {
     "name": "stdout",
     "output_type": "stream",
     "text": [
      "i: 1 / total: 1 \n",
      "i: 2 / total: 3 \n",
      "i: 3 / total: 6 \n",
      "i: 4 / total: 10 \n",
      "i: 5 / total: 15 \n",
      "i: 6 / total: 21 \n",
      "i: 7 / total: 28 \n",
      "i: 8 / total: 36 \n",
      "i: 9 / total: 45 \n",
      "i: 10 / total: 55 \n",
      "[1] 55\n"
     ]
    }
   ],
   "source": [
    "# 1 ~ 10까지의 합계 구하기\n",
    "total <- 0\n",
    "for(i in 1:10){\n",
    "    total <- total + i\n",
    "    cat(\"i:\",i, \"/ total:\", total, \"\\n\")\n",
    "}\n",
    "print(total)"
   ]
  },
  {
   "cell_type": "code",
   "execution_count": 729,
   "id": "flying-freeware",
   "metadata": {},
   "outputs": [
    {
     "name": "stdout",
     "output_type": "stream",
     "text": [
      "1~100까지의 짝수의 합은 2550 입니다\n",
      "1 부터 100 의 합은 2550 입니다\n",
      "1~100까지의 짝수의 합은 2550 입니다"
     ]
    }
   ],
   "source": [
    "# 1 ~ 100 까지의 짝수의 합 구하기\n",
    "total <- 0\n",
    "data <- 1:100\n",
    "total1 <- 0\n",
    "for(i in 1:100){\n",
    "    if(i %% 2 == 0){\n",
    "        total <- total + i\n",
    "    }\n",
    "}\n",
    "cat(\"1~100까지의 짝수의 합은\",total, \"입니다\\n\")\n",
    "cat(data[1],\"부터\",data[length(data)],\"의 합은\",total,\"입니다\\n\")\n",
    "for(i in seq(2,100,2)){\n",
    "            total1 <- total1 + i\n",
    "}\n",
    "cat(\"1~100까지의 짝수의 합은\",total1, \"입니다\")\n"
   ]
  },
  {
   "cell_type": "code",
   "execution_count": 751,
   "id": "royal-label",
   "metadata": {},
   "outputs": [
    {
     "name": "stdout",
     "output_type": "stream",
     "text": [
      "홀수의 합은 604 이고 짝수의 합은 852 이다"
     ]
    }
   ],
   "source": [
    "# excel에서 q3 컬럼 데이터의 홀수의 합과 짝수의 합구하기\n",
    "num1 <- 0\n",
    "num2 <- 0\n",
    "for(i in 1:length(excel$q3)){\n",
    "    ifelse(excel$q3[i]%%2==0,num1<-num1+excel$q3[i],num2<-num2+excel$q3[i])\n",
    "}\n",
    "cat(\"홀수의 합은\",num2 ,\"이고 짝수의 합은\",num1,\"이다\")\n"
   ]
  },
  {
   "cell_type": "code",
   "execution_count": 750,
   "id": "bizarre-certification",
   "metadata": {},
   "outputs": [
    {
     "name": "stdout",
     "output_type": "stream",
     "text": [
      "홀수의 합은 604 이고 짝수의 합은 852 이다"
     ]
    }
   ],
   "source": [
    "data <- excel$q3\n",
    "sumEven <- sumOdd <- 0\n",
    "\n",
    "for(i in data){\n",
    "    if(i %% 2 == 0){\n",
    "        sumEven = sumEven + i\n",
    "    }else{\n",
    "        sumOdd = sumOdd + i\n",
    "    }\n",
    "}\n",
    "cat(\"홀수의 합은\", sumOdd,\"이고 짝수의 합은\",sumEven,\"이다\")"
   ]
  },
  {
   "cell_type": "code",
   "execution_count": 754,
   "id": "secure-reverse",
   "metadata": {},
   "outputs": [
    {
     "name": "stdout",
     "output_type": "stream",
     "text": [
      "3의 배수의 합: 216"
     ]
    }
   ],
   "source": [
    "# excel의 q3컬럼 데이터중 3의 배수의 합계를 구하시오\n",
    "data1 <- excel$q3\n",
    "sum <- 0\n",
    "for(i in data1){\n",
    "    if(i %% 3 == 0){\n",
    "        sum = sum + i\n",
    "    }\n",
    "}\n",
    "cat(\"3의 배수의 합:\",sum)"
   ]
  },
  {
   "cell_type": "code",
   "execution_count": 756,
   "id": "unlike-start",
   "metadata": {},
   "outputs": [
    {
     "name": "stdout",
     "output_type": "stream",
     "text": [
      "3, 4 의 배수의 합: 920"
     ]
    }
   ],
   "source": [
    "# excel의 q3에서 3의 배수도 되고 4의 배수도 되는수의 합계 구하기\n",
    "data2 <- excel$q3\n",
    "sum2 <- 0\n",
    "for(i in data1){\n",
    "    if(i %% 3 == 0 | i %% 4 == 0){\n",
    "        sum2 = sum2 + i\n",
    "    }\n",
    "}\n",
    "cat(\"3, 4 의 배수의 합:\",sum2)"
   ]
  },
  {
   "cell_type": "code",
   "execution_count": null,
   "id": "roman-lawsuit",
   "metadata": {},
   "outputs": [],
   "source": []
  }
 ],
 "metadata": {
  "kernelspec": {
   "display_name": "R",
   "language": "R",
   "name": "ir"
  },
  "language_info": {
   "codemirror_mode": "r",
   "file_extension": ".r",
   "mimetype": "text/x-r-source",
   "name": "R",
   "pygments_lexer": "r",
   "version": "3.6.1"
  }
 },
 "nbformat": 4,
 "nbformat_minor": 5
}
